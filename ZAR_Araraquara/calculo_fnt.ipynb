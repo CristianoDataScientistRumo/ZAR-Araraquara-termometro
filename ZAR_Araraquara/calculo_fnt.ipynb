{
 "cells": [
  {
   "cell_type": "markdown",
   "metadata": {},
   "source": [
    "## Importando as Bibliotecas"
   ]
  },
  {
   "cell_type": "code",
   "execution_count": 30,
   "metadata": {},
   "outputs": [],
   "source": [
    "import pandas as pd\n",
    "import numpy as np\n",
    "import seaborn as sns\n",
    "import matplotlib.pyplot as plt\n",
    "import plotly.express as px\n",
    "import plotly.graph_objects as go\n",
    "from sympy import symbols, integrate, Piecewise, sqrt"
   ]
  },
  {
   "cell_type": "markdown",
   "metadata": {},
   "source": [
    "## Carregar e Filtrar os Dados de 5 Anos"
   ]
  },
  {
   "cell_type": "code",
   "execution_count": 21,
   "metadata": {},
   "outputs": [
    {
     "data": {
      "text/html": [
       "<div>\n",
       "<style scoped>\n",
       "    .dataframe tbody tr th:only-of-type {\n",
       "        vertical-align: middle;\n",
       "    }\n",
       "\n",
       "    .dataframe tbody tr th {\n",
       "        vertical-align: top;\n",
       "    }\n",
       "\n",
       "    .dataframe thead th {\n",
       "        text-align: right;\n",
       "    }\n",
       "</style>\n",
       "<table border=\"1\" class=\"dataframe\">\n",
       "  <thead>\n",
       "    <tr style=\"text-align: right;\">\n",
       "      <th></th>\n",
       "      <th>data</th>\n",
       "      <th>regiao</th>\n",
       "      <th>operacao</th>\n",
       "      <th>original</th>\n",
       "      <th>temperatura_maxima</th>\n",
       "      <th>temperatura_minima</th>\n",
       "      <th>status</th>\n",
       "    </tr>\n",
       "  </thead>\n",
       "  <tbody>\n",
       "    <tr>\n",
       "      <th>0</th>\n",
       "      <td>2023-11-08</td>\n",
       "      <td>NORTE</td>\n",
       "      <td>ZSOZAR-ZARZOI3-244450</td>\n",
       "      <td>thermo_id_20001336</td>\n",
       "      <td>54.2</td>\n",
       "      <td>24.7</td>\n",
       "      <td>Normal</td>\n",
       "    </tr>\n",
       "    <tr>\n",
       "      <th>1</th>\n",
       "      <td>2023-11-09</td>\n",
       "      <td>NORTE</td>\n",
       "      <td>ZSOZAR-ZARZOI3-244450</td>\n",
       "      <td>thermo_id_20001336</td>\n",
       "      <td>49.1</td>\n",
       "      <td>19.1</td>\n",
       "      <td>Normal</td>\n",
       "    </tr>\n",
       "    <tr>\n",
       "      <th>2</th>\n",
       "      <td>2023-11-10</td>\n",
       "      <td>NORTE</td>\n",
       "      <td>ZSOZAR-ZARZOI3-244450</td>\n",
       "      <td>thermo_id_20001336</td>\n",
       "      <td>56.1</td>\n",
       "      <td>19.6</td>\n",
       "      <td>Normal</td>\n",
       "    </tr>\n",
       "    <tr>\n",
       "      <th>3</th>\n",
       "      <td>2023-11-11</td>\n",
       "      <td>NORTE</td>\n",
       "      <td>ZSOZAR-ZARZOI3-244450</td>\n",
       "      <td>thermo_id_20001336</td>\n",
       "      <td>56.4</td>\n",
       "      <td>18.8</td>\n",
       "      <td>Normal</td>\n",
       "    </tr>\n",
       "    <tr>\n",
       "      <th>4</th>\n",
       "      <td>2023-11-12</td>\n",
       "      <td>NORTE</td>\n",
       "      <td>ZSOZAR-ZARZOI3-244450</td>\n",
       "      <td>thermo_id_20001336</td>\n",
       "      <td>57.6</td>\n",
       "      <td>20.6</td>\n",
       "      <td>Normal</td>\n",
       "    </tr>\n",
       "    <tr>\n",
       "      <th>5</th>\n",
       "      <td>2023-11-13</td>\n",
       "      <td>NORTE</td>\n",
       "      <td>ZSOZAR-ZARZOI3-244450</td>\n",
       "      <td>thermo_id_20001336</td>\n",
       "      <td>55.9</td>\n",
       "      <td>20.2</td>\n",
       "      <td>Normal</td>\n",
       "    </tr>\n",
       "    <tr>\n",
       "      <th>6</th>\n",
       "      <td>2023-11-14</td>\n",
       "      <td>NORTE</td>\n",
       "      <td>ZSOZAR-ZARZOI3-244450</td>\n",
       "      <td>thermo_id_20001336</td>\n",
       "      <td>54.8</td>\n",
       "      <td>21.0</td>\n",
       "      <td>Normal</td>\n",
       "    </tr>\n",
       "    <tr>\n",
       "      <th>7</th>\n",
       "      <td>2023-11-15</td>\n",
       "      <td>NORTE</td>\n",
       "      <td>ZSOZAR-ZARZOI3-244450</td>\n",
       "      <td>thermo_id_20001336</td>\n",
       "      <td>57.3</td>\n",
       "      <td>18.8</td>\n",
       "      <td>Normal</td>\n",
       "    </tr>\n",
       "    <tr>\n",
       "      <th>8</th>\n",
       "      <td>2023-11-16</td>\n",
       "      <td>NORTE</td>\n",
       "      <td>ZSOZAR-ZARZOI3-244450</td>\n",
       "      <td>thermo_id_20001336</td>\n",
       "      <td>52.1</td>\n",
       "      <td>18.8</td>\n",
       "      <td>Normal</td>\n",
       "    </tr>\n",
       "    <tr>\n",
       "      <th>9</th>\n",
       "      <td>2023-11-17</td>\n",
       "      <td>NORTE</td>\n",
       "      <td>ZSOZAR-ZARZOI3-244450</td>\n",
       "      <td>thermo_id_20001336</td>\n",
       "      <td>54.7</td>\n",
       "      <td>21.8</td>\n",
       "      <td>Normal</td>\n",
       "    </tr>\n",
       "  </tbody>\n",
       "</table>\n",
       "</div>"
      ],
      "text/plain": [
       "         data regiao               operacao            original  \\\n",
       "0  2023-11-08  NORTE  ZSOZAR-ZARZOI3-244450  thermo_id_20001336   \n",
       "1  2023-11-09  NORTE  ZSOZAR-ZARZOI3-244450  thermo_id_20001336   \n",
       "2  2023-11-10  NORTE  ZSOZAR-ZARZOI3-244450  thermo_id_20001336   \n",
       "3  2023-11-11  NORTE  ZSOZAR-ZARZOI3-244450  thermo_id_20001336   \n",
       "4  2023-11-12  NORTE  ZSOZAR-ZARZOI3-244450  thermo_id_20001336   \n",
       "5  2023-11-13  NORTE  ZSOZAR-ZARZOI3-244450  thermo_id_20001336   \n",
       "6  2023-11-14  NORTE  ZSOZAR-ZARZOI3-244450  thermo_id_20001336   \n",
       "7  2023-11-15  NORTE  ZSOZAR-ZARZOI3-244450  thermo_id_20001336   \n",
       "8  2023-11-16  NORTE  ZSOZAR-ZARZOI3-244450  thermo_id_20001336   \n",
       "9  2023-11-17  NORTE  ZSOZAR-ZARZOI3-244450  thermo_id_20001336   \n",
       "\n",
       "   temperatura_maxima  temperatura_minima  status  \n",
       "0                54.2                24.7  Normal  \n",
       "1                49.1                19.1  Normal  \n",
       "2                56.1                19.6  Normal  \n",
       "3                56.4                18.8  Normal  \n",
       "4                57.6                20.6  Normal  \n",
       "5                55.9                20.2  Normal  \n",
       "6                54.8                21.0  Normal  \n",
       "7                57.3                18.8  Normal  \n",
       "8                52.1                18.8  Normal  \n",
       "9                54.7                21.8  Normal  "
      ]
     },
     "execution_count": 21,
     "metadata": {},
     "output_type": "execute_result"
    }
   ],
   "source": [
    "df = pd.read_csv(\"C:/Users/Cristiano/OneDrive - Belago Technologies/Documentos/projeto_fnt/data/base_completa_araraquara.csv\")\n",
    "df.head(10)\n"
   ]
  },
  {
   "cell_type": "code",
   "execution_count": null,
   "metadata": {},
   "outputs": [
    {
     "name": "stdout",
     "output_type": "stream",
     "text": [
      "                    Categoria       Mínimo       Máximo  Início FTN  \\\n",
      "0              Min/Max Máximo  -200.000000  1370.000000  585.000000   \n",
      "1              Min/Max Mínimo -1200.000000   850.000000 -175.000000   \n",
      "2       Min/Max 4Sigma Máximo    -9.000000   236.000000  113.500000   \n",
      "3       Min/Max 4Sigma Mínimo  -120.000000    90.000000  -15.000000   \n",
      "4  Centro de Gravidade Máximo    46.608549  1858.688392   46.608549   \n",
      "5  Centro de Gravidade Mínimo    17.069218  3579.608835   17.069218   \n",
      "\n",
      "   Centro FTN     Fim FTN  \n",
      "0  590.000000  595.000000  \n",
      "1 -170.000000 -165.000000  \n",
      "2  118.500000  123.500000  \n",
      "3  -10.000000   -5.000000  \n",
      "4   56.608549   56.608549  \n",
      "5   27.069218   27.069218  \n"
     ]
    }
   ],
   "source": [
    "# Definir variáveis simbólicas\n",
    "x = symbols('x')\n",
    "\n",
    "# 3a) Cálculo do Centro de Gravidade\n",
    "def calcular_centro_gravidade(df, coluna_temperatura):\n",
    "    # Verificar se a coluna possui valores não nulos\n",
    "    if df[coluna_temperatura].isnull().sum() > 0:\n",
    "        raise ValueError(f\"A coluna {coluna_temperatura} possui valores nulos.\")\n",
    "    \n",
    "    # Agrupar em blocos de 2 graus\n",
    "    bins = np.arange(df[coluna_temperatura].min() - 1, df[coluna_temperatura].max() + 1, 2)\n",
    "    df['bloco'] = pd.cut(df[coluna_temperatura], bins=bins)\n",
    "\n",
    "    # Contar quantidade de dias em cada bloco\n",
    "    blocos = df.groupby('bloco', observed=False).size().reset_index(name='quantidade')\n",
    "\n",
    "    # Calcular X como o ponto médio do intervalo do bloco\n",
    "    blocos['X'] = blocos['bloco'].apply(lambda x: (x.left + x.right) / 2 if not pd.isnull(x) else np.nan)\n",
    "\n",
    "    # Garantir que os cálculos são feitos apenas com valores numéricos\n",
    "    blocos['Y'] = blocos['quantidade'] / 2\n",
    "    blocos['Area'] = 2 * blocos['quantidade']\n",
    "\n",
    "    # Converter 'X' e 'Y' para numéricos antes de realizar as multiplicações\n",
    "    blocos['X'] = pd.to_numeric(blocos['X'], errors='coerce')\n",
    "    blocos['MX'] = blocos['Area'] * blocos['X']\n",
    "    blocos['MY'] = blocos['Area'] * blocos['Y']\n",
    "\n",
    "    # Centro de Gravidade\n",
    "    somatorio_area = blocos['Area'].sum()\n",
    "    cg_x = blocos['MX'].sum() / somatorio_area\n",
    "    cg_y = blocos['MY'].sum() / somatorio_area\n",
    "\n",
    "    # Faixa de Temperatura Neutra (FTN)\n",
    "    ftn_centro = cg_x + 5\n",
    "    ftn_inicio = cg_x\n",
    "    ftn_fim = cg_x + 10\n",
    "\n",
    "    return cg_x, cg_y, ftn_inicio, ftn_fim\n",
    "\n",
    "# 3b) Min/Max usando SymPy\n",
    "def calcular_min_max_sympy(df, coluna_temperatura):\n",
    "    minimo = df[coluna_temperatura].min()\n",
    "    maximo = df[coluna_temperatura].max()\n",
    "    \n",
    "    # FTN usando média\n",
    "    inicio_ftn = (minimo + maximo) / 2\n",
    "    centro_ftn = inicio_ftn + 5\n",
    "    fim_ftn = inicio_ftn + 10\n",
    "    \n",
    "    return minimo, maximo, inicio_ftn, centro_ftn, fim_ftn\n",
    "\n",
    "# 3c) Min/Max com 4Sigma usando SymPy\n",
    "def calcular_min_max_4sigma_sympy(df, coluna_temperatura):\n",
    "    if df[coluna_temperatura].isnull().sum() > 0:\n",
    "        raise ValueError(f\"A coluna {coluna_temperatura} possui valores nulos.\")\n",
    "    \n",
    "    media = df[coluna_temperatura].mean()\n",
    "    desvio_padrao = df[coluna_temperatura].std()\n",
    "    \n",
    "    # Limites de 4 Sigma\n",
    "    limite_inferior = media - 4 * desvio_padrao\n",
    "    limite_superior = media + 4 * desvio_padrao\n",
    "    \n",
    "    # Filtrar os valores dentro dos limites\n",
    "    df_filtrado = df[(df[coluna_temperatura] >= limite_inferior) & (df[coluna_temperatura] <= limite_superior)]\n",
    "    \n",
    "    # Recalcular Min/Max\n",
    "    minimo, maximo, inicio_ftn, centro_ftn, fim_ftn = calcular_min_max_sympy(df_filtrado, coluna_temperatura)\n",
    "    return minimo, maximo, inicio_ftn, centro_ftn, fim_ftn\n",
    "\n",
    "# Calcular os valores\n",
    "try:\n",
    "    # Min/Max\n",
    "    min_max = calcular_min_max_sympy(df_araraquara, 'temperatura_maxima')\n",
    "    min_min = calcular_min_max_sympy(df_araraquara, 'temperatura_minima')\n",
    "    \n",
    "    # Min/Max com 4Sigma\n",
    "    min_max_4sigma = calcular_min_max_4sigma_sympy(df_araraquara, 'temperatura_maxima')\n",
    "    min_min_4sigma = calcular_min_max_4sigma_sympy(df_araraquara, 'temperatura_minima')\n",
    "    \n",
    "    # Centro de Gravidade\n",
    "    cg_x_max, cg_y_max, ftn_inicio_max, ftn_fim_max = calcular_centro_gravidade(df_araraquara, 'temperatura_maxima')\n",
    "    cg_x_min, cg_y_min, ftn_inicio_min, ftn_fim_min = calcular_centro_gravidade(df_araraquara, 'temperatura_minima')\n",
    "    \n",
    "    # Criar um dicionário com os resultados\n",
    "    resultados = {\n",
    "        \"Categoria\": [\n",
    "            \"Min/Max Máximo\", \"Min/Max Mínimo\", \n",
    "            \"Min/Max 4Sigma Máximo\", \"Min/Max 4Sigma Mínimo\",\n",
    "            \"Centro de Gravidade Máximo\", \"Centro de Gravidade Mínimo\"\n",
    "        ],\n",
    "        \"Mínimo\": [\n",
    "            min_max[0], min_min[0], min_max_4sigma[0], min_min_4sigma[0], cg_x_max, cg_x_min\n",
    "        ],\n",
    "        \"Máximo\": [\n",
    "            min_max[1], min_min[1], min_max_4sigma[1], min_min_4sigma[1], cg_y_max, cg_y_min\n",
    "        ],\n",
    "        \"Início FTN\": [\n",
    "            min_max[2], min_min[2], min_max_4sigma[2], min_min_4sigma[2], ftn_inicio_max, ftn_inicio_min\n",
    "        ],\n",
    "        \"Centro FTN\": [\n",
    "            min_max[3], min_min[3], min_max_4sigma[3], min_min_4sigma[3], ftn_fim_max, ftn_fim_min\n",
    "        ],\n",
    "        \"Fim FTN\": [\n",
    "            min_max[4], min_min[4], min_max_4sigma[4], min_min_4sigma[4], ftn_fim_max, ftn_fim_min\n",
    "        ]\n",
    "    }\n",
    "\n",
    "    # Criar o DataFrame\n",
    "    df_resultados = pd.DataFrame(resultados)\n",
    "    print(df_resultados)\n",
    "    \n",
    "except Exception as e:\n",
    "    print(f\"Erro ao calcular Min/Max: {e}\")\n"
   ]
  },
  {
   "cell_type": "markdown",
   "metadata": {},
   "source": [
    "## Gráfico 01 Temperaturas Máximas e Mínimas por Ano em Araraquara"
   ]
  },
  {
   "cell_type": "code",
   "execution_count": 17,
   "metadata": {},
   "outputs": [
    {
     "data": {
      "application/vnd.plotly.v1+json": {
       "config": {
        "plotlyServerURL": "https://plot.ly"
       },
       "data": [
        {
         "hovertemplate": "variable=temperatura_maxima<br>Ano=%{x}<br>value=%{y}<extra></extra>",
         "legendgroup": "temperatura_maxima",
         "line": {
          "color": "#000001",
          "dash": "solid"
         },
         "marker": {
          "symbol": "circle"
         },
         "mode": "lines",
         "name": "temperatura_maxima",
         "orientation": "v",
         "showlegend": true,
         "type": "scatter",
         "x": [
          2007,
          2008,
          2009,
          2010,
          2011,
          2012,
          2013,
          2014,
          2015,
          2016,
          2017,
          2018,
          2019,
          2020,
          2021,
          2023,
          2024
         ],
         "xaxis": "x",
         "y": [
          45.5353982300885,
          41.24648506151142,
          42.33905579399141,
          45.98476297968397,
          45.9680139575458,
          46.01802849665601,
          51.04075729687089,
          47.14458724666337,
          45.57735011102887,
          45.108741504569956,
          58.2415516420752,
          56.262962101836784,
          45.143099273607746,
          43.70549587809143,
          43.187227359972084,
          52.146341463414636,
          43.62630057803469
         ],
         "yaxis": "y"
        },
        {
         "hovertemplate": "variable=temperatura_minima<br>Ano=%{x}<br>value=%{y}<extra></extra>",
         "legendgroup": "temperatura_minima",
         "line": {
          "color": "#000002",
          "dash": "solid"
         },
         "marker": {
          "symbol": "circle"
         },
         "mode": "lines",
         "name": "temperatura_minima",
         "orientation": "v",
         "showlegend": true,
         "type": "scatter",
         "x": [
          2007,
          2008,
          2009,
          2010,
          2011,
          2012,
          2013,
          2014,
          2015,
          2016,
          2017,
          2018,
          2019,
          2020,
          2021,
          2023,
          2024
         ],
         "xaxis": "x",
         "y": [
          16.756637168141594,
          16.06678383128295,
          17.360157367668098,
          18.664503386004515,
          19.995056702529805,
          16.621110788019774,
          24.134893505127533,
          18.232081067721207,
          17.431778929188255,
          16.223107569721115,
          27.09186101856259,
          17.84561729830272,
          17.237046004842615,
          16.42737946540095,
          16.41190019193858,
          19.197560975609758,
          15.93670520231214
         ],
         "yaxis": "y"
        }
       ],
       "layout": {
        "legend": {
         "title": {
          "text": "variable"
         },
         "tracegroupgap": 0
        },
        "template": {
         "data": {
          "candlestick": [
           {
            "decreasing": {
             "line": {
              "color": "#000033"
             }
            },
            "increasing": {
             "line": {
              "color": "#000032"
             }
            },
            "type": "candlestick"
           }
          ],
          "contour": [
           {
            "colorscale": [
             [
              0,
              "#000011"
             ],
             [
              0.1111111111111111,
              "#000012"
             ],
             [
              0.2222222222222222,
              "#000013"
             ],
             [
              0.3333333333333333,
              "#000014"
             ],
             [
              0.4444444444444444,
              "#000015"
             ],
             [
              0.5555555555555556,
              "#000016"
             ],
             [
              0.6666666666666666,
              "#000017"
             ],
             [
              0.7777777777777778,
              "#000018"
             ],
             [
              0.8888888888888888,
              "#000019"
             ],
             [
              1,
              "#000020"
             ]
            ],
            "type": "contour"
           }
          ],
          "contourcarpet": [
           {
            "colorscale": [
             [
              0,
              "#000011"
             ],
             [
              0.1111111111111111,
              "#000012"
             ],
             [
              0.2222222222222222,
              "#000013"
             ],
             [
              0.3333333333333333,
              "#000014"
             ],
             [
              0.4444444444444444,
              "#000015"
             ],
             [
              0.5555555555555556,
              "#000016"
             ],
             [
              0.6666666666666666,
              "#000017"
             ],
             [
              0.7777777777777778,
              "#000018"
             ],
             [
              0.8888888888888888,
              "#000019"
             ],
             [
              1,
              "#000020"
             ]
            ],
            "type": "contourcarpet"
           }
          ],
          "heatmap": [
           {
            "colorscale": [
             [
              0,
              "#000011"
             ],
             [
              0.1111111111111111,
              "#000012"
             ],
             [
              0.2222222222222222,
              "#000013"
             ],
             [
              0.3333333333333333,
              "#000014"
             ],
             [
              0.4444444444444444,
              "#000015"
             ],
             [
              0.5555555555555556,
              "#000016"
             ],
             [
              0.6666666666666666,
              "#000017"
             ],
             [
              0.7777777777777778,
              "#000018"
             ],
             [
              0.8888888888888888,
              "#000019"
             ],
             [
              1,
              "#000020"
             ]
            ],
            "type": "heatmap"
           }
          ],
          "histogram2d": [
           {
            "colorscale": [
             [
              0,
              "#000011"
             ],
             [
              0.1111111111111111,
              "#000012"
             ],
             [
              0.2222222222222222,
              "#000013"
             ],
             [
              0.3333333333333333,
              "#000014"
             ],
             [
              0.4444444444444444,
              "#000015"
             ],
             [
              0.5555555555555556,
              "#000016"
             ],
             [
              0.6666666666666666,
              "#000017"
             ],
             [
              0.7777777777777778,
              "#000018"
             ],
             [
              0.8888888888888888,
              "#000019"
             ],
             [
              1,
              "#000020"
             ]
            ],
            "type": "histogram2d"
           }
          ],
          "icicle": [
           {
            "textfont": {
             "color": "white"
            },
            "type": "icicle"
           }
          ],
          "sankey": [
           {
            "textfont": {
             "color": "#000036"
            },
            "type": "sankey"
           }
          ],
          "scatter": [
           {
            "marker": {
             "line": {
              "width": 0
             }
            },
            "type": "scatter"
           }
          ],
          "table": [
           {
            "cells": {
             "fill": {
              "color": "#000038"
             },
             "font": {
              "color": "#000037"
             },
             "line": {
              "color": "#000039"
             }
            },
            "header": {
             "fill": {
              "color": "#000040"
             },
             "font": {
              "color": "#000036"
             },
             "line": {
              "color": "#000039"
             }
            },
            "type": "table"
           }
          ],
          "waterfall": [
           {
            "connector": {
             "line": {
              "color": "#000036",
              "width": 2
             }
            },
            "decreasing": {
             "marker": {
              "color": "#000033"
             }
            },
            "increasing": {
             "marker": {
              "color": "#000032"
             }
            },
            "totals": {
             "marker": {
              "color": "#000034"
             }
            },
            "type": "waterfall"
           }
          ]
         },
         "layout": {
          "coloraxis": {
           "colorscale": [
            [
             0,
             "#000011"
            ],
            [
             0.1111111111111111,
             "#000012"
            ],
            [
             0.2222222222222222,
             "#000013"
            ],
            [
             0.3333333333333333,
             "#000014"
            ],
            [
             0.4444444444444444,
             "#000015"
            ],
            [
             0.5555555555555556,
             "#000016"
            ],
            [
             0.6666666666666666,
             "#000017"
            ],
            [
             0.7777777777777778,
             "#000018"
            ],
            [
             0.8888888888888888,
             "#000019"
            ],
            [
             1,
             "#000020"
            ]
           ]
          },
          "colorscale": {
           "diverging": [
            [
             0,
             "#000021"
            ],
            [
             0.1,
             "#000022"
            ],
            [
             0.2,
             "#000023"
            ],
            [
             0.3,
             "#000024"
            ],
            [
             0.4,
             "#000025"
            ],
            [
             0.5,
             "#000026"
            ],
            [
             0.6,
             "#000027"
            ],
            [
             0.7,
             "#000028"
            ],
            [
             0.8,
             "#000029"
            ],
            [
             0.9,
             "#000030"
            ],
            [
             1,
             "#000031"
            ]
           ],
           "sequential": [
            [
             0,
             "#000011"
            ],
            [
             0.1111111111111111,
             "#000012"
            ],
            [
             0.2222222222222222,
             "#000013"
            ],
            [
             0.3333333333333333,
             "#000014"
            ],
            [
             0.4444444444444444,
             "#000015"
            ],
            [
             0.5555555555555556,
             "#000016"
            ],
            [
             0.6666666666666666,
             "#000017"
            ],
            [
             0.7777777777777778,
             "#000018"
            ],
            [
             0.8888888888888888,
             "#000019"
            ],
            [
             1,
             "#000020"
            ]
           ],
           "sequentialminus": [
            [
             0,
             "#000011"
            ],
            [
             0.1111111111111111,
             "#000012"
            ],
            [
             0.2222222222222222,
             "#000013"
            ],
            [
             0.3333333333333333,
             "#000014"
            ],
            [
             0.4444444444444444,
             "#000015"
            ],
            [
             0.5555555555555556,
             "#000016"
            ],
            [
             0.6666666666666666,
             "#000017"
            ],
            [
             0.7777777777777778,
             "#000018"
            ],
            [
             0.8888888888888888,
             "#000019"
            ],
            [
             1,
             "#000020"
            ]
           ]
          },
          "colorway": [
           "#000001",
           "#000002",
           "#000003",
           "#000004",
           "#000005",
           "#000006",
           "#000007",
           "#000008",
           "#000009",
           "#000010"
          ]
         }
        },
        "title": {
         "text": "Temperaturas Máximas e Mínimas por Ano em Araraquara"
        },
        "xaxis": {
         "anchor": "y",
         "domain": [
          0,
          1
         ],
         "title": {
          "text": "Ano"
         }
        },
        "yaxis": {
         "anchor": "x",
         "domain": [
          0,
          1
         ],
         "title": {
          "text": "value"
         }
        }
       }
      }
     },
     "metadata": {},
     "output_type": "display_data"
    }
   ],
   "source": [
    "df_araraquara['data'] = pd.to_datetime(df_araraquara['data'])\n",
    "\n",
    "df_araraquara['ano'] = df_araraquara['data'].dt.year\n",
    "\n",
    "df_ano = df_araraquara.groupby('ano')[['temperatura_maxima', 'temperatura_minima']].mean().reset_index()\n",
    "\n",
    "fig = px.line(df_ano, x='ano', y=['temperatura_maxima', 'temperatura_minima'],\n",
    "              labels={'temperatura_maxima': 'Temperatura Máxima (°C)', 'temperatura_minima': 'Temperatura Mínima (°C)', 'ano': 'Ano'},\n",
    "              title='Temperaturas Máximas e Mínimas por Ano em Araraquara')\n",
    "\n",
    "fig.show()\n"
   ]
  },
  {
   "cell_type": "markdown",
   "metadata": {},
   "source": [
    "## Gráfico 02 Temperaturas Máximas e Mínimas por Ano em Araraquara"
   ]
  },
  {
   "cell_type": "code",
   "execution_count": 11,
   "metadata": {},
   "outputs": [
    {
     "data": {
      "application/vnd.plotly.v1+json": {
       "config": {
        "plotlyServerURL": "https://plot.ly"
       },
       "data": [
        {
         "connectgaps": true,
         "line": {
          "color": "rgb(255, 99, 71)",
          "width": 3
         },
         "mode": "lines",
         "name": "Temperatura Máxima",
         "type": "scatter",
         "x": [
          2007,
          2008,
          2009,
          2010,
          2011,
          2012,
          2013,
          2014,
          2015,
          2016,
          2017,
          2018,
          2019,
          2020,
          2021,
          2023,
          2024
         ],
         "y": [
          45.5353982300885,
          41.24648506151142,
          42.33905579399141,
          45.98476297968397,
          45.9680139575458,
          46.01802849665601,
          51.04075729687089,
          47.14458724666337,
          45.57735011102887,
          45.108741504569956,
          58.2415516420752,
          56.262962101836784,
          45.143099273607746,
          43.70549587809143,
          43.187227359972084,
          52.146341463414636,
          43.62630057803469
         ]
        },
        {
         "connectgaps": true,
         "line": {
          "color": "rgb(70,130,180)",
          "width": 3
         },
         "mode": "lines",
         "name": "Temperatura Mínima",
         "type": "scatter",
         "x": [
          2007,
          2008,
          2009,
          2010,
          2011,
          2012,
          2013,
          2014,
          2015,
          2016,
          2017,
          2018,
          2019,
          2020,
          2021,
          2023,
          2024
         ],
         "y": [
          16.756637168141594,
          16.06678383128295,
          17.360157367668098,
          18.664503386004515,
          19.995056702529805,
          16.621110788019774,
          24.134893505127533,
          18.232081067721207,
          17.431778929188255,
          16.223107569721115,
          27.09186101856259,
          17.84561729830272,
          17.237046004842615,
          16.42737946540095,
          16.41190019193858,
          19.197560975609758,
          15.93670520231214
         ]
        },
        {
         "marker": {
          "color": "rgb(255, 99, 71)",
          "size": 10
         },
         "mode": "markers",
         "showlegend": false,
         "type": "scatter",
         "x": [
          2007,
          2024
         ],
         "y": [
          45.5353982300885,
          43.62630057803469
         ]
        },
        {
         "marker": {
          "color": "rgb(70,130,180)",
          "size": 10
         },
         "mode": "markers",
         "showlegend": false,
         "type": "scatter",
         "x": [
          2007,
          2024
         ],
         "y": [
          16.756637168141594,
          15.93670520231214
         ]
        },
        {
         "mode": "text",
         "showlegend": false,
         "text": [
          "45.54°C"
         ],
         "textposition": "top right",
         "type": "scatter",
         "x": [
          2007
         ],
         "y": [
          45.5353982300885
         ]
        },
        {
         "mode": "text",
         "showlegend": false,
         "text": [
          "43.63°C"
         ],
         "textposition": "top right",
         "type": "scatter",
         "x": [
          2024
         ],
         "y": [
          43.62630057803469
         ]
        },
        {
         "mode": "text",
         "showlegend": false,
         "text": [
          "16.76°C"
         ],
         "textposition": "top right",
         "type": "scatter",
         "x": [
          2007
         ],
         "y": [
          16.756637168141594
         ]
        },
        {
         "mode": "text",
         "showlegend": false,
         "text": [
          "15.94°C"
         ],
         "textposition": "top right",
         "type": "scatter",
         "x": [
          2024
         ],
         "y": [
          15.93670520231214
         ]
        }
       ],
       "layout": {
        "autosize": false,
        "height": 600,
        "margin": {
         "autoexpand": false,
         "l": 100,
         "r": 20,
         "t": 110
        },
        "plot_bgcolor": "white",
        "template": {
         "data": {
          "candlestick": [
           {
            "decreasing": {
             "line": {
              "color": "#000033"
             }
            },
            "increasing": {
             "line": {
              "color": "#000032"
             }
            },
            "type": "candlestick"
           }
          ],
          "contour": [
           {
            "colorscale": [
             [
              0,
              "#000011"
             ],
             [
              0.1111111111111111,
              "#000012"
             ],
             [
              0.2222222222222222,
              "#000013"
             ],
             [
              0.3333333333333333,
              "#000014"
             ],
             [
              0.4444444444444444,
              "#000015"
             ],
             [
              0.5555555555555556,
              "#000016"
             ],
             [
              0.6666666666666666,
              "#000017"
             ],
             [
              0.7777777777777778,
              "#000018"
             ],
             [
              0.8888888888888888,
              "#000019"
             ],
             [
              1,
              "#000020"
             ]
            ],
            "type": "contour"
           }
          ],
          "contourcarpet": [
           {
            "colorscale": [
             [
              0,
              "#000011"
             ],
             [
              0.1111111111111111,
              "#000012"
             ],
             [
              0.2222222222222222,
              "#000013"
             ],
             [
              0.3333333333333333,
              "#000014"
             ],
             [
              0.4444444444444444,
              "#000015"
             ],
             [
              0.5555555555555556,
              "#000016"
             ],
             [
              0.6666666666666666,
              "#000017"
             ],
             [
              0.7777777777777778,
              "#000018"
             ],
             [
              0.8888888888888888,
              "#000019"
             ],
             [
              1,
              "#000020"
             ]
            ],
            "type": "contourcarpet"
           }
          ],
          "heatmap": [
           {
            "colorscale": [
             [
              0,
              "#000011"
             ],
             [
              0.1111111111111111,
              "#000012"
             ],
             [
              0.2222222222222222,
              "#000013"
             ],
             [
              0.3333333333333333,
              "#000014"
             ],
             [
              0.4444444444444444,
              "#000015"
             ],
             [
              0.5555555555555556,
              "#000016"
             ],
             [
              0.6666666666666666,
              "#000017"
             ],
             [
              0.7777777777777778,
              "#000018"
             ],
             [
              0.8888888888888888,
              "#000019"
             ],
             [
              1,
              "#000020"
             ]
            ],
            "type": "heatmap"
           }
          ],
          "histogram2d": [
           {
            "colorscale": [
             [
              0,
              "#000011"
             ],
             [
              0.1111111111111111,
              "#000012"
             ],
             [
              0.2222222222222222,
              "#000013"
             ],
             [
              0.3333333333333333,
              "#000014"
             ],
             [
              0.4444444444444444,
              "#000015"
             ],
             [
              0.5555555555555556,
              "#000016"
             ],
             [
              0.6666666666666666,
              "#000017"
             ],
             [
              0.7777777777777778,
              "#000018"
             ],
             [
              0.8888888888888888,
              "#000019"
             ],
             [
              1,
              "#000020"
             ]
            ],
            "type": "histogram2d"
           }
          ],
          "icicle": [
           {
            "textfont": {
             "color": "white"
            },
            "type": "icicle"
           }
          ],
          "sankey": [
           {
            "textfont": {
             "color": "#000036"
            },
            "type": "sankey"
           }
          ],
          "scatter": [
           {
            "marker": {
             "line": {
              "width": 0
             }
            },
            "type": "scatter"
           }
          ],
          "table": [
           {
            "cells": {
             "fill": {
              "color": "#000038"
             },
             "font": {
              "color": "#000037"
             },
             "line": {
              "color": "#000039"
             }
            },
            "header": {
             "fill": {
              "color": "#000040"
             },
             "font": {
              "color": "#000036"
             },
             "line": {
              "color": "#000039"
             }
            },
            "type": "table"
           }
          ],
          "waterfall": [
           {
            "connector": {
             "line": {
              "color": "#000036",
              "width": 2
             }
            },
            "decreasing": {
             "marker": {
              "color": "#000033"
             }
            },
            "increasing": {
             "marker": {
              "color": "#000032"
             }
            },
            "totals": {
             "marker": {
              "color": "#000034"
             }
            },
            "type": "waterfall"
           }
          ]
         },
         "layout": {
          "coloraxis": {
           "colorscale": [
            [
             0,
             "#000011"
            ],
            [
             0.1111111111111111,
             "#000012"
            ],
            [
             0.2222222222222222,
             "#000013"
            ],
            [
             0.3333333333333333,
             "#000014"
            ],
            [
             0.4444444444444444,
             "#000015"
            ],
            [
             0.5555555555555556,
             "#000016"
            ],
            [
             0.6666666666666666,
             "#000017"
            ],
            [
             0.7777777777777778,
             "#000018"
            ],
            [
             0.8888888888888888,
             "#000019"
            ],
            [
             1,
             "#000020"
            ]
           ]
          },
          "colorscale": {
           "diverging": [
            [
             0,
             "#000021"
            ],
            [
             0.1,
             "#000022"
            ],
            [
             0.2,
             "#000023"
            ],
            [
             0.3,
             "#000024"
            ],
            [
             0.4,
             "#000025"
            ],
            [
             0.5,
             "#000026"
            ],
            [
             0.6,
             "#000027"
            ],
            [
             0.7,
             "#000028"
            ],
            [
             0.8,
             "#000029"
            ],
            [
             0.9,
             "#000030"
            ],
            [
             1,
             "#000031"
            ]
           ],
           "sequential": [
            [
             0,
             "#000011"
            ],
            [
             0.1111111111111111,
             "#000012"
            ],
            [
             0.2222222222222222,
             "#000013"
            ],
            [
             0.3333333333333333,
             "#000014"
            ],
            [
             0.4444444444444444,
             "#000015"
            ],
            [
             0.5555555555555556,
             "#000016"
            ],
            [
             0.6666666666666666,
             "#000017"
            ],
            [
             0.7777777777777778,
             "#000018"
            ],
            [
             0.8888888888888888,
             "#000019"
            ],
            [
             1,
             "#000020"
            ]
           ],
           "sequentialminus": [
            [
             0,
             "#000011"
            ],
            [
             0.1111111111111111,
             "#000012"
            ],
            [
             0.2222222222222222,
             "#000013"
            ],
            [
             0.3333333333333333,
             "#000014"
            ],
            [
             0.4444444444444444,
             "#000015"
            ],
            [
             0.5555555555555556,
             "#000016"
            ],
            [
             0.6666666666666666,
             "#000017"
            ],
            [
             0.7777777777777778,
             "#000018"
            ],
            [
             0.8888888888888888,
             "#000019"
            ],
            [
             1,
             "#000020"
            ]
           ]
          },
          "colorway": [
           "#000001",
           "#000002",
           "#000003",
           "#000004",
           "#000005",
           "#000006",
           "#000007",
           "#000008",
           "#000009",
           "#000010"
          ]
         }
        },
        "title": {
         "text": "Temperaturas Máximas e Mínimas por Ano em Araraquara"
        },
        "width": 1100,
        "xaxis": {
         "linecolor": "rgb(204, 204, 204)",
         "linewidth": 2,
         "showgrid": false,
         "showline": true,
         "showticklabels": true,
         "tickfont": {
          "color": "rgb(82, 82, 82)",
          "family": "Arial",
          "size": 12
         },
         "ticks": "outside"
        },
        "yaxis": {
         "showgrid": false,
         "showline": false,
         "showticklabels": true,
         "title": {
          "text": "Temperatura (°C)"
         },
         "zeroline": false
        }
       }
      }
     },
     "metadata": {},
     "output_type": "display_data"
    }
   ],
   "source": [
    "df_araraquara['data'] = pd.to_datetime(df_araraquara['data'])\n",
    "df_araraquara['ano'] = df_araraquara['data'].dt.year\n",
    "\n",
    "df_ano = df_araraquara.groupby('ano')[['temperatura_maxima', 'temperatura_minima']].mean().reset_index()\n",
    "\n",
    "x_data = df_ano['ano'].values\n",
    "y_data_max = df_ano['temperatura_maxima'].values\n",
    "y_data_min = df_ano['temperatura_minima'].values\n",
    "\n",
    "colors = ['rgb(255, 99, 71)', 'rgb(70,130,180)'] \n",
    "mode_size = [10, 10]\n",
    "line_size = [3, 3]\n",
    "\n",
    "fig = go.Figure()\n",
    "\n",
    "fig.add_trace(go.Scatter(x=x_data, y=y_data_max, mode='lines',\n",
    "                         name='Temperatura Máxima',\n",
    "                         line=dict(color=colors[0], width=line_size[0]),\n",
    "                         connectgaps=True))\n",
    "\n",
    "fig.add_trace(go.Scatter(x=x_data, y=y_data_min, mode='lines',\n",
    "                         name='Temperatura Mínima',\n",
    "                         line=dict(color=colors[1], width=line_size[1]),\n",
    "                         connectgaps=True))\n",
    "\n",
    "fig.add_trace(go.Scatter(\n",
    "    x=[x_data[0], x_data[-1]], \n",
    "    y=[y_data_max[0], y_data_max[-1]], \n",
    "    mode='markers',\n",
    "    marker=dict(color=colors[0], size=mode_size[0]),\n",
    "    showlegend=False\n",
    "))\n",
    "\n",
    "fig.add_trace(go.Scatter(\n",
    "    x=[x_data[0], x_data[-1]], \n",
    "    y=[y_data_min[0], y_data_min[-1]], \n",
    "    mode='markers',\n",
    "    marker=dict(color=colors[1], size=mode_size[1]),\n",
    "    showlegend=False\n",
    "))\n",
    "\n",
    "fig.add_trace(go.Scatter(\n",
    "    x=[x_data[0]], \n",
    "    y=[y_data_max[0]], \n",
    "    mode='text', \n",
    "    text=[f'{y_data_max[0]:.2f}°C'], \n",
    "    textposition='top right', \n",
    "    showlegend=False\n",
    "))\n",
    "\n",
    "fig.add_trace(go.Scatter(\n",
    "    x=[x_data[-1]], \n",
    "    y=[y_data_max[-1]], \n",
    "    mode='text', \n",
    "    text=[f'{y_data_max[-1]:.2f}°C'], \n",
    "    textposition='top right', \n",
    "    showlegend=False\n",
    "))\n",
    "\n",
    "fig.add_trace(go.Scatter(\n",
    "    x=[x_data[0]], \n",
    "    y=[y_data_min[0]], \n",
    "    mode='text', \n",
    "    text=[f'{y_data_min[0]:.2f}°C'], \n",
    "    textposition='top right', \n",
    "    showlegend=False\n",
    "))\n",
    "\n",
    "fig.add_trace(go.Scatter(\n",
    "    x=[x_data[-1]], \n",
    "    y=[y_data_min[-1]], \n",
    "    mode='text', \n",
    "    text=[f'{y_data_min[-1]:.2f}°C'], \n",
    "    textposition='top right', \n",
    "    showlegend=False\n",
    "))\n",
    "\n",
    "fig.update_layout(\n",
    "    title='Temperaturas Máximas e Mínimas por Ano em Araraquara',\n",
    "    xaxis=dict(\n",
    "        showline=True,\n",
    "        showgrid=False,\n",
    "        showticklabels=True,\n",
    "        linecolor='rgb(204, 204, 204)',\n",
    "        linewidth=2,\n",
    "        ticks='outside',\n",
    "        tickfont=dict(family='Arial', size=12, color='rgb(82, 82, 82)'),\n",
    "    ),\n",
    "    yaxis=dict(\n",
    "        showgrid=False,\n",
    "        zeroline=False,\n",
    "        showline=False,\n",
    "        showticklabels=True,\n",
    "        title='Temperatura (°C)',\n",
    "    ),\n",
    "    autosize=False,\n",
    "    width=1100,\n",
    "    height=600,\n",
    "    margin=dict(autoexpand=False, l=100, r=20, t=110),\n",
    "    plot_bgcolor='white'\n",
    ")\n",
    "\n",
    "fig.show()\n"
   ]
  },
  {
   "cell_type": "markdown",
   "metadata": {},
   "source": [
    "## Centro de Gravidade Máximo e Mínimo por Ano"
   ]
  },
  {
   "cell_type": "code",
   "execution_count": 12,
   "metadata": {},
   "outputs": [
    {
     "data": {
      "application/vnd.plotly.v1+json": {
       "config": {
        "plotlyServerURL": "https://plot.ly"
       },
       "data": [
        {
         "connectgaps": true,
         "line": {
          "color": "rgb(255, 99, 71)",
          "width": 3
         },
         "marker": {
          "size": 10
         },
         "mode": "lines+markers",
         "name": "Centro de Gravidade Máximo",
         "type": "scatter",
         "x": [
          2023,
          2024,
          2007,
          2008,
          2009,
          2010,
          2011,
          2012,
          2013,
          2014,
          2015,
          2016,
          2017,
          2018,
          2019,
          2020,
          2021
         ],
         "y": [
          46.608549092734705,
          46.608549092734705,
          46.608549092734705,
          46.608549092734705,
          46.608549092734705,
          46.608549092734705,
          46.608549092734705,
          46.608549092734705,
          46.608549092734705,
          46.608549092734705,
          46.608549092734705,
          46.608549092734705,
          46.608549092734705,
          46.608549092734705,
          46.608549092734705,
          46.608549092734705,
          46.608549092734705
         ]
        },
        {
         "connectgaps": true,
         "line": {
          "color": "rgb(70,130,180)",
          "width": 3
         },
         "marker": {
          "size": 10
         },
         "mode": "lines+markers",
         "name": "Centro de Gravidade Mínimo",
         "type": "scatter",
         "x": [
          2023,
          2024,
          2007,
          2008,
          2009,
          2010,
          2011,
          2012,
          2013,
          2014,
          2015,
          2016,
          2017,
          2018,
          2019,
          2020,
          2021
         ],
         "y": [
          17.06921806562792,
          17.06921806562792,
          17.06921806562792,
          17.06921806562792,
          17.06921806562792,
          17.06921806562792,
          17.06921806562792,
          17.06921806562792,
          17.06921806562792,
          17.06921806562792,
          17.06921806562792,
          17.06921806562792,
          17.06921806562792,
          17.06921806562792,
          17.06921806562792,
          17.06921806562792,
          17.06921806562792
         ]
        },
        {
         "mode": "text",
         "showlegend": false,
         "text": [
          "46.61°C"
         ],
         "textposition": "top right",
         "type": "scatter",
         "x": [
          2023
         ],
         "y": [
          46.608549092734705
         ]
        },
        {
         "mode": "text",
         "showlegend": false,
         "text": [
          "46.61°C"
         ],
         "textposition": "top right",
         "type": "scatter",
         "x": [
          2021
         ],
         "y": [
          46.608549092734705
         ]
        },
        {
         "mode": "text",
         "showlegend": false,
         "text": [
          "17.07°C"
         ],
         "textposition": "top right",
         "type": "scatter",
         "x": [
          2023
         ],
         "y": [
          17.06921806562792
         ]
        },
        {
         "mode": "text",
         "showlegend": false,
         "text": [
          "17.07°C"
         ],
         "textposition": "top right",
         "type": "scatter",
         "x": [
          2021
         ],
         "y": [
          17.06921806562792
         ]
        }
       ],
       "layout": {
        "autosize": false,
        "height": 600,
        "margin": {
         "autoexpand": false,
         "l": 100,
         "r": 20,
         "t": 110
        },
        "plot_bgcolor": "white",
        "template": {
         "data": {
          "candlestick": [
           {
            "decreasing": {
             "line": {
              "color": "#000033"
             }
            },
            "increasing": {
             "line": {
              "color": "#000032"
             }
            },
            "type": "candlestick"
           }
          ],
          "contour": [
           {
            "colorscale": [
             [
              0,
              "#000011"
             ],
             [
              0.1111111111111111,
              "#000012"
             ],
             [
              0.2222222222222222,
              "#000013"
             ],
             [
              0.3333333333333333,
              "#000014"
             ],
             [
              0.4444444444444444,
              "#000015"
             ],
             [
              0.5555555555555556,
              "#000016"
             ],
             [
              0.6666666666666666,
              "#000017"
             ],
             [
              0.7777777777777778,
              "#000018"
             ],
             [
              0.8888888888888888,
              "#000019"
             ],
             [
              1,
              "#000020"
             ]
            ],
            "type": "contour"
           }
          ],
          "contourcarpet": [
           {
            "colorscale": [
             [
              0,
              "#000011"
             ],
             [
              0.1111111111111111,
              "#000012"
             ],
             [
              0.2222222222222222,
              "#000013"
             ],
             [
              0.3333333333333333,
              "#000014"
             ],
             [
              0.4444444444444444,
              "#000015"
             ],
             [
              0.5555555555555556,
              "#000016"
             ],
             [
              0.6666666666666666,
              "#000017"
             ],
             [
              0.7777777777777778,
              "#000018"
             ],
             [
              0.8888888888888888,
              "#000019"
             ],
             [
              1,
              "#000020"
             ]
            ],
            "type": "contourcarpet"
           }
          ],
          "heatmap": [
           {
            "colorscale": [
             [
              0,
              "#000011"
             ],
             [
              0.1111111111111111,
              "#000012"
             ],
             [
              0.2222222222222222,
              "#000013"
             ],
             [
              0.3333333333333333,
              "#000014"
             ],
             [
              0.4444444444444444,
              "#000015"
             ],
             [
              0.5555555555555556,
              "#000016"
             ],
             [
              0.6666666666666666,
              "#000017"
             ],
             [
              0.7777777777777778,
              "#000018"
             ],
             [
              0.8888888888888888,
              "#000019"
             ],
             [
              1,
              "#000020"
             ]
            ],
            "type": "heatmap"
           }
          ],
          "histogram2d": [
           {
            "colorscale": [
             [
              0,
              "#000011"
             ],
             [
              0.1111111111111111,
              "#000012"
             ],
             [
              0.2222222222222222,
              "#000013"
             ],
             [
              0.3333333333333333,
              "#000014"
             ],
             [
              0.4444444444444444,
              "#000015"
             ],
             [
              0.5555555555555556,
              "#000016"
             ],
             [
              0.6666666666666666,
              "#000017"
             ],
             [
              0.7777777777777778,
              "#000018"
             ],
             [
              0.8888888888888888,
              "#000019"
             ],
             [
              1,
              "#000020"
             ]
            ],
            "type": "histogram2d"
           }
          ],
          "icicle": [
           {
            "textfont": {
             "color": "white"
            },
            "type": "icicle"
           }
          ],
          "sankey": [
           {
            "textfont": {
             "color": "#000036"
            },
            "type": "sankey"
           }
          ],
          "scatter": [
           {
            "marker": {
             "line": {
              "width": 0
             }
            },
            "type": "scatter"
           }
          ],
          "table": [
           {
            "cells": {
             "fill": {
              "color": "#000038"
             },
             "font": {
              "color": "#000037"
             },
             "line": {
              "color": "#000039"
             }
            },
            "header": {
             "fill": {
              "color": "#000040"
             },
             "font": {
              "color": "#000036"
             },
             "line": {
              "color": "#000039"
             }
            },
            "type": "table"
           }
          ],
          "waterfall": [
           {
            "connector": {
             "line": {
              "color": "#000036",
              "width": 2
             }
            },
            "decreasing": {
             "marker": {
              "color": "#000033"
             }
            },
            "increasing": {
             "marker": {
              "color": "#000032"
             }
            },
            "totals": {
             "marker": {
              "color": "#000034"
             }
            },
            "type": "waterfall"
           }
          ]
         },
         "layout": {
          "coloraxis": {
           "colorscale": [
            [
             0,
             "#000011"
            ],
            [
             0.1111111111111111,
             "#000012"
            ],
            [
             0.2222222222222222,
             "#000013"
            ],
            [
             0.3333333333333333,
             "#000014"
            ],
            [
             0.4444444444444444,
             "#000015"
            ],
            [
             0.5555555555555556,
             "#000016"
            ],
            [
             0.6666666666666666,
             "#000017"
            ],
            [
             0.7777777777777778,
             "#000018"
            ],
            [
             0.8888888888888888,
             "#000019"
            ],
            [
             1,
             "#000020"
            ]
           ]
          },
          "colorscale": {
           "diverging": [
            [
             0,
             "#000021"
            ],
            [
             0.1,
             "#000022"
            ],
            [
             0.2,
             "#000023"
            ],
            [
             0.3,
             "#000024"
            ],
            [
             0.4,
             "#000025"
            ],
            [
             0.5,
             "#000026"
            ],
            [
             0.6,
             "#000027"
            ],
            [
             0.7,
             "#000028"
            ],
            [
             0.8,
             "#000029"
            ],
            [
             0.9,
             "#000030"
            ],
            [
             1,
             "#000031"
            ]
           ],
           "sequential": [
            [
             0,
             "#000011"
            ],
            [
             0.1111111111111111,
             "#000012"
            ],
            [
             0.2222222222222222,
             "#000013"
            ],
            [
             0.3333333333333333,
             "#000014"
            ],
            [
             0.4444444444444444,
             "#000015"
            ],
            [
             0.5555555555555556,
             "#000016"
            ],
            [
             0.6666666666666666,
             "#000017"
            ],
            [
             0.7777777777777778,
             "#000018"
            ],
            [
             0.8888888888888888,
             "#000019"
            ],
            [
             1,
             "#000020"
            ]
           ],
           "sequentialminus": [
            [
             0,
             "#000011"
            ],
            [
             0.1111111111111111,
             "#000012"
            ],
            [
             0.2222222222222222,
             "#000013"
            ],
            [
             0.3333333333333333,
             "#000014"
            ],
            [
             0.4444444444444444,
             "#000015"
            ],
            [
             0.5555555555555556,
             "#000016"
            ],
            [
             0.6666666666666666,
             "#000017"
            ],
            [
             0.7777777777777778,
             "#000018"
            ],
            [
             0.8888888888888888,
             "#000019"
            ],
            [
             1,
             "#000020"
            ]
           ]
          },
          "colorway": [
           "#000001",
           "#000002",
           "#000003",
           "#000004",
           "#000005",
           "#000006",
           "#000007",
           "#000008",
           "#000009",
           "#000010"
          ]
         }
        },
        "title": {
         "text": "Centro de Gravidade Máximo e Mínimo por Ano"
        },
        "width": 1000,
        "xaxis": {
         "linecolor": "rgb(204, 204, 204)",
         "linewidth": 2,
         "showgrid": false,
         "showline": true,
         "showticklabels": true,
         "tickfont": {
          "color": "rgb(82, 82, 82)",
          "family": "Arial",
          "size": 12
         },
         "ticks": "outside"
        },
        "yaxis": {
         "showgrid": false,
         "showline": false,
         "showticklabels": true,
         "title": {
          "text": "Centro de Gravidade (°C)"
         },
         "zeroline": false
        }
       }
      }
     },
     "metadata": {},
     "output_type": "display_data"
    }
   ],
   "source": [
    "if 'data' in df_araraquara.columns:\n",
    "    df_araraquara['ano'] = pd.to_datetime(df_araraquara['data']).dt.year\n",
    "\n",
    "if 'ano' not in df_araraquara.columns:\n",
    "    raise ValueError(\"A coluna 'ano' não foi encontrada no dataframe.\")\n",
    "\n",
    "anos = df_araraquara['ano'].unique()  # Usando os anos do dataframe\n",
    "centro_gravidade_max = [cg_x_max] * len(anos)  # Valores simulados para o centro de gravidade máximo\n",
    "centro_gravidade_min = [cg_x_min] * len(anos)  # Valores simulados para o centro de gravidade mínimo\n",
    "\n",
    "colors = ['rgb(255, 99, 71)', 'rgb(70,130,180)']  # Vermelho para Max, Azul para Min\n",
    "mode_size = [10, 10]\n",
    "line_size = [3, 3]\n",
    "\n",
    "fig = go.Figure()\n",
    "\n",
    "fig.add_trace(go.Scatter(x=anos, y=centro_gravidade_max, mode='lines+markers',\n",
    "                         name='Centro de Gravidade Máximo',\n",
    "                         line=dict(color=colors[0], width=line_size[0]),\n",
    "                         marker=dict(size=mode_size[0]),\n",
    "                         connectgaps=True))\n",
    "\n",
    "fig.add_trace(go.Scatter(x=anos, y=centro_gravidade_min, mode='lines+markers',\n",
    "                         name='Centro de Gravidade Mínimo',\n",
    "                         line=dict(color=colors[1], width=line_size[1]),\n",
    "                         marker=dict(size=mode_size[1]),\n",
    "                         connectgaps=True))\n",
    "\n",
    "fig.add_trace(go.Scatter(\n",
    "    x=[anos[0]], \n",
    "    y=[centro_gravidade_max[0]], \n",
    "    mode='text', \n",
    "    text=[f'{centro_gravidade_max[0]:.2f}°C'], \n",
    "    textposition='top right', \n",
    "    showlegend=False\n",
    "))\n",
    "\n",
    "fig.add_trace(go.Scatter(\n",
    "    x=[anos[-1]], \n",
    "    y=[centro_gravidade_max[-1]], \n",
    "    mode='text', \n",
    "    text=[f'{centro_gravidade_max[-1]:.2f}°C'], \n",
    "    textposition='top right', \n",
    "    showlegend=False\n",
    "))\n",
    "\n",
    "fig.add_trace(go.Scatter(\n",
    "    x=[anos[0]], \n",
    "    y=[centro_gravidade_min[0]], \n",
    "    mode='text', \n",
    "    text=[f'{centro_gravidade_min[0]:.2f}°C'], \n",
    "    textposition='top right', \n",
    "    showlegend=False\n",
    "))\n",
    "\n",
    "fig.add_trace(go.Scatter(\n",
    "    x=[anos[-1]], \n",
    "    y=[centro_gravidade_min[-1]], \n",
    "    mode='text', \n",
    "    text=[f'{centro_gravidade_min[-1]:.2f}°C'], \n",
    "    textposition='top right', \n",
    "    showlegend=False\n",
    "))\n",
    "\n",
    "# Atualizando layout do gráfico\n",
    "fig.update_layout(\n",
    "    title='Centro de Gravidade Máximo e Mínimo por Ano',\n",
    "    xaxis=dict(\n",
    "        showline=True,\n",
    "        showgrid=False,\n",
    "        showticklabels=True,\n",
    "        linecolor='rgb(204, 204, 204)',\n",
    "        linewidth=2,\n",
    "        ticks='outside',\n",
    "        tickfont=dict(family='Arial', size=12, color='rgb(82, 82, 82)'),\n",
    "    ),\n",
    "    yaxis=dict(\n",
    "        showgrid=False,\n",
    "        zeroline=False,\n",
    "        showline=False,\n",
    "        showticklabels=True,\n",
    "        title='Centro de Gravidade (°C)',\n",
    "    ),\n",
    "    autosize=False,\n",
    "    width=1000,  # Largura aumentada\n",
    "    height=600,  # Altura aumentada\n",
    "    margin=dict(autoexpand=False, l=100, r=20, t=110),\n",
    "    plot_bgcolor='white'\n",
    ")\n",
    "\n",
    "fig.show()"
   ]
  },
  {
   "cell_type": "markdown",
   "metadata": {},
   "source": [
    "## gráfico 4Sigma Max e Min"
   ]
  },
  {
   "cell_type": "code",
   "execution_count": 13,
   "metadata": {},
   "outputs": [
    {
     "data": {
      "application/vnd.plotly.v1+json": {
       "config": {
        "plotlyServerURL": "https://plot.ly"
       },
       "data": [
        {
         "connectgaps": true,
         "line": {
          "color": "rgb(255, 69, 0)",
          "width": 3
         },
         "marker": {
          "size": 10
         },
         "mode": "lines+markers",
         "name": "4Sigma Máximo",
         "type": "scatter",
         "x": [
          2023,
          2024,
          2007,
          2008,
          2009,
          2010,
          2011,
          2012,
          2013,
          2014,
          2015,
          2016,
          2017,
          2018,
          2019,
          2020,
          2021
         ],
         "y": [
          118.5,
          118.5,
          118.5,
          118.5,
          118.5,
          118.5,
          118.5,
          118.5,
          118.5,
          118.5,
          118.5,
          118.5,
          118.5,
          118.5,
          118.5,
          118.5,
          118.5
         ]
        },
        {
         "connectgaps": true,
         "line": {
          "color": "rgb(30, 144, 255)",
          "width": 3
         },
         "marker": {
          "size": 10
         },
         "mode": "lines+markers",
         "name": "4Sigma Mínimo",
         "type": "scatter",
         "x": [
          2023,
          2024,
          2007,
          2008,
          2009,
          2010,
          2011,
          2012,
          2013,
          2014,
          2015,
          2016,
          2017,
          2018,
          2019,
          2020,
          2021
         ],
         "y": [
          -10,
          -10,
          -10,
          -10,
          -10,
          -10,
          -10,
          -10,
          -10,
          -10,
          -10,
          -10,
          -10,
          -10,
          -10,
          -10,
          -10
         ]
        },
        {
         "mode": "text",
         "showlegend": false,
         "text": [
          "118.50°C"
         ],
         "textposition": "top right",
         "type": "scatter",
         "x": [
          2023
         ],
         "y": [
          118.5
         ]
        },
        {
         "mode": "text",
         "showlegend": false,
         "text": [
          "118.50°C"
         ],
         "textposition": "top right",
         "type": "scatter",
         "x": [
          2021
         ],
         "y": [
          118.5
         ]
        },
        {
         "mode": "text",
         "showlegend": false,
         "text": [
          "-10.00°C"
         ],
         "textposition": "top right",
         "type": "scatter",
         "x": [
          2023
         ],
         "y": [
          -10
         ]
        },
        {
         "mode": "text",
         "showlegend": false,
         "text": [
          "-10.00°C"
         ],
         "textposition": "top right",
         "type": "scatter",
         "x": [
          2021
         ],
         "y": [
          -10
         ]
        }
       ],
       "layout": {
        "autosize": false,
        "height": 600,
        "margin": {
         "autoexpand": false,
         "l": 100,
         "r": 20,
         "t": 110
        },
        "plot_bgcolor": "white",
        "template": {
         "data": {
          "candlestick": [
           {
            "decreasing": {
             "line": {
              "color": "#000033"
             }
            },
            "increasing": {
             "line": {
              "color": "#000032"
             }
            },
            "type": "candlestick"
           }
          ],
          "contour": [
           {
            "colorscale": [
             [
              0,
              "#000011"
             ],
             [
              0.1111111111111111,
              "#000012"
             ],
             [
              0.2222222222222222,
              "#000013"
             ],
             [
              0.3333333333333333,
              "#000014"
             ],
             [
              0.4444444444444444,
              "#000015"
             ],
             [
              0.5555555555555556,
              "#000016"
             ],
             [
              0.6666666666666666,
              "#000017"
             ],
             [
              0.7777777777777778,
              "#000018"
             ],
             [
              0.8888888888888888,
              "#000019"
             ],
             [
              1,
              "#000020"
             ]
            ],
            "type": "contour"
           }
          ],
          "contourcarpet": [
           {
            "colorscale": [
             [
              0,
              "#000011"
             ],
             [
              0.1111111111111111,
              "#000012"
             ],
             [
              0.2222222222222222,
              "#000013"
             ],
             [
              0.3333333333333333,
              "#000014"
             ],
             [
              0.4444444444444444,
              "#000015"
             ],
             [
              0.5555555555555556,
              "#000016"
             ],
             [
              0.6666666666666666,
              "#000017"
             ],
             [
              0.7777777777777778,
              "#000018"
             ],
             [
              0.8888888888888888,
              "#000019"
             ],
             [
              1,
              "#000020"
             ]
            ],
            "type": "contourcarpet"
           }
          ],
          "heatmap": [
           {
            "colorscale": [
             [
              0,
              "#000011"
             ],
             [
              0.1111111111111111,
              "#000012"
             ],
             [
              0.2222222222222222,
              "#000013"
             ],
             [
              0.3333333333333333,
              "#000014"
             ],
             [
              0.4444444444444444,
              "#000015"
             ],
             [
              0.5555555555555556,
              "#000016"
             ],
             [
              0.6666666666666666,
              "#000017"
             ],
             [
              0.7777777777777778,
              "#000018"
             ],
             [
              0.8888888888888888,
              "#000019"
             ],
             [
              1,
              "#000020"
             ]
            ],
            "type": "heatmap"
           }
          ],
          "histogram2d": [
           {
            "colorscale": [
             [
              0,
              "#000011"
             ],
             [
              0.1111111111111111,
              "#000012"
             ],
             [
              0.2222222222222222,
              "#000013"
             ],
             [
              0.3333333333333333,
              "#000014"
             ],
             [
              0.4444444444444444,
              "#000015"
             ],
             [
              0.5555555555555556,
              "#000016"
             ],
             [
              0.6666666666666666,
              "#000017"
             ],
             [
              0.7777777777777778,
              "#000018"
             ],
             [
              0.8888888888888888,
              "#000019"
             ],
             [
              1,
              "#000020"
             ]
            ],
            "type": "histogram2d"
           }
          ],
          "icicle": [
           {
            "textfont": {
             "color": "white"
            },
            "type": "icicle"
           }
          ],
          "sankey": [
           {
            "textfont": {
             "color": "#000036"
            },
            "type": "sankey"
           }
          ],
          "scatter": [
           {
            "marker": {
             "line": {
              "width": 0
             }
            },
            "type": "scatter"
           }
          ],
          "table": [
           {
            "cells": {
             "fill": {
              "color": "#000038"
             },
             "font": {
              "color": "#000037"
             },
             "line": {
              "color": "#000039"
             }
            },
            "header": {
             "fill": {
              "color": "#000040"
             },
             "font": {
              "color": "#000036"
             },
             "line": {
              "color": "#000039"
             }
            },
            "type": "table"
           }
          ],
          "waterfall": [
           {
            "connector": {
             "line": {
              "color": "#000036",
              "width": 2
             }
            },
            "decreasing": {
             "marker": {
              "color": "#000033"
             }
            },
            "increasing": {
             "marker": {
              "color": "#000032"
             }
            },
            "totals": {
             "marker": {
              "color": "#000034"
             }
            },
            "type": "waterfall"
           }
          ]
         },
         "layout": {
          "coloraxis": {
           "colorscale": [
            [
             0,
             "#000011"
            ],
            [
             0.1111111111111111,
             "#000012"
            ],
            [
             0.2222222222222222,
             "#000013"
            ],
            [
             0.3333333333333333,
             "#000014"
            ],
            [
             0.4444444444444444,
             "#000015"
            ],
            [
             0.5555555555555556,
             "#000016"
            ],
            [
             0.6666666666666666,
             "#000017"
            ],
            [
             0.7777777777777778,
             "#000018"
            ],
            [
             0.8888888888888888,
             "#000019"
            ],
            [
             1,
             "#000020"
            ]
           ]
          },
          "colorscale": {
           "diverging": [
            [
             0,
             "#000021"
            ],
            [
             0.1,
             "#000022"
            ],
            [
             0.2,
             "#000023"
            ],
            [
             0.3,
             "#000024"
            ],
            [
             0.4,
             "#000025"
            ],
            [
             0.5,
             "#000026"
            ],
            [
             0.6,
             "#000027"
            ],
            [
             0.7,
             "#000028"
            ],
            [
             0.8,
             "#000029"
            ],
            [
             0.9,
             "#000030"
            ],
            [
             1,
             "#000031"
            ]
           ],
           "sequential": [
            [
             0,
             "#000011"
            ],
            [
             0.1111111111111111,
             "#000012"
            ],
            [
             0.2222222222222222,
             "#000013"
            ],
            [
             0.3333333333333333,
             "#000014"
            ],
            [
             0.4444444444444444,
             "#000015"
            ],
            [
             0.5555555555555556,
             "#000016"
            ],
            [
             0.6666666666666666,
             "#000017"
            ],
            [
             0.7777777777777778,
             "#000018"
            ],
            [
             0.8888888888888888,
             "#000019"
            ],
            [
             1,
             "#000020"
            ]
           ],
           "sequentialminus": [
            [
             0,
             "#000011"
            ],
            [
             0.1111111111111111,
             "#000012"
            ],
            [
             0.2222222222222222,
             "#000013"
            ],
            [
             0.3333333333333333,
             "#000014"
            ],
            [
             0.4444444444444444,
             "#000015"
            ],
            [
             0.5555555555555556,
             "#000016"
            ],
            [
             0.6666666666666666,
             "#000017"
            ],
            [
             0.7777777777777778,
             "#000018"
            ],
            [
             0.8888888888888888,
             "#000019"
            ],
            [
             1,
             "#000020"
            ]
           ]
          },
          "colorway": [
           "#000001",
           "#000002",
           "#000003",
           "#000004",
           "#000005",
           "#000006",
           "#000007",
           "#000008",
           "#000009",
           "#000010"
          ]
         }
        },
        "title": {
         "text": "4Sigma Máximo e Mínimo por Ano"
        },
        "width": 1000,
        "xaxis": {
         "linecolor": "rgb(204, 204, 204)",
         "linewidth": 2,
         "showgrid": false,
         "showline": true,
         "showticklabels": true,
         "tickfont": {
          "color": "rgb(82, 82, 82)",
          "family": "Arial",
          "size": 12
         },
         "ticks": "outside"
        },
        "yaxis": {
         "showgrid": false,
         "showline": false,
         "showticklabels": true,
         "title": {
          "text": "4Sigma (°C)"
         },
         "zeroline": false
        }
       }
      }
     },
     "metadata": {},
     "output_type": "display_data"
    }
   ],
   "source": [
    "if 'data' in df_araraquara.columns:\n",
    "    # Se a coluna de data estiver em formato string ou datetime, extraímos o ano\n",
    "    df_araraquara['ano'] = pd.to_datetime(df_araraquara['data']).dt.year\n",
    "\n",
    "# Verificando se a coluna 'ano' \n",
    "if 'ano' not in df_araraquara.columns:\n",
    "    raise ValueError(\"A coluna 'ano' não foi encontrada no dataframe.\")\n",
    "\n",
    "# Definindo os dados para o 4Sigma\n",
    "anos = df_araraquara['ano'].unique() \n",
    "sigma_max = [centro_ftn_max_4sigma] * len(anos)  # Valores simulados para o 4Sigma máximo\n",
    "sigma_min = [centro_ftn_min_4sigma] * len(anos)  # Valores simulados para o 4Sigma mínimo\n",
    "\n",
    "# Definindo as cores e o tamanho dos marcadores\n",
    "colors = ['rgb(255, 69, 0)', 'rgb(30, 144, 255)']  # Laranja para Max, Azul para Min\n",
    "mode_size = [10, 10]\n",
    "line_size = [3, 3]\n",
    "\n",
    "# Criando a figura\n",
    "fig = go.Figure()\n",
    "\n",
    "# Plotando a linha para o 4Sigma Máximo\n",
    "fig.add_trace(go.Scatter(x=anos, y=sigma_max, mode='lines+markers',\n",
    "                         name='4Sigma Máximo',\n",
    "                         line=dict(color=colors[0], width=line_size[0]),\n",
    "                         marker=dict(size=mode_size[0]),\n",
    "                         connectgaps=True))\n",
    "\n",
    "# Plotando a linha para o 4Sigma Mínimo\n",
    "fig.add_trace(go.Scatter(x=anos, y=sigma_min, mode='lines+markers',\n",
    "                         name='4Sigma Mínimo',\n",
    "                         line=dict(color=colors[1], width=line_size[1]),\n",
    "                         marker=dict(size=mode_size[1]),\n",
    "                         connectgaps=True))\n",
    "\n",
    "# Adicionando rótulos nas extremidades das linhas\n",
    "fig.add_trace(go.Scatter(\n",
    "    x=[anos[0]], \n",
    "    y=[sigma_max[0]], \n",
    "    mode='text', \n",
    "    text=[f'{sigma_max[0]:.2f}°C'], \n",
    "    textposition='top right', \n",
    "    showlegend=False\n",
    "))\n",
    "\n",
    "fig.add_trace(go.Scatter(\n",
    "    x=[anos[-1]], \n",
    "    y=[sigma_max[-1]], \n",
    "    mode='text', \n",
    "    text=[f'{sigma_max[-1]:.2f}°C'], \n",
    "    textposition='top right', \n",
    "    showlegend=False\n",
    "))\n",
    "\n",
    "fig.add_trace(go.Scatter(\n",
    "    x=[anos[0]], \n",
    "    y=[sigma_min[0]], \n",
    "    mode='text', \n",
    "    text=[f'{sigma_min[0]:.2f}°C'], \n",
    "    textposition='top right', \n",
    "    showlegend=False\n",
    "))\n",
    "\n",
    "fig.add_trace(go.Scatter(\n",
    "    x=[anos[-1]], \n",
    "    y=[sigma_min[-1]], \n",
    "    mode='text', \n",
    "    text=[f'{sigma_min[-1]:.2f}°C'], \n",
    "    textposition='top right', \n",
    "    showlegend=False\n",
    "))\n",
    "\n",
    "# Atualizando layout do gráfico\n",
    "fig.update_layout(\n",
    "    title='4Sigma Máximo e Mínimo por Ano',\n",
    "    xaxis=dict(\n",
    "        showline=True,\n",
    "        showgrid=False,\n",
    "        showticklabels=True,\n",
    "        linecolor='rgb(204, 204, 204)',\n",
    "        linewidth=2,\n",
    "        ticks='outside',\n",
    "        tickfont=dict(family='Arial', size=12, color='rgb(82, 82, 82)'),\n",
    "    ),\n",
    "    yaxis=dict(\n",
    "        showgrid=False,\n",
    "        zeroline=False,\n",
    "        showline=False,\n",
    "        showticklabels=True,\n",
    "        title='4Sigma (°C)',\n",
    "    ),\n",
    "    autosize=False,\n",
    "    width=1000,  # Largura aumentada\n",
    "    height=600,  # Altura aumentada\n",
    "    margin=dict(autoexpand=False, l=100, r=20, t=110),\n",
    "    plot_bgcolor='white'\n",
    ")\n",
    "\n",
    "fig.show()"
   ]
  },
  {
   "cell_type": "code",
   "execution_count": 14,
   "metadata": {},
   "outputs": [
    {
     "data": {
      "text/html": [
       "<div>\n",
       "<style scoped>\n",
       "    .dataframe tbody tr th:only-of-type {\n",
       "        vertical-align: middle;\n",
       "    }\n",
       "\n",
       "    .dataframe tbody tr th {\n",
       "        vertical-align: top;\n",
       "    }\n",
       "\n",
       "    .dataframe thead th {\n",
       "        text-align: right;\n",
       "    }\n",
       "</style>\n",
       "<table border=\"1\" class=\"dataframe\">\n",
       "  <thead>\n",
       "    <tr style=\"text-align: right;\">\n",
       "      <th></th>\n",
       "      <th>data</th>\n",
       "      <th>temperatura_maxima</th>\n",
       "    </tr>\n",
       "  </thead>\n",
       "  <tbody>\n",
       "    <tr>\n",
       "      <th>0</th>\n",
       "      <td>2023-11-08</td>\n",
       "      <td>54.2</td>\n",
       "    </tr>\n",
       "    <tr>\n",
       "      <th>1</th>\n",
       "      <td>2023-11-09</td>\n",
       "      <td>49.1</td>\n",
       "    </tr>\n",
       "    <tr>\n",
       "      <th>2</th>\n",
       "      <td>2023-11-10</td>\n",
       "      <td>56.1</td>\n",
       "    </tr>\n",
       "    <tr>\n",
       "      <th>3</th>\n",
       "      <td>2023-11-11</td>\n",
       "      <td>56.4</td>\n",
       "    </tr>\n",
       "    <tr>\n",
       "      <th>4</th>\n",
       "      <td>2023-11-12</td>\n",
       "      <td>57.6</td>\n",
       "    </tr>\n",
       "  </tbody>\n",
       "</table>\n",
       "</div>"
      ],
      "text/plain": [
       "         data  temperatura_maxima\n",
       "0  2023-11-08                54.2\n",
       "1  2023-11-09                49.1\n",
       "2  2023-11-10                56.1\n",
       "3  2023-11-11                56.4\n",
       "4  2023-11-12                57.6"
      ]
     },
     "execution_count": 14,
     "metadata": {},
     "output_type": "execute_result"
    }
   ],
   "source": [
    "df_temp_max = pd.read_csv('C:/Users/Cristiano/OneDrive - Belago Technologies/Documentos/projeto_fnt/data_max_min/araraquara_temperatura_maxima.csv')\n",
    "df_temp_max.head()"
   ]
  },
  {
   "cell_type": "code",
   "execution_count": 15,
   "metadata": {},
   "outputs": [
    {
     "data": {
      "text/html": [
       "<div>\n",
       "<style scoped>\n",
       "    .dataframe tbody tr th:only-of-type {\n",
       "        vertical-align: middle;\n",
       "    }\n",
       "\n",
       "    .dataframe tbody tr th {\n",
       "        vertical-align: top;\n",
       "    }\n",
       "\n",
       "    .dataframe thead th {\n",
       "        text-align: right;\n",
       "    }\n",
       "</style>\n",
       "<table border=\"1\" class=\"dataframe\">\n",
       "  <thead>\n",
       "    <tr style=\"text-align: right;\">\n",
       "      <th></th>\n",
       "      <th>data</th>\n",
       "      <th>temperatura_minima</th>\n",
       "    </tr>\n",
       "  </thead>\n",
       "  <tbody>\n",
       "    <tr>\n",
       "      <th>0</th>\n",
       "      <td>2023-11-08</td>\n",
       "      <td>24.7</td>\n",
       "    </tr>\n",
       "    <tr>\n",
       "      <th>1</th>\n",
       "      <td>2023-11-09</td>\n",
       "      <td>19.1</td>\n",
       "    </tr>\n",
       "    <tr>\n",
       "      <th>2</th>\n",
       "      <td>2023-11-10</td>\n",
       "      <td>19.6</td>\n",
       "    </tr>\n",
       "    <tr>\n",
       "      <th>3</th>\n",
       "      <td>2023-11-11</td>\n",
       "      <td>18.8</td>\n",
       "    </tr>\n",
       "    <tr>\n",
       "      <th>4</th>\n",
       "      <td>2023-11-12</td>\n",
       "      <td>20.6</td>\n",
       "    </tr>\n",
       "  </tbody>\n",
       "</table>\n",
       "</div>"
      ],
      "text/plain": [
       "         data  temperatura_minima\n",
       "0  2023-11-08                24.7\n",
       "1  2023-11-09                19.1\n",
       "2  2023-11-10                19.6\n",
       "3  2023-11-11                18.8\n",
       "4  2023-11-12                20.6"
      ]
     },
     "execution_count": 15,
     "metadata": {},
     "output_type": "execute_result"
    }
   ],
   "source": [
    "df_temp_max = pd.read_csv('C:/Users/Cristiano/OneDrive - Belago Technologies/Documentos/projeto_fnt/data_max_min/araraquara_temperatura_minima.csv')\n",
    "df_temp_max.head()"
   ]
  },
  {
   "cell_type": "code",
   "execution_count": 18,
   "metadata": {},
   "outputs": [],
   "source": [
    "df_araraquara.to_csv(\"C:/Users/Cristiano/OneDrive - Belago Technologies/Documentos/projeto_fnt/data/dataframe_atualizado.csv\", index=False)"
   ]
  },
  {
   "cell_type": "code",
   "execution_count": 19,
   "metadata": {},
   "outputs": [
    {
     "data": {
      "text/html": [
       "<div>\n",
       "<style scoped>\n",
       "    .dataframe tbody tr th:only-of-type {\n",
       "        vertical-align: middle;\n",
       "    }\n",
       "\n",
       "    .dataframe tbody tr th {\n",
       "        vertical-align: top;\n",
       "    }\n",
       "\n",
       "    .dataframe thead th {\n",
       "        text-align: right;\n",
       "    }\n",
       "</style>\n",
       "<table border=\"1\" class=\"dataframe\">\n",
       "  <thead>\n",
       "    <tr style=\"text-align: right;\">\n",
       "      <th></th>\n",
       "      <th>data</th>\n",
       "      <th>regiao</th>\n",
       "      <th>operacao</th>\n",
       "      <th>original</th>\n",
       "      <th>temperatura_maxima</th>\n",
       "      <th>temperatura_minima</th>\n",
       "      <th>status</th>\n",
       "      <th>bloco</th>\n",
       "      <th>ano</th>\n",
       "    </tr>\n",
       "  </thead>\n",
       "  <tbody>\n",
       "    <tr>\n",
       "      <th>0</th>\n",
       "      <td>2023-11-08</td>\n",
       "      <td>NORTE</td>\n",
       "      <td>ZSOZAR-ZARZOI3-244450</td>\n",
       "      <td>thermo_id_20001336</td>\n",
       "      <td>54.2</td>\n",
       "      <td>24.7</td>\n",
       "      <td>Normal</td>\n",
       "      <td>(23.0, 25.0]</td>\n",
       "      <td>2023</td>\n",
       "    </tr>\n",
       "    <tr>\n",
       "      <th>1</th>\n",
       "      <td>2023-11-09</td>\n",
       "      <td>NORTE</td>\n",
       "      <td>ZSOZAR-ZARZOI3-244450</td>\n",
       "      <td>thermo_id_20001336</td>\n",
       "      <td>49.1</td>\n",
       "      <td>19.1</td>\n",
       "      <td>Normal</td>\n",
       "      <td>(19.0, 21.0]</td>\n",
       "      <td>2023</td>\n",
       "    </tr>\n",
       "    <tr>\n",
       "      <th>2</th>\n",
       "      <td>2023-11-10</td>\n",
       "      <td>NORTE</td>\n",
       "      <td>ZSOZAR-ZARZOI3-244450</td>\n",
       "      <td>thermo_id_20001336</td>\n",
       "      <td>56.1</td>\n",
       "      <td>19.6</td>\n",
       "      <td>Normal</td>\n",
       "      <td>(19.0, 21.0]</td>\n",
       "      <td>2023</td>\n",
       "    </tr>\n",
       "    <tr>\n",
       "      <th>3</th>\n",
       "      <td>2023-11-11</td>\n",
       "      <td>NORTE</td>\n",
       "      <td>ZSOZAR-ZARZOI3-244450</td>\n",
       "      <td>thermo_id_20001336</td>\n",
       "      <td>56.4</td>\n",
       "      <td>18.8</td>\n",
       "      <td>Normal</td>\n",
       "      <td>(17.0, 19.0]</td>\n",
       "      <td>2023</td>\n",
       "    </tr>\n",
       "    <tr>\n",
       "      <th>4</th>\n",
       "      <td>2023-11-12</td>\n",
       "      <td>NORTE</td>\n",
       "      <td>ZSOZAR-ZARZOI3-244450</td>\n",
       "      <td>thermo_id_20001336</td>\n",
       "      <td>57.6</td>\n",
       "      <td>20.6</td>\n",
       "      <td>Normal</td>\n",
       "      <td>(19.0, 21.0]</td>\n",
       "      <td>2023</td>\n",
       "    </tr>\n",
       "    <tr>\n",
       "      <th>...</th>\n",
       "      <td>...</td>\n",
       "      <td>...</td>\n",
       "      <td>...</td>\n",
       "      <td>...</td>\n",
       "      <td>...</td>\n",
       "      <td>...</td>\n",
       "      <td>...</td>\n",
       "      <td>...</td>\n",
       "      <td>...</td>\n",
       "    </tr>\n",
       "    <tr>\n",
       "      <th>55768</th>\n",
       "      <td>2021-10-27</td>\n",
       "      <td>NORTE</td>\n",
       "      <td>ZSOZAR-ZARZOI3-244450</td>\n",
       "      <td>thermo_id_20001336</td>\n",
       "      <td>36.0</td>\n",
       "      <td>20.0</td>\n",
       "      <td>Normal</td>\n",
       "      <td>(19.0, 21.0]</td>\n",
       "      <td>2021</td>\n",
       "    </tr>\n",
       "    <tr>\n",
       "      <th>55769</th>\n",
       "      <td>2021-10-28</td>\n",
       "      <td>NORTE</td>\n",
       "      <td>ZSOZAR-ZARZOI3-244450</td>\n",
       "      <td>thermo_id_20001336</td>\n",
       "      <td>33.0</td>\n",
       "      <td>20.0</td>\n",
       "      <td>Normal</td>\n",
       "      <td>(19.0, 21.0]</td>\n",
       "      <td>2021</td>\n",
       "    </tr>\n",
       "    <tr>\n",
       "      <th>55770</th>\n",
       "      <td>2021-10-29</td>\n",
       "      <td>NORTE</td>\n",
       "      <td>ZSOZAR-ZARZOI3-244450</td>\n",
       "      <td>thermo_id_20001336</td>\n",
       "      <td>42.0</td>\n",
       "      <td>18.0</td>\n",
       "      <td>Normal</td>\n",
       "      <td>(17.0, 19.0]</td>\n",
       "      <td>2021</td>\n",
       "    </tr>\n",
       "    <tr>\n",
       "      <th>55771</th>\n",
       "      <td>2021-10-30</td>\n",
       "      <td>NORTE</td>\n",
       "      <td>ZSOZAR-ZARZOI3-244450</td>\n",
       "      <td>thermo_id_20001336</td>\n",
       "      <td>44.0</td>\n",
       "      <td>19.0</td>\n",
       "      <td>Normal</td>\n",
       "      <td>(17.0, 19.0]</td>\n",
       "      <td>2021</td>\n",
       "    </tr>\n",
       "    <tr>\n",
       "      <th>55772</th>\n",
       "      <td>2021-10-31</td>\n",
       "      <td>NORTE</td>\n",
       "      <td>ZSOZAR-ZARZOI3-244450</td>\n",
       "      <td>thermo_id_20001336</td>\n",
       "      <td>24.0</td>\n",
       "      <td>19.0</td>\n",
       "      <td>Normal</td>\n",
       "      <td>(17.0, 19.0]</td>\n",
       "      <td>2021</td>\n",
       "    </tr>\n",
       "  </tbody>\n",
       "</table>\n",
       "<p>55773 rows × 9 columns</p>\n",
       "</div>"
      ],
      "text/plain": [
       "            data regiao               operacao            original  \\\n",
       "0     2023-11-08  NORTE  ZSOZAR-ZARZOI3-244450  thermo_id_20001336   \n",
       "1     2023-11-09  NORTE  ZSOZAR-ZARZOI3-244450  thermo_id_20001336   \n",
       "2     2023-11-10  NORTE  ZSOZAR-ZARZOI3-244450  thermo_id_20001336   \n",
       "3     2023-11-11  NORTE  ZSOZAR-ZARZOI3-244450  thermo_id_20001336   \n",
       "4     2023-11-12  NORTE  ZSOZAR-ZARZOI3-244450  thermo_id_20001336   \n",
       "...          ...    ...                    ...                 ...   \n",
       "55768 2021-10-27  NORTE  ZSOZAR-ZARZOI3-244450  thermo_id_20001336   \n",
       "55769 2021-10-28  NORTE  ZSOZAR-ZARZOI3-244450  thermo_id_20001336   \n",
       "55770 2021-10-29  NORTE  ZSOZAR-ZARZOI3-244450  thermo_id_20001336   \n",
       "55771 2021-10-30  NORTE  ZSOZAR-ZARZOI3-244450  thermo_id_20001336   \n",
       "55772 2021-10-31  NORTE  ZSOZAR-ZARZOI3-244450  thermo_id_20001336   \n",
       "\n",
       "       temperatura_maxima  temperatura_minima  status         bloco   ano  \n",
       "0                    54.2                24.7  Normal  (23.0, 25.0]  2023  \n",
       "1                    49.1                19.1  Normal  (19.0, 21.0]  2023  \n",
       "2                    56.1                19.6  Normal  (19.0, 21.0]  2023  \n",
       "3                    56.4                18.8  Normal  (17.0, 19.0]  2023  \n",
       "4                    57.6                20.6  Normal  (19.0, 21.0]  2023  \n",
       "...                   ...                 ...     ...           ...   ...  \n",
       "55768                36.0                20.0  Normal  (19.0, 21.0]  2021  \n",
       "55769                33.0                20.0  Normal  (19.0, 21.0]  2021  \n",
       "55770                42.0                18.0  Normal  (17.0, 19.0]  2021  \n",
       "55771                44.0                19.0  Normal  (17.0, 19.0]  2021  \n",
       "55772                24.0                19.0  Normal  (17.0, 19.0]  2021  \n",
       "\n",
       "[55773 rows x 9 columns]"
      ]
     },
     "execution_count": 19,
     "metadata": {},
     "output_type": "execute_result"
    }
   ],
   "source": [
    "df_araraquara"
   ]
  },
  {
   "cell_type": "code",
   "execution_count": null,
   "metadata": {},
   "outputs": [],
   "source": []
  }
 ],
 "metadata": {
  "kernelspec": {
   "display_name": "venv",
   "language": "python",
   "name": "python3"
  },
  "language_info": {
   "codemirror_mode": {
    "name": "ipython",
    "version": 3
   },
   "file_extension": ".py",
   "mimetype": "text/x-python",
   "name": "python",
   "nbconvert_exporter": "python",
   "pygments_lexer": "ipython3",
   "version": "3.10.11"
  }
 },
 "nbformat": 4,
 "nbformat_minor": 2
}
