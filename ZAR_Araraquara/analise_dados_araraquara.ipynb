{
 "cells": [
  {
   "cell_type": "markdown",
   "metadata": {},
   "source": [
    "## Importando as Bibliotecas"
   ]
  },
  {
   "cell_type": "code",
   "execution_count": 79,
   "metadata": {},
   "outputs": [],
   "source": [
    "import pandas as pd\n",
    "import numpy as np\n",
    "import seaborn as sns\n",
    "import matplotlib.pyplot as plt\n",
    "from dash import Dash, dcc, html, Input, Output\n",
    "import plotly.express as px\n",
    "import plotly.graph_objects as go"
   ]
  },
  {
   "cell_type": "markdown",
   "metadata": {},
   "source": [
    "## Implementação Inicial carregando e as bases de dados"
   ]
  },
  {
   "cell_type": "code",
   "execution_count": 2,
   "metadata": {},
   "outputs": [
    {
     "name": "stderr",
     "output_type": "stream",
     "text": [
      "C:\\Users\\Cristiano\\AppData\\Local\\Temp\\ipykernel_40492\\1806991170.py:1: DtypeWarning: Columns (4) have mixed types. Specify dtype option on import or set low_memory=False.\n",
      "  df = pd.read_csv(\"C:/Users/Cristiano/OneDrive - Belago Technologies/Documentos/projeto_fnt/data/ZAR-21106_20200205_20231107.csv\")\n"
     ]
    }
   ],
   "source": [
    "df = pd.read_csv(\"C:/Users/Cristiano/OneDrive - Belago Technologies/Documentos/projeto_fnt/data/ZAR-21106_20200205_20231107.csv\")\n",
    "df2 = pd.read_csv(\"C:/Users/Cristiano/OneDrive - Belago Technologies/Documentos/projeto_fnt/data/ZAR-20001336_20231108_20241227.csv\")"
   ]
  },
  {
   "cell_type": "code",
   "execution_count": 3,
   "metadata": {},
   "outputs": [
    {
     "data": {
      "text/html": [
       "<div>\n",
       "<style scoped>\n",
       "    .dataframe tbody tr th:only-of-type {\n",
       "        vertical-align: middle;\n",
       "    }\n",
       "\n",
       "    .dataframe tbody tr th {\n",
       "        vertical-align: top;\n",
       "    }\n",
       "\n",
       "    .dataframe thead th {\n",
       "        text-align: right;\n",
       "    }\n",
       "</style>\n",
       "<table border=\"1\" class=\"dataframe\">\n",
       "  <thead>\n",
       "    <tr style=\"text-align: right;\">\n",
       "      <th></th>\n",
       "      <th>uid</th>\n",
       "      <th>regiao</th>\n",
       "      <th>operacao</th>\n",
       "      <th>original</th>\n",
       "      <th>descritivo</th>\n",
       "      <th>temperatura</th>\n",
       "      <th>temperaturatermometro</th>\n",
       "      <th>responsavel</th>\n",
       "      <th>substituidopor</th>\n",
       "      <th>amplitude</th>\n",
       "      <th>status</th>\n",
       "      <th>checkedat</th>\n",
       "      <th>dataref</th>\n",
       "      <th>year</th>\n",
       "      <th>month</th>\n",
       "      <th>day</th>\n",
       "    </tr>\n",
       "  </thead>\n",
       "  <tbody>\n",
       "    <tr>\n",
       "      <th>0</th>\n",
       "      <td>thermo_ID_21106_20200205_194353</td>\n",
       "      <td>NORTE</td>\n",
       "      <td>ARARAQUARA</td>\n",
       "      <td>thermo_ID_21106</td>\n",
       "      <td>NaN</td>\n",
       "      <td>28.0</td>\n",
       "      <td>28.0</td>\n",
       "      <td>NaN</td>\n",
       "      <td>NaN</td>\n",
       "      <td>8.0</td>\n",
       "      <td>Normal</td>\n",
       "      <td>2020-02-05 19:43:53</td>\n",
       "      <td>2020-02-05</td>\n",
       "      <td>2020</td>\n",
       "      <td>2</td>\n",
       "      <td>5</td>\n",
       "    </tr>\n",
       "    <tr>\n",
       "      <th>1</th>\n",
       "      <td>thermo_ID_21106_20200205_195351</td>\n",
       "      <td>NORTE</td>\n",
       "      <td>ARARAQUARA</td>\n",
       "      <td>thermo_ID_21106</td>\n",
       "      <td>NaN</td>\n",
       "      <td>28.0</td>\n",
       "      <td>28.0</td>\n",
       "      <td>NaN</td>\n",
       "      <td>NaN</td>\n",
       "      <td>8.0</td>\n",
       "      <td>Normal</td>\n",
       "      <td>2020-02-05 19:53:51</td>\n",
       "      <td>2020-02-05</td>\n",
       "      <td>2020</td>\n",
       "      <td>2</td>\n",
       "      <td>5</td>\n",
       "    </tr>\n",
       "  </tbody>\n",
       "</table>\n",
       "</div>"
      ],
      "text/plain": [
       "                               uid regiao    operacao         original  \\\n",
       "0  thermo_ID_21106_20200205_194353  NORTE  ARARAQUARA  thermo_ID_21106   \n",
       "1  thermo_ID_21106_20200205_195351  NORTE  ARARAQUARA  thermo_ID_21106   \n",
       "\n",
       "  descritivo  temperatura  temperaturatermometro responsavel substituidopor  \\\n",
       "0        NaN         28.0                   28.0         NaN            NaN   \n",
       "1        NaN         28.0                   28.0         NaN            NaN   \n",
       "\n",
       "   amplitude  status            checkedat     dataref  year  month  day  \n",
       "0        8.0  Normal  2020-02-05 19:43:53  2020-02-05  2020      2    5  \n",
       "1        8.0  Normal  2020-02-05 19:53:51  2020-02-05  2020      2    5  "
      ]
     },
     "execution_count": 3,
     "metadata": {},
     "output_type": "execute_result"
    }
   ],
   "source": [
    "df.head(2)"
   ]
  },
  {
   "cell_type": "code",
   "execution_count": 4,
   "metadata": {},
   "outputs": [
    {
     "data": {
      "text/html": [
       "<div>\n",
       "<style scoped>\n",
       "    .dataframe tbody tr th:only-of-type {\n",
       "        vertical-align: middle;\n",
       "    }\n",
       "\n",
       "    .dataframe tbody tr th {\n",
       "        vertical-align: top;\n",
       "    }\n",
       "\n",
       "    .dataframe thead th {\n",
       "        text-align: right;\n",
       "    }\n",
       "</style>\n",
       "<table border=\"1\" class=\"dataframe\">\n",
       "  <thead>\n",
       "    <tr style=\"text-align: right;\">\n",
       "      <th></th>\n",
       "      <th>uid</th>\n",
       "      <th>regiao</th>\n",
       "      <th>operacao</th>\n",
       "      <th>original</th>\n",
       "      <th>descritivo</th>\n",
       "      <th>temperatura</th>\n",
       "      <th>temperaturatermometro</th>\n",
       "      <th>responsavel</th>\n",
       "      <th>substituidopor</th>\n",
       "      <th>amplitude</th>\n",
       "      <th>status</th>\n",
       "      <th>checkedat</th>\n",
       "      <th>dataref</th>\n",
       "      <th>year</th>\n",
       "      <th>month</th>\n",
       "      <th>day</th>\n",
       "    </tr>\n",
       "  </thead>\n",
       "  <tbody>\n",
       "    <tr>\n",
       "      <th>0</th>\n",
       "      <td>thermo_id_20001336_20231108_085106</td>\n",
       "      <td>NORTE</td>\n",
       "      <td>ZSOZAR-ZARZOI3-244450</td>\n",
       "      <td>thermo_id_20001336</td>\n",
       "      <td>NaN</td>\n",
       "      <td>37.6</td>\n",
       "      <td>37.6</td>\n",
       "      <td>NaN</td>\n",
       "      <td>NaN</td>\n",
       "      <td>0.0</td>\n",
       "      <td>Normal</td>\n",
       "      <td>2023-11-08 08:51:06</td>\n",
       "      <td>2023-11-08</td>\n",
       "      <td>2023</td>\n",
       "      <td>11</td>\n",
       "      <td>8</td>\n",
       "    </tr>\n",
       "    <tr>\n",
       "      <th>1</th>\n",
       "      <td>thermo_id_20001336_20231108_095105</td>\n",
       "      <td>NORTE</td>\n",
       "      <td>ZSOZAR-ZARZOI3-244450</td>\n",
       "      <td>thermo_id_20001336</td>\n",
       "      <td>NaN</td>\n",
       "      <td>42.9</td>\n",
       "      <td>42.9</td>\n",
       "      <td>NaN</td>\n",
       "      <td>NaN</td>\n",
       "      <td>6.7</td>\n",
       "      <td>Normal</td>\n",
       "      <td>2023-11-08 09:51:05</td>\n",
       "      <td>2023-11-08</td>\n",
       "      <td>2023</td>\n",
       "      <td>11</td>\n",
       "      <td>8</td>\n",
       "    </tr>\n",
       "  </tbody>\n",
       "</table>\n",
       "</div>"
      ],
      "text/plain": [
       "                                  uid regiao               operacao  \\\n",
       "0  thermo_id_20001336_20231108_085106  NORTE  ZSOZAR-ZARZOI3-244450   \n",
       "1  thermo_id_20001336_20231108_095105  NORTE  ZSOZAR-ZARZOI3-244450   \n",
       "\n",
       "             original descritivo  temperatura  temperaturatermometro  \\\n",
       "0  thermo_id_20001336        NaN         37.6                   37.6   \n",
       "1  thermo_id_20001336        NaN         42.9                   42.9   \n",
       "\n",
       "  responsavel substituidopor  amplitude  status            checkedat  \\\n",
       "0         NaN            NaN        0.0  Normal  2023-11-08 08:51:06   \n",
       "1         NaN            NaN        6.7  Normal  2023-11-08 09:51:05   \n",
       "\n",
       "      dataref  year  month  day  \n",
       "0  2023-11-08  2023     11    8  \n",
       "1  2023-11-08  2023     11    8  "
      ]
     },
     "execution_count": 4,
     "metadata": {},
     "output_type": "execute_result"
    }
   ],
   "source": [
    "df2.head(2)"
   ]
  },
  {
   "cell_type": "code",
   "execution_count": 5,
   "metadata": {},
   "outputs": [],
   "source": [
    "# Concatenar os dois dataframes\n",
    "df_combined = pd.concat([df, df2], ignore_index=True)\n",
    "df_combined['operacao'] = 'araraquara'\n",
    "df_combined.drop(columns=['uid', 'descritivo', 'temperatura', 'responsavel', 'substituidopor', 'checkedat'], inplace=True)"
   ]
  },
  {
   "cell_type": "code",
   "execution_count": 6,
   "metadata": {},
   "outputs": [],
   "source": [
    "df_normal = df_combined"
   ]
  },
  {
   "cell_type": "markdown",
   "metadata": {},
   "source": [
    "## Análise de Dados"
   ]
  },
  {
   "cell_type": "code",
   "execution_count": 7,
   "metadata": {},
   "outputs": [],
   "source": [
    "# Classificar erros no DataFrame\n",
    "df_normal['error_category'] = df_normal.apply(\n",
    "    lambda row: row['status'] if row['status'] != 'Normal' else ('Erro Consistência' if row['temperaturatermometro'] < 0 or row['temperaturatermometro'] > 65 else 'Normal'),\n",
    "    axis=1\n",
    ")"
   ]
  },
  {
   "cell_type": "code",
   "execution_count": 8,
   "metadata": {},
   "outputs": [],
   "source": [
    "# 1a) Quantidade e porcentagem de medidas com status Normal X Com qualquer erro\n",
    "status_counts = df_normal['error_category'].value_counts()\n",
    "total_measures = len(df_normal)\n",
    "status_percentages = (status_counts / total_measures * 100).round(2)"
   ]
  },
  {
   "cell_type": "code",
   "execution_count": 9,
   "metadata": {},
   "outputs": [
    {
     "data": {
      "text/plain": [
       "error_category\n",
       "Normal               91.18\n",
       "ErroTOCF              6.11\n",
       "ManualEquipamento     1.57\n",
       "ErroTO                1.05\n",
       "Erro Consistência     0.09\n",
       "Name: count, dtype: float64"
      ]
     },
     "execution_count": 9,
     "metadata": {},
     "output_type": "execute_result"
    }
   ],
   "source": [
    "status_percentages"
   ]
  },
  {
   "cell_type": "markdown",
   "metadata": {},
   "source": [
    "## Gráfico Dash Análise de Erros por Mês e Categoria"
   ]
  },
  {
   "cell_type": "code",
   "execution_count": 63,
   "metadata": {},
   "outputs": [
    {
     "data": {
      "text/html": [
       "\n",
       "        <iframe\n",
       "            width=\"100%\"\n",
       "            height=\"650\"\n",
       "            src=\"http://127.0.0.1:8050/\"\n",
       "            frameborder=\"0\"\n",
       "            allowfullscreen\n",
       "            \n",
       "        ></iframe>\n",
       "        "
      ],
      "text/plain": [
       "<IPython.lib.display.IFrame at 0x274c4de7b50>"
      ]
     },
     "metadata": {},
     "output_type": "display_data"
    }
   ],
   "source": [
    "app = Dash(__name__)\n",
    "\n",
    "df_normal['year_month'] = df_normal['year'].astype(str) + '-' + df_normal['month'].astype(str).str.zfill(2)\n",
    "\n",
    "# Agrupamos os dados por ano e mês para contagens\n",
    "monthly_status_counts = df_normal.groupby(['year_month', 'error_category']).size().unstack(fill_value=0)\n",
    "\n",
    "monthly_status_percentages = (monthly_status_counts.div(monthly_status_counts.sum(axis=1), axis=0) * 100).round(2)\n",
    "\n",
    "app.layout = html.Div([\n",
    "    html.H4('Análise de Erros por Mês e Categoria', style={'color': 'white'}),\n",
    "    \n",
    "    dcc.Graph(id=\"graph\"),\n",
    "    \n",
    "    # Dropdown para escolher o mês\n",
    "    html.P(\"Escolha o mês:\", style={'color': 'white'}),\n",
    "    dcc.Dropdown(\n",
    "        id='month_dropdown',\n",
    "        options=[{'label': month, 'value': month} for month in monthly_status_percentages.index],\n",
    "        value=monthly_status_percentages.index[-1],  # Valor inicial é o último mês\n",
    "        clearable=False\n",
    "    ),\n",
    "    \n",
    "    # Dropdown para escolher a categoria de erro\n",
    "    html.P(\"Escolha a categoria de erro:\", style={'color': 'white'}),\n",
    "    dcc.Dropdown(\n",
    "        id='error_category_dropdown',\n",
    "        options=[{'label': category, 'value': category} for category in monthly_status_percentages.columns],\n",
    "        value=monthly_status_percentages.columns[0],  # Valor inicial é a primeira categoria\n",
    "        clearable=False\n",
    "    ),\n",
    "])\n",
    "\n",
    "# Callback para gerar o gráfico\n",
    "@app.callback(\n",
    "    Output(\"graph\", \"figure\"),\n",
    "    Input(\"month_dropdown\", \"value\"),\n",
    "    Input(\"error_category_dropdown\", \"value\")\n",
    ")\n",
    "def generate_chart(month, error_category):\n",
    "    # Filtra os dados para o mês e a categoria selecionada\n",
    "    month_data = monthly_status_percentages.loc[month]\n",
    "    \n",
    "    fig = px.pie(\n",
    "        names=month_data.index,\n",
    "        values=month_data,\n",
    "        title=f\"Distribuição de Erros - {month}\",\n",
    "        hole=0.3\n",
    "    )\n",
    "    \n",
    "    fig.update_layout(\n",
    "        title={'text': f\"Distribuição de Erros - {month}\", 'font': {'color': 'white'}},\n",
    "        paper_bgcolor='rgb(0,0,0)', \n",
    "        plot_bgcolor='rgb(0,0,0)',   \n",
    "        font={'color': 'white'},     \n",
    "    )\n",
    "    \n",
    "    return fig\n",
    "\n",
    "if __name__ == \"__main__\":\n",
    "    app.run_server(debug=True)"
   ]
  },
  {
   "cell_type": "code",
   "execution_count": 10,
   "metadata": {},
   "outputs": [],
   "source": [
    "# Abertura mensal\n",
    "df_normal['year_month'] = df_normal['year'].astype(str) + '-' + df_normal['month'].astype(str).str.zfill(2)\n",
    "monthly_status_counts = df_normal.groupby(['year_month', 'error_category']).size().unstack(fill_value=0)\n",
    "monthly_status_percentages = (monthly_status_counts.div(monthly_status_counts.sum(axis=1), axis=0) * 100).round(2)"
   ]
  },
  {
   "cell_type": "code",
   "execution_count": 11,
   "metadata": {},
   "outputs": [
    {
     "data": {
      "text/html": [
       "<div>\n",
       "<style scoped>\n",
       "    .dataframe tbody tr th:only-of-type {\n",
       "        vertical-align: middle;\n",
       "    }\n",
       "\n",
       "    .dataframe tbody tr th {\n",
       "        vertical-align: top;\n",
       "    }\n",
       "\n",
       "    .dataframe thead th {\n",
       "        text-align: right;\n",
       "    }\n",
       "</style>\n",
       "<table border=\"1\" class=\"dataframe\">\n",
       "  <thead>\n",
       "    <tr style=\"text-align: right;\">\n",
       "      <th>error_category</th>\n",
       "      <th>Erro Consistência</th>\n",
       "      <th>ErroTO</th>\n",
       "      <th>ErroTOCF</th>\n",
       "      <th>ManualEquipamento</th>\n",
       "      <th>Normal</th>\n",
       "    </tr>\n",
       "    <tr>\n",
       "      <th>year_month</th>\n",
       "      <th></th>\n",
       "      <th></th>\n",
       "      <th></th>\n",
       "      <th></th>\n",
       "      <th></th>\n",
       "    </tr>\n",
       "  </thead>\n",
       "  <tbody>\n",
       "    <tr>\n",
       "      <th>2020-02</th>\n",
       "      <td>0.00</td>\n",
       "      <td>0.00</td>\n",
       "      <td>1.53</td>\n",
       "      <td>0.00</td>\n",
       "      <td>98.47</td>\n",
       "    </tr>\n",
       "    <tr>\n",
       "      <th>2020-03</th>\n",
       "      <td>0.00</td>\n",
       "      <td>0.00</td>\n",
       "      <td>68.58</td>\n",
       "      <td>0.00</td>\n",
       "      <td>31.42</td>\n",
       "    </tr>\n",
       "    <tr>\n",
       "      <th>2020-04</th>\n",
       "      <td>0.00</td>\n",
       "      <td>0.00</td>\n",
       "      <td>16.34</td>\n",
       "      <td>0.00</td>\n",
       "      <td>83.66</td>\n",
       "    </tr>\n",
       "    <tr>\n",
       "      <th>2020-05</th>\n",
       "      <td>0.00</td>\n",
       "      <td>0.00</td>\n",
       "      <td>2.84</td>\n",
       "      <td>9.97</td>\n",
       "      <td>87.19</td>\n",
       "    </tr>\n",
       "    <tr>\n",
       "      <th>2020-06</th>\n",
       "      <td>0.00</td>\n",
       "      <td>0.00</td>\n",
       "      <td>0.08</td>\n",
       "      <td>0.00</td>\n",
       "      <td>99.92</td>\n",
       "    </tr>\n",
       "    <tr>\n",
       "      <th>2020-07</th>\n",
       "      <td>0.00</td>\n",
       "      <td>0.00</td>\n",
       "      <td>0.04</td>\n",
       "      <td>0.00</td>\n",
       "      <td>99.96</td>\n",
       "    </tr>\n",
       "    <tr>\n",
       "      <th>2020-08</th>\n",
       "      <td>0.00</td>\n",
       "      <td>0.00</td>\n",
       "      <td>0.05</td>\n",
       "      <td>0.00</td>\n",
       "      <td>99.95</td>\n",
       "    </tr>\n",
       "    <tr>\n",
       "      <th>2020-09</th>\n",
       "      <td>0.00</td>\n",
       "      <td>0.00</td>\n",
       "      <td>0.00</td>\n",
       "      <td>0.00</td>\n",
       "      <td>100.00</td>\n",
       "    </tr>\n",
       "    <tr>\n",
       "      <th>2020-10</th>\n",
       "      <td>0.00</td>\n",
       "      <td>0.00</td>\n",
       "      <td>0.00</td>\n",
       "      <td>0.00</td>\n",
       "      <td>100.00</td>\n",
       "    </tr>\n",
       "    <tr>\n",
       "      <th>2020-11</th>\n",
       "      <td>0.00</td>\n",
       "      <td>0.00</td>\n",
       "      <td>1.20</td>\n",
       "      <td>0.16</td>\n",
       "      <td>98.64</td>\n",
       "    </tr>\n",
       "    <tr>\n",
       "      <th>2020-12</th>\n",
       "      <td>0.00</td>\n",
       "      <td>0.00</td>\n",
       "      <td>0.00</td>\n",
       "      <td>0.00</td>\n",
       "      <td>100.00</td>\n",
       "    </tr>\n",
       "    <tr>\n",
       "      <th>2021-01</th>\n",
       "      <td>0.00</td>\n",
       "      <td>0.00</td>\n",
       "      <td>0.02</td>\n",
       "      <td>1.64</td>\n",
       "      <td>98.34</td>\n",
       "    </tr>\n",
       "    <tr>\n",
       "      <th>2021-02</th>\n",
       "      <td>0.00</td>\n",
       "      <td>0.00</td>\n",
       "      <td>0.00</td>\n",
       "      <td>0.00</td>\n",
       "      <td>100.00</td>\n",
       "    </tr>\n",
       "    <tr>\n",
       "      <th>2021-03</th>\n",
       "      <td>0.00</td>\n",
       "      <td>0.00</td>\n",
       "      <td>0.06</td>\n",
       "      <td>15.60</td>\n",
       "      <td>84.34</td>\n",
       "    </tr>\n",
       "    <tr>\n",
       "      <th>2021-04</th>\n",
       "      <td>0.00</td>\n",
       "      <td>0.00</td>\n",
       "      <td>0.00</td>\n",
       "      <td>0.00</td>\n",
       "      <td>100.00</td>\n",
       "    </tr>\n",
       "    <tr>\n",
       "      <th>2021-05</th>\n",
       "      <td>0.00</td>\n",
       "      <td>0.00</td>\n",
       "      <td>1.34</td>\n",
       "      <td>0.00</td>\n",
       "      <td>98.66</td>\n",
       "    </tr>\n",
       "    <tr>\n",
       "      <th>2021-06</th>\n",
       "      <td>0.00</td>\n",
       "      <td>0.00</td>\n",
       "      <td>0.00</td>\n",
       "      <td>0.00</td>\n",
       "      <td>100.00</td>\n",
       "    </tr>\n",
       "    <tr>\n",
       "      <th>2021-07</th>\n",
       "      <td>0.00</td>\n",
       "      <td>0.00</td>\n",
       "      <td>0.00</td>\n",
       "      <td>0.00</td>\n",
       "      <td>100.00</td>\n",
       "    </tr>\n",
       "    <tr>\n",
       "      <th>2021-08</th>\n",
       "      <td>0.00</td>\n",
       "      <td>0.00</td>\n",
       "      <td>19.58</td>\n",
       "      <td>0.00</td>\n",
       "      <td>80.42</td>\n",
       "    </tr>\n",
       "    <tr>\n",
       "      <th>2021-09</th>\n",
       "      <td>0.00</td>\n",
       "      <td>0.00</td>\n",
       "      <td>1.57</td>\n",
       "      <td>0.00</td>\n",
       "      <td>98.43</td>\n",
       "    </tr>\n",
       "    <tr>\n",
       "      <th>2021-10</th>\n",
       "      <td>0.00</td>\n",
       "      <td>0.00</td>\n",
       "      <td>8.62</td>\n",
       "      <td>0.00</td>\n",
       "      <td>91.38</td>\n",
       "    </tr>\n",
       "    <tr>\n",
       "      <th>2021-11</th>\n",
       "      <td>0.00</td>\n",
       "      <td>0.00</td>\n",
       "      <td>0.00</td>\n",
       "      <td>0.00</td>\n",
       "      <td>100.00</td>\n",
       "    </tr>\n",
       "    <tr>\n",
       "      <th>2021-12</th>\n",
       "      <td>0.00</td>\n",
       "      <td>0.00</td>\n",
       "      <td>5.05</td>\n",
       "      <td>0.00</td>\n",
       "      <td>94.95</td>\n",
       "    </tr>\n",
       "    <tr>\n",
       "      <th>2022-01</th>\n",
       "      <td>0.00</td>\n",
       "      <td>0.00</td>\n",
       "      <td>0.00</td>\n",
       "      <td>0.00</td>\n",
       "      <td>100.00</td>\n",
       "    </tr>\n",
       "    <tr>\n",
       "      <th>2022-02</th>\n",
       "      <td>0.00</td>\n",
       "      <td>0.00</td>\n",
       "      <td>4.36</td>\n",
       "      <td>0.00</td>\n",
       "      <td>95.64</td>\n",
       "    </tr>\n",
       "    <tr>\n",
       "      <th>2022-03</th>\n",
       "      <td>0.00</td>\n",
       "      <td>0.00</td>\n",
       "      <td>0.67</td>\n",
       "      <td>0.00</td>\n",
       "      <td>99.33</td>\n",
       "    </tr>\n",
       "    <tr>\n",
       "      <th>2022-04</th>\n",
       "      <td>0.00</td>\n",
       "      <td>0.00</td>\n",
       "      <td>0.00</td>\n",
       "      <td>0.00</td>\n",
       "      <td>100.00</td>\n",
       "    </tr>\n",
       "    <tr>\n",
       "      <th>2022-05</th>\n",
       "      <td>0.00</td>\n",
       "      <td>0.00</td>\n",
       "      <td>0.00</td>\n",
       "      <td>0.00</td>\n",
       "      <td>100.00</td>\n",
       "    </tr>\n",
       "    <tr>\n",
       "      <th>2022-06</th>\n",
       "      <td>0.00</td>\n",
       "      <td>0.00</td>\n",
       "      <td>0.37</td>\n",
       "      <td>0.00</td>\n",
       "      <td>99.63</td>\n",
       "    </tr>\n",
       "    <tr>\n",
       "      <th>2022-07</th>\n",
       "      <td>0.00</td>\n",
       "      <td>0.00</td>\n",
       "      <td>0.00</td>\n",
       "      <td>0.00</td>\n",
       "      <td>100.00</td>\n",
       "    </tr>\n",
       "    <tr>\n",
       "      <th>2022-08</th>\n",
       "      <td>0.00</td>\n",
       "      <td>0.00</td>\n",
       "      <td>0.00</td>\n",
       "      <td>0.00</td>\n",
       "      <td>100.00</td>\n",
       "    </tr>\n",
       "    <tr>\n",
       "      <th>2022-09</th>\n",
       "      <td>0.00</td>\n",
       "      <td>0.00</td>\n",
       "      <td>0.00</td>\n",
       "      <td>0.00</td>\n",
       "      <td>100.00</td>\n",
       "    </tr>\n",
       "    <tr>\n",
       "      <th>2022-10</th>\n",
       "      <td>0.00</td>\n",
       "      <td>0.00</td>\n",
       "      <td>0.00</td>\n",
       "      <td>0.00</td>\n",
       "      <td>100.00</td>\n",
       "    </tr>\n",
       "    <tr>\n",
       "      <th>2022-11</th>\n",
       "      <td>0.00</td>\n",
       "      <td>0.00</td>\n",
       "      <td>0.00</td>\n",
       "      <td>0.00</td>\n",
       "      <td>100.00</td>\n",
       "    </tr>\n",
       "    <tr>\n",
       "      <th>2022-12</th>\n",
       "      <td>0.00</td>\n",
       "      <td>0.00</td>\n",
       "      <td>1.38</td>\n",
       "      <td>0.00</td>\n",
       "      <td>98.62</td>\n",
       "    </tr>\n",
       "    <tr>\n",
       "      <th>2023-01</th>\n",
       "      <td>0.00</td>\n",
       "      <td>0.00</td>\n",
       "      <td>0.00</td>\n",
       "      <td>0.00</td>\n",
       "      <td>100.00</td>\n",
       "    </tr>\n",
       "    <tr>\n",
       "      <th>2023-02</th>\n",
       "      <td>0.00</td>\n",
       "      <td>0.00</td>\n",
       "      <td>1.13</td>\n",
       "      <td>0.00</td>\n",
       "      <td>98.87</td>\n",
       "    </tr>\n",
       "    <tr>\n",
       "      <th>2023-03</th>\n",
       "      <td>0.00</td>\n",
       "      <td>0.00</td>\n",
       "      <td>0.00</td>\n",
       "      <td>0.00</td>\n",
       "      <td>100.00</td>\n",
       "    </tr>\n",
       "    <tr>\n",
       "      <th>2023-04</th>\n",
       "      <td>0.00</td>\n",
       "      <td>0.00</td>\n",
       "      <td>1.50</td>\n",
       "      <td>0.00</td>\n",
       "      <td>98.50</td>\n",
       "    </tr>\n",
       "    <tr>\n",
       "      <th>2023-05</th>\n",
       "      <td>0.00</td>\n",
       "      <td>0.00</td>\n",
       "      <td>0.00</td>\n",
       "      <td>0.00</td>\n",
       "      <td>100.00</td>\n",
       "    </tr>\n",
       "    <tr>\n",
       "      <th>2023-06</th>\n",
       "      <td>0.00</td>\n",
       "      <td>0.00</td>\n",
       "      <td>0.02</td>\n",
       "      <td>0.00</td>\n",
       "      <td>99.98</td>\n",
       "    </tr>\n",
       "    <tr>\n",
       "      <th>2023-07</th>\n",
       "      <td>0.00</td>\n",
       "      <td>0.00</td>\n",
       "      <td>0.00</td>\n",
       "      <td>0.00</td>\n",
       "      <td>100.00</td>\n",
       "    </tr>\n",
       "    <tr>\n",
       "      <th>2023-08</th>\n",
       "      <td>0.00</td>\n",
       "      <td>0.00</td>\n",
       "      <td>50.27</td>\n",
       "      <td>0.00</td>\n",
       "      <td>49.73</td>\n",
       "    </tr>\n",
       "    <tr>\n",
       "      <th>2023-09</th>\n",
       "      <td>0.00</td>\n",
       "      <td>0.00</td>\n",
       "      <td>100.00</td>\n",
       "      <td>0.00</td>\n",
       "      <td>0.00</td>\n",
       "    </tr>\n",
       "    <tr>\n",
       "      <th>2023-10</th>\n",
       "      <td>0.00</td>\n",
       "      <td>0.00</td>\n",
       "      <td>100.00</td>\n",
       "      <td>0.00</td>\n",
       "      <td>0.00</td>\n",
       "    </tr>\n",
       "    <tr>\n",
       "      <th>2023-11</th>\n",
       "      <td>0.00</td>\n",
       "      <td>0.00</td>\n",
       "      <td>34.23</td>\n",
       "      <td>0.00</td>\n",
       "      <td>65.77</td>\n",
       "    </tr>\n",
       "    <tr>\n",
       "      <th>2023-12</th>\n",
       "      <td>0.00</td>\n",
       "      <td>0.00</td>\n",
       "      <td>0.00</td>\n",
       "      <td>0.00</td>\n",
       "      <td>100.00</td>\n",
       "    </tr>\n",
       "    <tr>\n",
       "      <th>2024-01</th>\n",
       "      <td>0.00</td>\n",
       "      <td>0.00</td>\n",
       "      <td>0.00</td>\n",
       "      <td>0.00</td>\n",
       "      <td>100.00</td>\n",
       "    </tr>\n",
       "    <tr>\n",
       "      <th>2024-02</th>\n",
       "      <td>0.00</td>\n",
       "      <td>0.00</td>\n",
       "      <td>0.00</td>\n",
       "      <td>0.00</td>\n",
       "      <td>100.00</td>\n",
       "    </tr>\n",
       "    <tr>\n",
       "      <th>2024-03</th>\n",
       "      <td>0.00</td>\n",
       "      <td>0.00</td>\n",
       "      <td>0.20</td>\n",
       "      <td>0.00</td>\n",
       "      <td>99.80</td>\n",
       "    </tr>\n",
       "    <tr>\n",
       "      <th>2024-04</th>\n",
       "      <td>0.00</td>\n",
       "      <td>0.00</td>\n",
       "      <td>8.56</td>\n",
       "      <td>0.00</td>\n",
       "      <td>91.44</td>\n",
       "    </tr>\n",
       "    <tr>\n",
       "      <th>2024-05</th>\n",
       "      <td>0.00</td>\n",
       "      <td>0.00</td>\n",
       "      <td>7.53</td>\n",
       "      <td>0.00</td>\n",
       "      <td>92.47</td>\n",
       "    </tr>\n",
       "    <tr>\n",
       "      <th>2024-06</th>\n",
       "      <td>0.00</td>\n",
       "      <td>0.00</td>\n",
       "      <td>1.90</td>\n",
       "      <td>0.00</td>\n",
       "      <td>98.10</td>\n",
       "    </tr>\n",
       "    <tr>\n",
       "      <th>2024-07</th>\n",
       "      <td>0.00</td>\n",
       "      <td>0.00</td>\n",
       "      <td>7.09</td>\n",
       "      <td>0.00</td>\n",
       "      <td>92.91</td>\n",
       "    </tr>\n",
       "    <tr>\n",
       "      <th>2024-08</th>\n",
       "      <td>0.00</td>\n",
       "      <td>0.00</td>\n",
       "      <td>10.17</td>\n",
       "      <td>39.23</td>\n",
       "      <td>50.60</td>\n",
       "    </tr>\n",
       "    <tr>\n",
       "      <th>2024-09</th>\n",
       "      <td>0.00</td>\n",
       "      <td>0.00</td>\n",
       "      <td>3.43</td>\n",
       "      <td>0.00</td>\n",
       "      <td>96.57</td>\n",
       "    </tr>\n",
       "    <tr>\n",
       "      <th>2024-10</th>\n",
       "      <td>5.28</td>\n",
       "      <td>1.63</td>\n",
       "      <td>1.60</td>\n",
       "      <td>5.85</td>\n",
       "      <td>85.64</td>\n",
       "    </tr>\n",
       "    <tr>\n",
       "      <th>2024-11</th>\n",
       "      <td>0.00</td>\n",
       "      <td>0.00</td>\n",
       "      <td>10.03</td>\n",
       "      <td>3.59</td>\n",
       "      <td>86.38</td>\n",
       "    </tr>\n",
       "    <tr>\n",
       "      <th>2024-12</th>\n",
       "      <td>0.02</td>\n",
       "      <td>57.90</td>\n",
       "      <td>5.08</td>\n",
       "      <td>0.00</td>\n",
       "      <td>37.00</td>\n",
       "    </tr>\n",
       "  </tbody>\n",
       "</table>\n",
       "</div>"
      ],
      "text/plain": [
       "error_category  Erro Consistência  ErroTO  ErroTOCF  ManualEquipamento  Normal\n",
       "year_month                                                                    \n",
       "2020-02                      0.00    0.00      1.53               0.00   98.47\n",
       "2020-03                      0.00    0.00     68.58               0.00   31.42\n",
       "2020-04                      0.00    0.00     16.34               0.00   83.66\n",
       "2020-05                      0.00    0.00      2.84               9.97   87.19\n",
       "2020-06                      0.00    0.00      0.08               0.00   99.92\n",
       "2020-07                      0.00    0.00      0.04               0.00   99.96\n",
       "2020-08                      0.00    0.00      0.05               0.00   99.95\n",
       "2020-09                      0.00    0.00      0.00               0.00  100.00\n",
       "2020-10                      0.00    0.00      0.00               0.00  100.00\n",
       "2020-11                      0.00    0.00      1.20               0.16   98.64\n",
       "2020-12                      0.00    0.00      0.00               0.00  100.00\n",
       "2021-01                      0.00    0.00      0.02               1.64   98.34\n",
       "2021-02                      0.00    0.00      0.00               0.00  100.00\n",
       "2021-03                      0.00    0.00      0.06              15.60   84.34\n",
       "2021-04                      0.00    0.00      0.00               0.00  100.00\n",
       "2021-05                      0.00    0.00      1.34               0.00   98.66\n",
       "2021-06                      0.00    0.00      0.00               0.00  100.00\n",
       "2021-07                      0.00    0.00      0.00               0.00  100.00\n",
       "2021-08                      0.00    0.00     19.58               0.00   80.42\n",
       "2021-09                      0.00    0.00      1.57               0.00   98.43\n",
       "2021-10                      0.00    0.00      8.62               0.00   91.38\n",
       "2021-11                      0.00    0.00      0.00               0.00  100.00\n",
       "2021-12                      0.00    0.00      5.05               0.00   94.95\n",
       "2022-01                      0.00    0.00      0.00               0.00  100.00\n",
       "2022-02                      0.00    0.00      4.36               0.00   95.64\n",
       "2022-03                      0.00    0.00      0.67               0.00   99.33\n",
       "2022-04                      0.00    0.00      0.00               0.00  100.00\n",
       "2022-05                      0.00    0.00      0.00               0.00  100.00\n",
       "2022-06                      0.00    0.00      0.37               0.00   99.63\n",
       "2022-07                      0.00    0.00      0.00               0.00  100.00\n",
       "2022-08                      0.00    0.00      0.00               0.00  100.00\n",
       "2022-09                      0.00    0.00      0.00               0.00  100.00\n",
       "2022-10                      0.00    0.00      0.00               0.00  100.00\n",
       "2022-11                      0.00    0.00      0.00               0.00  100.00\n",
       "2022-12                      0.00    0.00      1.38               0.00   98.62\n",
       "2023-01                      0.00    0.00      0.00               0.00  100.00\n",
       "2023-02                      0.00    0.00      1.13               0.00   98.87\n",
       "2023-03                      0.00    0.00      0.00               0.00  100.00\n",
       "2023-04                      0.00    0.00      1.50               0.00   98.50\n",
       "2023-05                      0.00    0.00      0.00               0.00  100.00\n",
       "2023-06                      0.00    0.00      0.02               0.00   99.98\n",
       "2023-07                      0.00    0.00      0.00               0.00  100.00\n",
       "2023-08                      0.00    0.00     50.27               0.00   49.73\n",
       "2023-09                      0.00    0.00    100.00               0.00    0.00\n",
       "2023-10                      0.00    0.00    100.00               0.00    0.00\n",
       "2023-11                      0.00    0.00     34.23               0.00   65.77\n",
       "2023-12                      0.00    0.00      0.00               0.00  100.00\n",
       "2024-01                      0.00    0.00      0.00               0.00  100.00\n",
       "2024-02                      0.00    0.00      0.00               0.00  100.00\n",
       "2024-03                      0.00    0.00      0.20               0.00   99.80\n",
       "2024-04                      0.00    0.00      8.56               0.00   91.44\n",
       "2024-05                      0.00    0.00      7.53               0.00   92.47\n",
       "2024-06                      0.00    0.00      1.90               0.00   98.10\n",
       "2024-07                      0.00    0.00      7.09               0.00   92.91\n",
       "2024-08                      0.00    0.00     10.17              39.23   50.60\n",
       "2024-09                      0.00    0.00      3.43               0.00   96.57\n",
       "2024-10                      5.28    1.63      1.60               5.85   85.64\n",
       "2024-11                      0.00    0.00     10.03               3.59   86.38\n",
       "2024-12                      0.02   57.90      5.08               0.00   37.00"
      ]
     },
     "execution_count": 11,
     "metadata": {},
     "output_type": "execute_result"
    }
   ],
   "source": [
    "monthly_status_percentages"
   ]
  },
  {
   "cell_type": "markdown",
   "metadata": {},
   "source": [
    "## Gráfico Distribuição Mensal de Erros (Normal X Erro)"
   ]
  },
  {
   "cell_type": "code",
   "execution_count": 80,
   "metadata": {},
   "outputs": [
    {
     "data": {
      "application/vnd.plotly.v1+json": {
       "config": {
        "plotlyServerURL": "https://plot.ly"
       },
       "data": [
        {
         "marker": {
          "color": "rgb(55, 83, 109)"
         },
         "name": "Normal",
         "type": "bar",
         "x": [
          "2020-02",
          "2020-03",
          "2020-04",
          "2020-05",
          "2020-06",
          "2020-07",
          "2020-08",
          "2020-09",
          "2020-10",
          "2020-11",
          "2020-12",
          "2021-01",
          "2021-02",
          "2021-03",
          "2021-04",
          "2021-05",
          "2021-06",
          "2021-07",
          "2021-08",
          "2021-09",
          "2021-10",
          "2021-11",
          "2021-12",
          "2022-01",
          "2022-02",
          "2022-03",
          "2022-04",
          "2022-05",
          "2022-06",
          "2022-07",
          "2022-08",
          "2022-09",
          "2022-10",
          "2022-11",
          "2022-12",
          "2023-01",
          "2023-02",
          "2023-03",
          "2023-04",
          "2023-05",
          "2023-06",
          "2023-07",
          "2023-08",
          "2023-09",
          "2023-10",
          "2023-11",
          "2023-12",
          "2024-01",
          "2024-02",
          "2024-03",
          "2024-04",
          "2024-05",
          "2024-06",
          "2024-07",
          "2024-08",
          "2024-09",
          "2024-10",
          "2024-11",
          "2024-12"
         ],
         "y": [
          98.47,
          31.42,
          83.66,
          87.19,
          99.92,
          99.96,
          99.95,
          100,
          100,
          98.64,
          100,
          98.34,
          100,
          84.34,
          100,
          98.66,
          100,
          100,
          80.42,
          98.43,
          91.38,
          100,
          94.95,
          100,
          95.64,
          99.33,
          100,
          100,
          99.63,
          100,
          100,
          100,
          100,
          100,
          98.62,
          100,
          98.87,
          100,
          98.5,
          100,
          99.98,
          100,
          49.73,
          0,
          0,
          65.77,
          100,
          100,
          100,
          99.8,
          91.44,
          92.47,
          98.1,
          92.91,
          50.6,
          96.57,
          85.64,
          86.38,
          37
         ]
        },
        {
         "marker": {
          "color": "rgb(26, 118, 255)"
         },
         "name": "Erro",
         "type": "bar",
         "x": [
          "2020-02",
          "2020-03",
          "2020-04",
          "2020-05",
          "2020-06",
          "2020-07",
          "2020-08",
          "2020-09",
          "2020-10",
          "2020-11",
          "2020-12",
          "2021-01",
          "2021-02",
          "2021-03",
          "2021-04",
          "2021-05",
          "2021-06",
          "2021-07",
          "2021-08",
          "2021-09",
          "2021-10",
          "2021-11",
          "2021-12",
          "2022-01",
          "2022-02",
          "2022-03",
          "2022-04",
          "2022-05",
          "2022-06",
          "2022-07",
          "2022-08",
          "2022-09",
          "2022-10",
          "2022-11",
          "2022-12",
          "2023-01",
          "2023-02",
          "2023-03",
          "2023-04",
          "2023-05",
          "2023-06",
          "2023-07",
          "2023-08",
          "2023-09",
          "2023-10",
          "2023-11",
          "2023-12",
          "2024-01",
          "2024-02",
          "2024-03",
          "2024-04",
          "2024-05",
          "2024-06",
          "2024-07",
          "2024-08",
          "2024-09",
          "2024-10",
          "2024-11",
          "2024-12"
         ],
         "y": [
          1.53,
          68.58,
          16.34,
          12.81,
          0.08,
          0.04,
          0.05,
          0,
          0,
          1.36,
          0,
          1.66,
          0,
          15.66,
          0,
          1.34,
          0,
          0,
          19.58,
          1.57,
          8.62,
          0,
          5.05,
          0,
          4.36,
          0.67,
          0,
          0,
          0.37,
          0,
          0,
          0,
          0,
          0,
          1.38,
          0,
          1.13,
          0,
          1.5,
          0,
          0.02,
          0,
          50.27,
          100,
          100,
          34.23,
          0,
          0,
          0,
          0.2,
          8.56,
          7.53,
          1.9,
          7.09,
          49.4,
          3.43,
          14.36,
          13.62,
          63
         ]
        }
       ],
       "layout": {
        "bargap": 0.15,
        "bargroupgap": 0.1,
        "barmode": "group",
        "legend": {
         "bgcolor": "rgba(255, 255, 255, 0)",
         "bordercolor": "rgba(255, 255, 255, 0)",
         "x": 0,
         "y": 1
        },
        "template": {
         "data": {
          "bar": [
           {
            "error_x": {
             "color": "#2a3f5f"
            },
            "error_y": {
             "color": "#2a3f5f"
            },
            "marker": {
             "line": {
              "color": "#E5ECF6",
              "width": 0.5
             },
             "pattern": {
              "fillmode": "overlay",
              "size": 10,
              "solidity": 0.2
             }
            },
            "type": "bar"
           }
          ],
          "barpolar": [
           {
            "marker": {
             "line": {
              "color": "#E5ECF6",
              "width": 0.5
             },
             "pattern": {
              "fillmode": "overlay",
              "size": 10,
              "solidity": 0.2
             }
            },
            "type": "barpolar"
           }
          ],
          "carpet": [
           {
            "aaxis": {
             "endlinecolor": "#2a3f5f",
             "gridcolor": "white",
             "linecolor": "white",
             "minorgridcolor": "white",
             "startlinecolor": "#2a3f5f"
            },
            "baxis": {
             "endlinecolor": "#2a3f5f",
             "gridcolor": "white",
             "linecolor": "white",
             "minorgridcolor": "white",
             "startlinecolor": "#2a3f5f"
            },
            "type": "carpet"
           }
          ],
          "choropleth": [
           {
            "colorbar": {
             "outlinewidth": 0,
             "ticks": ""
            },
            "type": "choropleth"
           }
          ],
          "contour": [
           {
            "colorbar": {
             "outlinewidth": 0,
             "ticks": ""
            },
            "colorscale": [
             [
              0,
              "#0d0887"
             ],
             [
              0.1111111111111111,
              "#46039f"
             ],
             [
              0.2222222222222222,
              "#7201a8"
             ],
             [
              0.3333333333333333,
              "#9c179e"
             ],
             [
              0.4444444444444444,
              "#bd3786"
             ],
             [
              0.5555555555555556,
              "#d8576b"
             ],
             [
              0.6666666666666666,
              "#ed7953"
             ],
             [
              0.7777777777777778,
              "#fb9f3a"
             ],
             [
              0.8888888888888888,
              "#fdca26"
             ],
             [
              1,
              "#f0f921"
             ]
            ],
            "type": "contour"
           }
          ],
          "contourcarpet": [
           {
            "colorbar": {
             "outlinewidth": 0,
             "ticks": ""
            },
            "type": "contourcarpet"
           }
          ],
          "heatmap": [
           {
            "colorbar": {
             "outlinewidth": 0,
             "ticks": ""
            },
            "colorscale": [
             [
              0,
              "#0d0887"
             ],
             [
              0.1111111111111111,
              "#46039f"
             ],
             [
              0.2222222222222222,
              "#7201a8"
             ],
             [
              0.3333333333333333,
              "#9c179e"
             ],
             [
              0.4444444444444444,
              "#bd3786"
             ],
             [
              0.5555555555555556,
              "#d8576b"
             ],
             [
              0.6666666666666666,
              "#ed7953"
             ],
             [
              0.7777777777777778,
              "#fb9f3a"
             ],
             [
              0.8888888888888888,
              "#fdca26"
             ],
             [
              1,
              "#f0f921"
             ]
            ],
            "type": "heatmap"
           }
          ],
          "heatmapgl": [
           {
            "colorbar": {
             "outlinewidth": 0,
             "ticks": ""
            },
            "colorscale": [
             [
              0,
              "#0d0887"
             ],
             [
              0.1111111111111111,
              "#46039f"
             ],
             [
              0.2222222222222222,
              "#7201a8"
             ],
             [
              0.3333333333333333,
              "#9c179e"
             ],
             [
              0.4444444444444444,
              "#bd3786"
             ],
             [
              0.5555555555555556,
              "#d8576b"
             ],
             [
              0.6666666666666666,
              "#ed7953"
             ],
             [
              0.7777777777777778,
              "#fb9f3a"
             ],
             [
              0.8888888888888888,
              "#fdca26"
             ],
             [
              1,
              "#f0f921"
             ]
            ],
            "type": "heatmapgl"
           }
          ],
          "histogram": [
           {
            "marker": {
             "pattern": {
              "fillmode": "overlay",
              "size": 10,
              "solidity": 0.2
             }
            },
            "type": "histogram"
           }
          ],
          "histogram2d": [
           {
            "colorbar": {
             "outlinewidth": 0,
             "ticks": ""
            },
            "colorscale": [
             [
              0,
              "#0d0887"
             ],
             [
              0.1111111111111111,
              "#46039f"
             ],
             [
              0.2222222222222222,
              "#7201a8"
             ],
             [
              0.3333333333333333,
              "#9c179e"
             ],
             [
              0.4444444444444444,
              "#bd3786"
             ],
             [
              0.5555555555555556,
              "#d8576b"
             ],
             [
              0.6666666666666666,
              "#ed7953"
             ],
             [
              0.7777777777777778,
              "#fb9f3a"
             ],
             [
              0.8888888888888888,
              "#fdca26"
             ],
             [
              1,
              "#f0f921"
             ]
            ],
            "type": "histogram2d"
           }
          ],
          "histogram2dcontour": [
           {
            "colorbar": {
             "outlinewidth": 0,
             "ticks": ""
            },
            "colorscale": [
             [
              0,
              "#0d0887"
             ],
             [
              0.1111111111111111,
              "#46039f"
             ],
             [
              0.2222222222222222,
              "#7201a8"
             ],
             [
              0.3333333333333333,
              "#9c179e"
             ],
             [
              0.4444444444444444,
              "#bd3786"
             ],
             [
              0.5555555555555556,
              "#d8576b"
             ],
             [
              0.6666666666666666,
              "#ed7953"
             ],
             [
              0.7777777777777778,
              "#fb9f3a"
             ],
             [
              0.8888888888888888,
              "#fdca26"
             ],
             [
              1,
              "#f0f921"
             ]
            ],
            "type": "histogram2dcontour"
           }
          ],
          "mesh3d": [
           {
            "colorbar": {
             "outlinewidth": 0,
             "ticks": ""
            },
            "type": "mesh3d"
           }
          ],
          "parcoords": [
           {
            "line": {
             "colorbar": {
              "outlinewidth": 0,
              "ticks": ""
             }
            },
            "type": "parcoords"
           }
          ],
          "pie": [
           {
            "automargin": true,
            "type": "pie"
           }
          ],
          "scatter": [
           {
            "fillpattern": {
             "fillmode": "overlay",
             "size": 10,
             "solidity": 0.2
            },
            "type": "scatter"
           }
          ],
          "scatter3d": [
           {
            "line": {
             "colorbar": {
              "outlinewidth": 0,
              "ticks": ""
             }
            },
            "marker": {
             "colorbar": {
              "outlinewidth": 0,
              "ticks": ""
             }
            },
            "type": "scatter3d"
           }
          ],
          "scattercarpet": [
           {
            "marker": {
             "colorbar": {
              "outlinewidth": 0,
              "ticks": ""
             }
            },
            "type": "scattercarpet"
           }
          ],
          "scattergeo": [
           {
            "marker": {
             "colorbar": {
              "outlinewidth": 0,
              "ticks": ""
             }
            },
            "type": "scattergeo"
           }
          ],
          "scattergl": [
           {
            "marker": {
             "colorbar": {
              "outlinewidth": 0,
              "ticks": ""
             }
            },
            "type": "scattergl"
           }
          ],
          "scattermapbox": [
           {
            "marker": {
             "colorbar": {
              "outlinewidth": 0,
              "ticks": ""
             }
            },
            "type": "scattermapbox"
           }
          ],
          "scatterpolar": [
           {
            "marker": {
             "colorbar": {
              "outlinewidth": 0,
              "ticks": ""
             }
            },
            "type": "scatterpolar"
           }
          ],
          "scatterpolargl": [
           {
            "marker": {
             "colorbar": {
              "outlinewidth": 0,
              "ticks": ""
             }
            },
            "type": "scatterpolargl"
           }
          ],
          "scatterternary": [
           {
            "marker": {
             "colorbar": {
              "outlinewidth": 0,
              "ticks": ""
             }
            },
            "type": "scatterternary"
           }
          ],
          "surface": [
           {
            "colorbar": {
             "outlinewidth": 0,
             "ticks": ""
            },
            "colorscale": [
             [
              0,
              "#0d0887"
             ],
             [
              0.1111111111111111,
              "#46039f"
             ],
             [
              0.2222222222222222,
              "#7201a8"
             ],
             [
              0.3333333333333333,
              "#9c179e"
             ],
             [
              0.4444444444444444,
              "#bd3786"
             ],
             [
              0.5555555555555556,
              "#d8576b"
             ],
             [
              0.6666666666666666,
              "#ed7953"
             ],
             [
              0.7777777777777778,
              "#fb9f3a"
             ],
             [
              0.8888888888888888,
              "#fdca26"
             ],
             [
              1,
              "#f0f921"
             ]
            ],
            "type": "surface"
           }
          ],
          "table": [
           {
            "cells": {
             "fill": {
              "color": "#EBF0F8"
             },
             "line": {
              "color": "white"
             }
            },
            "header": {
             "fill": {
              "color": "#C8D4E3"
             },
             "line": {
              "color": "white"
             }
            },
            "type": "table"
           }
          ]
         },
         "layout": {
          "annotationdefaults": {
           "arrowcolor": "#2a3f5f",
           "arrowhead": 0,
           "arrowwidth": 1
          },
          "autotypenumbers": "strict",
          "coloraxis": {
           "colorbar": {
            "outlinewidth": 0,
            "ticks": ""
           }
          },
          "colorscale": {
           "diverging": [
            [
             0,
             "#8e0152"
            ],
            [
             0.1,
             "#c51b7d"
            ],
            [
             0.2,
             "#de77ae"
            ],
            [
             0.3,
             "#f1b6da"
            ],
            [
             0.4,
             "#fde0ef"
            ],
            [
             0.5,
             "#f7f7f7"
            ],
            [
             0.6,
             "#e6f5d0"
            ],
            [
             0.7,
             "#b8e186"
            ],
            [
             0.8,
             "#7fbc41"
            ],
            [
             0.9,
             "#4d9221"
            ],
            [
             1,
             "#276419"
            ]
           ],
           "sequential": [
            [
             0,
             "#0d0887"
            ],
            [
             0.1111111111111111,
             "#46039f"
            ],
            [
             0.2222222222222222,
             "#7201a8"
            ],
            [
             0.3333333333333333,
             "#9c179e"
            ],
            [
             0.4444444444444444,
             "#bd3786"
            ],
            [
             0.5555555555555556,
             "#d8576b"
            ],
            [
             0.6666666666666666,
             "#ed7953"
            ],
            [
             0.7777777777777778,
             "#fb9f3a"
            ],
            [
             0.8888888888888888,
             "#fdca26"
            ],
            [
             1,
             "#f0f921"
            ]
           ],
           "sequentialminus": [
            [
             0,
             "#0d0887"
            ],
            [
             0.1111111111111111,
             "#46039f"
            ],
            [
             0.2222222222222222,
             "#7201a8"
            ],
            [
             0.3333333333333333,
             "#9c179e"
            ],
            [
             0.4444444444444444,
             "#bd3786"
            ],
            [
             0.5555555555555556,
             "#d8576b"
            ],
            [
             0.6666666666666666,
             "#ed7953"
            ],
            [
             0.7777777777777778,
             "#fb9f3a"
            ],
            [
             0.8888888888888888,
             "#fdca26"
            ],
            [
             1,
             "#f0f921"
            ]
           ]
          },
          "colorway": [
           "#636efa",
           "#EF553B",
           "#00cc96",
           "#ab63fa",
           "#FFA15A",
           "#19d3f3",
           "#FF6692",
           "#B6E880",
           "#FF97FF",
           "#FECB52"
          ],
          "font": {
           "color": "#2a3f5f"
          },
          "geo": {
           "bgcolor": "white",
           "lakecolor": "white",
           "landcolor": "#E5ECF6",
           "showlakes": true,
           "showland": true,
           "subunitcolor": "white"
          },
          "hoverlabel": {
           "align": "left"
          },
          "hovermode": "closest",
          "mapbox": {
           "style": "light"
          },
          "paper_bgcolor": "white",
          "plot_bgcolor": "#E5ECF6",
          "polar": {
           "angularaxis": {
            "gridcolor": "white",
            "linecolor": "white",
            "ticks": ""
           },
           "bgcolor": "#E5ECF6",
           "radialaxis": {
            "gridcolor": "white",
            "linecolor": "white",
            "ticks": ""
           }
          },
          "scene": {
           "xaxis": {
            "backgroundcolor": "#E5ECF6",
            "gridcolor": "white",
            "gridwidth": 2,
            "linecolor": "white",
            "showbackground": true,
            "ticks": "",
            "zerolinecolor": "white"
           },
           "yaxis": {
            "backgroundcolor": "#E5ECF6",
            "gridcolor": "white",
            "gridwidth": 2,
            "linecolor": "white",
            "showbackground": true,
            "ticks": "",
            "zerolinecolor": "white"
           },
           "zaxis": {
            "backgroundcolor": "#E5ECF6",
            "gridcolor": "white",
            "gridwidth": 2,
            "linecolor": "white",
            "showbackground": true,
            "ticks": "",
            "zerolinecolor": "white"
           }
          },
          "shapedefaults": {
           "line": {
            "color": "#2a3f5f"
           }
          },
          "ternary": {
           "aaxis": {
            "gridcolor": "white",
            "linecolor": "white",
            "ticks": ""
           },
           "baxis": {
            "gridcolor": "white",
            "linecolor": "white",
            "ticks": ""
           },
           "bgcolor": "#E5ECF6",
           "caxis": {
            "gridcolor": "white",
            "linecolor": "white",
            "ticks": ""
           }
          },
          "title": {
           "x": 0.05
          },
          "xaxis": {
           "automargin": true,
           "gridcolor": "white",
           "linecolor": "white",
           "ticks": "",
           "title": {
            "standoff": 15
           },
           "zerolinecolor": "white",
           "zerolinewidth": 2
          },
          "yaxis": {
           "automargin": true,
           "gridcolor": "white",
           "linecolor": "white",
           "ticks": "",
           "title": {
            "standoff": 15
           },
           "zerolinecolor": "white",
           "zerolinewidth": 2
          }
         }
        },
        "title": {
         "text": "Distribuição Mensal de Erros (Normal X Erro)"
        },
        "xaxis": {
         "tickfont": {
          "size": 14
         }
        },
        "yaxis": {
         "tickfont": {
          "size": 14
         },
         "title": {
          "font": {
           "size": 16
          },
          "text": "Percentual (%)"
         }
        }
       }
      }
     },
     "metadata": {},
     "output_type": "display_data"
    }
   ],
   "source": [
    "df_normal['year_month'] = df_normal['year'].astype(str) + '-' + df_normal['month'].astype(str).str.zfill(2)\n",
    "df_normal['error_type'] = df_normal['error_category'].apply(lambda x: 'Erro' if x != 'Normal' else 'Normal')\n",
    "\n",
    "# Abertura mensal de erros (contando 'Normal' e 'Erro')\n",
    "monthly_status_counts = df_normal.groupby(['year_month', 'error_type']).size().unstack(fill_value=0)\n",
    "\n",
    "# Calcular os percentuais totais de \"Normal\" e \"Erro\" por mês\n",
    "monthly_total = monthly_status_counts.sum(axis=1)\n",
    "monthly_status_percentages = (monthly_status_counts.div(monthly_total, axis=0) * 100).round(2)\n",
    "\n",
    "# Agora, calculamos o percentual total de \"Normal\" e \"Erro\" ao longo do tempo\n",
    "total_normal_percentage = monthly_status_percentages['Normal']\n",
    "total_erro_percentage = monthly_status_percentages['Erro']\n",
    "\n",
    "fig = go.Figure()\n",
    "\n",
    "fig.add_trace(go.Bar(\n",
    "    x=total_normal_percentage.index,\n",
    "    y=total_normal_percentage,\n",
    "    name='Normal',\n",
    "    marker_color='rgb(55, 83, 109)'\n",
    "))\n",
    "\n",
    "fig.add_trace(go.Bar(\n",
    "    x=total_erro_percentage.index,\n",
    "    y=total_erro_percentage,\n",
    "    name='Erro',\n",
    "    marker_color='rgb(26, 118, 255)'\n",
    "))\n",
    "\n",
    "fig.update_layout(\n",
    "    title=dict(text='Distribuição Mensal de Erros (Normal X Erro)'),\n",
    "    xaxis_tickfont_size=14,\n",
    "    yaxis=dict(\n",
    "        title=dict(\n",
    "            text=\"Percentual (%)\",\n",
    "            font=dict(\n",
    "                size=16\n",
    "            )\n",
    "        ),\n",
    "        tickfont_size=14,\n",
    "    ),\n",
    "    legend=dict(\n",
    "        x=0,\n",
    "        y=1.0,\n",
    "        bgcolor='rgba(255, 255, 255, 0)',\n",
    "        bordercolor='rgba(255, 255, 255, 0)'\n",
    "    ),\n",
    "    barmode='group',\n",
    "    bargap=0.15,  \n",
    "    bargroupgap=0.1  \n",
    ")\n",
    "\n",
    "fig.show()"
   ]
  },
  {
   "cell_type": "code",
   "execution_count": 12,
   "metadata": {},
   "outputs": [],
   "source": [
    "# 1b) Quantidade e porcentagem de cada tipo de erro em relação ao total de medidas com erro\n",
    "error_measures = df_normal[df_normal['error_category'] != 'Normal']\n",
    "error_counts = error_measures['error_category'].value_counts()\n",
    "total_errors = len(error_measures)\n",
    "error_percentages = (error_counts / total_errors * 100).round(2)"
   ]
  },
  {
   "cell_type": "code",
   "execution_count": 13,
   "metadata": {},
   "outputs": [
    {
     "data": {
      "text/plain": [
       "error_category\n",
       "ErroTOCF             69.32\n",
       "ManualEquipamento    17.83\n",
       "ErroTO               11.87\n",
       "Erro Consistência     0.98\n",
       "Name: count, dtype: float64"
      ]
     },
     "execution_count": 13,
     "metadata": {},
     "output_type": "execute_result"
    }
   ],
   "source": [
    "error_percentages"
   ]
  },
  {
   "cell_type": "code",
   "execution_count": 14,
   "metadata": {},
   "outputs": [],
   "source": [
    "# Abertura mensal de erros\n",
    "total_monthly_errors = error_measures.groupby('year_month')['error_category'].value_counts().unstack(fill_value=0)\n",
    "monthly_error_percentages = (total_monthly_errors.div(total_monthly_errors.sum(axis=1), axis=0) * 100).round(2)"
   ]
  },
  {
   "cell_type": "code",
   "execution_count": 15,
   "metadata": {},
   "outputs": [
    {
     "data": {
      "text/html": [
       "<div>\n",
       "<style scoped>\n",
       "    .dataframe tbody tr th:only-of-type {\n",
       "        vertical-align: middle;\n",
       "    }\n",
       "\n",
       "    .dataframe tbody tr th {\n",
       "        vertical-align: top;\n",
       "    }\n",
       "\n",
       "    .dataframe thead th {\n",
       "        text-align: right;\n",
       "    }\n",
       "</style>\n",
       "<table border=\"1\" class=\"dataframe\">\n",
       "  <thead>\n",
       "    <tr style=\"text-align: right;\">\n",
       "      <th>error_category</th>\n",
       "      <th>Erro Consistência</th>\n",
       "      <th>ErroTO</th>\n",
       "      <th>ErroTOCF</th>\n",
       "      <th>ManualEquipamento</th>\n",
       "    </tr>\n",
       "    <tr>\n",
       "      <th>year_month</th>\n",
       "      <th></th>\n",
       "      <th></th>\n",
       "      <th></th>\n",
       "      <th></th>\n",
       "    </tr>\n",
       "  </thead>\n",
       "  <tbody>\n",
       "    <tr>\n",
       "      <th>2020-02</th>\n",
       "      <td>0.00</td>\n",
       "      <td>0.00</td>\n",
       "      <td>100.00</td>\n",
       "      <td>0.00</td>\n",
       "    </tr>\n",
       "    <tr>\n",
       "      <th>2020-03</th>\n",
       "      <td>0.00</td>\n",
       "      <td>0.00</td>\n",
       "      <td>100.00</td>\n",
       "      <td>0.00</td>\n",
       "    </tr>\n",
       "    <tr>\n",
       "      <th>2020-04</th>\n",
       "      <td>0.00</td>\n",
       "      <td>0.00</td>\n",
       "      <td>100.00</td>\n",
       "      <td>0.00</td>\n",
       "    </tr>\n",
       "    <tr>\n",
       "      <th>2020-05</th>\n",
       "      <td>0.00</td>\n",
       "      <td>0.00</td>\n",
       "      <td>22.15</td>\n",
       "      <td>77.85</td>\n",
       "    </tr>\n",
       "    <tr>\n",
       "      <th>2020-06</th>\n",
       "      <td>0.00</td>\n",
       "      <td>0.00</td>\n",
       "      <td>100.00</td>\n",
       "      <td>0.00</td>\n",
       "    </tr>\n",
       "    <tr>\n",
       "      <th>2020-07</th>\n",
       "      <td>0.00</td>\n",
       "      <td>0.00</td>\n",
       "      <td>100.00</td>\n",
       "      <td>0.00</td>\n",
       "    </tr>\n",
       "    <tr>\n",
       "      <th>2020-08</th>\n",
       "      <td>0.00</td>\n",
       "      <td>0.00</td>\n",
       "      <td>100.00</td>\n",
       "      <td>0.00</td>\n",
       "    </tr>\n",
       "    <tr>\n",
       "      <th>2020-11</th>\n",
       "      <td>0.00</td>\n",
       "      <td>0.00</td>\n",
       "      <td>88.14</td>\n",
       "      <td>11.86</td>\n",
       "    </tr>\n",
       "    <tr>\n",
       "      <th>2021-01</th>\n",
       "      <td>0.00</td>\n",
       "      <td>0.00</td>\n",
       "      <td>1.33</td>\n",
       "      <td>98.67</td>\n",
       "    </tr>\n",
       "    <tr>\n",
       "      <th>2021-03</th>\n",
       "      <td>0.00</td>\n",
       "      <td>0.00</td>\n",
       "      <td>0.40</td>\n",
       "      <td>99.60</td>\n",
       "    </tr>\n",
       "    <tr>\n",
       "      <th>2021-05</th>\n",
       "      <td>0.00</td>\n",
       "      <td>0.00</td>\n",
       "      <td>100.00</td>\n",
       "      <td>0.00</td>\n",
       "    </tr>\n",
       "    <tr>\n",
       "      <th>2021-08</th>\n",
       "      <td>0.00</td>\n",
       "      <td>0.00</td>\n",
       "      <td>100.00</td>\n",
       "      <td>0.00</td>\n",
       "    </tr>\n",
       "    <tr>\n",
       "      <th>2021-09</th>\n",
       "      <td>0.00</td>\n",
       "      <td>0.00</td>\n",
       "      <td>100.00</td>\n",
       "      <td>0.00</td>\n",
       "    </tr>\n",
       "    <tr>\n",
       "      <th>2021-10</th>\n",
       "      <td>0.00</td>\n",
       "      <td>0.00</td>\n",
       "      <td>100.00</td>\n",
       "      <td>0.00</td>\n",
       "    </tr>\n",
       "    <tr>\n",
       "      <th>2021-12</th>\n",
       "      <td>0.00</td>\n",
       "      <td>0.00</td>\n",
       "      <td>100.00</td>\n",
       "      <td>0.00</td>\n",
       "    </tr>\n",
       "    <tr>\n",
       "      <th>2022-02</th>\n",
       "      <td>0.00</td>\n",
       "      <td>0.00</td>\n",
       "      <td>100.00</td>\n",
       "      <td>0.00</td>\n",
       "    </tr>\n",
       "    <tr>\n",
       "      <th>2022-03</th>\n",
       "      <td>0.00</td>\n",
       "      <td>0.00</td>\n",
       "      <td>100.00</td>\n",
       "      <td>0.00</td>\n",
       "    </tr>\n",
       "    <tr>\n",
       "      <th>2022-06</th>\n",
       "      <td>0.00</td>\n",
       "      <td>0.00</td>\n",
       "      <td>100.00</td>\n",
       "      <td>0.00</td>\n",
       "    </tr>\n",
       "    <tr>\n",
       "      <th>2022-12</th>\n",
       "      <td>0.00</td>\n",
       "      <td>0.00</td>\n",
       "      <td>100.00</td>\n",
       "      <td>0.00</td>\n",
       "    </tr>\n",
       "    <tr>\n",
       "      <th>2023-02</th>\n",
       "      <td>0.00</td>\n",
       "      <td>0.00</td>\n",
       "      <td>100.00</td>\n",
       "      <td>0.00</td>\n",
       "    </tr>\n",
       "    <tr>\n",
       "      <th>2023-04</th>\n",
       "      <td>0.00</td>\n",
       "      <td>0.00</td>\n",
       "      <td>100.00</td>\n",
       "      <td>0.00</td>\n",
       "    </tr>\n",
       "    <tr>\n",
       "      <th>2023-06</th>\n",
       "      <td>0.00</td>\n",
       "      <td>0.00</td>\n",
       "      <td>100.00</td>\n",
       "      <td>0.00</td>\n",
       "    </tr>\n",
       "    <tr>\n",
       "      <th>2023-08</th>\n",
       "      <td>0.00</td>\n",
       "      <td>0.00</td>\n",
       "      <td>100.00</td>\n",
       "      <td>0.00</td>\n",
       "    </tr>\n",
       "    <tr>\n",
       "      <th>2023-09</th>\n",
       "      <td>0.00</td>\n",
       "      <td>0.00</td>\n",
       "      <td>100.00</td>\n",
       "      <td>0.00</td>\n",
       "    </tr>\n",
       "    <tr>\n",
       "      <th>2023-10</th>\n",
       "      <td>0.00</td>\n",
       "      <td>0.00</td>\n",
       "      <td>100.00</td>\n",
       "      <td>0.00</td>\n",
       "    </tr>\n",
       "    <tr>\n",
       "      <th>2023-11</th>\n",
       "      <td>0.00</td>\n",
       "      <td>0.00</td>\n",
       "      <td>100.00</td>\n",
       "      <td>0.00</td>\n",
       "    </tr>\n",
       "    <tr>\n",
       "      <th>2024-03</th>\n",
       "      <td>0.00</td>\n",
       "      <td>0.00</td>\n",
       "      <td>100.00</td>\n",
       "      <td>0.00</td>\n",
       "    </tr>\n",
       "    <tr>\n",
       "      <th>2024-04</th>\n",
       "      <td>0.00</td>\n",
       "      <td>0.00</td>\n",
       "      <td>100.00</td>\n",
       "      <td>0.00</td>\n",
       "    </tr>\n",
       "    <tr>\n",
       "      <th>2024-05</th>\n",
       "      <td>0.00</td>\n",
       "      <td>0.00</td>\n",
       "      <td>100.00</td>\n",
       "      <td>0.00</td>\n",
       "    </tr>\n",
       "    <tr>\n",
       "      <th>2024-06</th>\n",
       "      <td>0.00</td>\n",
       "      <td>0.00</td>\n",
       "      <td>100.00</td>\n",
       "      <td>0.00</td>\n",
       "    </tr>\n",
       "    <tr>\n",
       "      <th>2024-07</th>\n",
       "      <td>0.00</td>\n",
       "      <td>0.00</td>\n",
       "      <td>100.00</td>\n",
       "      <td>0.00</td>\n",
       "    </tr>\n",
       "    <tr>\n",
       "      <th>2024-08</th>\n",
       "      <td>0.00</td>\n",
       "      <td>0.00</td>\n",
       "      <td>20.60</td>\n",
       "      <td>79.40</td>\n",
       "    </tr>\n",
       "    <tr>\n",
       "      <th>2024-09</th>\n",
       "      <td>0.00</td>\n",
       "      <td>0.00</td>\n",
       "      <td>100.00</td>\n",
       "      <td>0.00</td>\n",
       "    </tr>\n",
       "    <tr>\n",
       "      <th>2024-10</th>\n",
       "      <td>36.76</td>\n",
       "      <td>11.35</td>\n",
       "      <td>11.17</td>\n",
       "      <td>40.72</td>\n",
       "    </tr>\n",
       "    <tr>\n",
       "      <th>2024-11</th>\n",
       "      <td>0.00</td>\n",
       "      <td>0.00</td>\n",
       "      <td>73.61</td>\n",
       "      <td>26.39</td>\n",
       "    </tr>\n",
       "    <tr>\n",
       "      <th>2024-12</th>\n",
       "      <td>0.04</td>\n",
       "      <td>91.90</td>\n",
       "      <td>8.07</td>\n",
       "      <td>0.00</td>\n",
       "    </tr>\n",
       "  </tbody>\n",
       "</table>\n",
       "</div>"
      ],
      "text/plain": [
       "error_category  Erro Consistência  ErroTO  ErroTOCF  ManualEquipamento\n",
       "year_month                                                            \n",
       "2020-02                      0.00    0.00    100.00               0.00\n",
       "2020-03                      0.00    0.00    100.00               0.00\n",
       "2020-04                      0.00    0.00    100.00               0.00\n",
       "2020-05                      0.00    0.00     22.15              77.85\n",
       "2020-06                      0.00    0.00    100.00               0.00\n",
       "2020-07                      0.00    0.00    100.00               0.00\n",
       "2020-08                      0.00    0.00    100.00               0.00\n",
       "2020-11                      0.00    0.00     88.14              11.86\n",
       "2021-01                      0.00    0.00      1.33              98.67\n",
       "2021-03                      0.00    0.00      0.40              99.60\n",
       "2021-05                      0.00    0.00    100.00               0.00\n",
       "2021-08                      0.00    0.00    100.00               0.00\n",
       "2021-09                      0.00    0.00    100.00               0.00\n",
       "2021-10                      0.00    0.00    100.00               0.00\n",
       "2021-12                      0.00    0.00    100.00               0.00\n",
       "2022-02                      0.00    0.00    100.00               0.00\n",
       "2022-03                      0.00    0.00    100.00               0.00\n",
       "2022-06                      0.00    0.00    100.00               0.00\n",
       "2022-12                      0.00    0.00    100.00               0.00\n",
       "2023-02                      0.00    0.00    100.00               0.00\n",
       "2023-04                      0.00    0.00    100.00               0.00\n",
       "2023-06                      0.00    0.00    100.00               0.00\n",
       "2023-08                      0.00    0.00    100.00               0.00\n",
       "2023-09                      0.00    0.00    100.00               0.00\n",
       "2023-10                      0.00    0.00    100.00               0.00\n",
       "2023-11                      0.00    0.00    100.00               0.00\n",
       "2024-03                      0.00    0.00    100.00               0.00\n",
       "2024-04                      0.00    0.00    100.00               0.00\n",
       "2024-05                      0.00    0.00    100.00               0.00\n",
       "2024-06                      0.00    0.00    100.00               0.00\n",
       "2024-07                      0.00    0.00    100.00               0.00\n",
       "2024-08                      0.00    0.00     20.60              79.40\n",
       "2024-09                      0.00    0.00    100.00               0.00\n",
       "2024-10                     36.76   11.35     11.17              40.72\n",
       "2024-11                      0.00    0.00     73.61              26.39\n",
       "2024-12                      0.04   91.90      8.07               0.00"
      ]
     },
     "execution_count": 15,
     "metadata": {},
     "output_type": "execute_result"
    }
   ],
   "source": [
    "monthly_error_percentages"
   ]
  },
  {
   "cell_type": "markdown",
   "metadata": {},
   "source": [
    "## Base de Dados com Status Normal"
   ]
  },
  {
   "cell_type": "code",
   "execution_count": 16,
   "metadata": {},
   "outputs": [
    {
     "data": {
      "text/html": [
       "<div>\n",
       "<style scoped>\n",
       "    .dataframe tbody tr th:only-of-type {\n",
       "        vertical-align: middle;\n",
       "    }\n",
       "\n",
       "    .dataframe tbody tr th {\n",
       "        vertical-align: top;\n",
       "    }\n",
       "\n",
       "    .dataframe thead th {\n",
       "        text-align: right;\n",
       "    }\n",
       "</style>\n",
       "<table border=\"1\" class=\"dataframe\">\n",
       "  <thead>\n",
       "    <tr style=\"text-align: right;\">\n",
       "      <th></th>\n",
       "      <th>regiao</th>\n",
       "      <th>operacao</th>\n",
       "      <th>original</th>\n",
       "      <th>temperaturatermometro</th>\n",
       "      <th>amplitude</th>\n",
       "      <th>status</th>\n",
       "      <th>dataref</th>\n",
       "      <th>year</th>\n",
       "      <th>month</th>\n",
       "      <th>day</th>\n",
       "      <th>error_category</th>\n",
       "      <th>year_month</th>\n",
       "    </tr>\n",
       "  </thead>\n",
       "  <tbody>\n",
       "    <tr>\n",
       "      <th>0</th>\n",
       "      <td>NORTE</td>\n",
       "      <td>araraquara</td>\n",
       "      <td>thermo_ID_21106</td>\n",
       "      <td>28.0</td>\n",
       "      <td>8.0</td>\n",
       "      <td>Normal</td>\n",
       "      <td>2020-02-05</td>\n",
       "      <td>2020</td>\n",
       "      <td>2</td>\n",
       "      <td>5</td>\n",
       "      <td>Normal</td>\n",
       "      <td>2020-02</td>\n",
       "    </tr>\n",
       "    <tr>\n",
       "      <th>1</th>\n",
       "      <td>NORTE</td>\n",
       "      <td>araraquara</td>\n",
       "      <td>thermo_ID_21106</td>\n",
       "      <td>28.0</td>\n",
       "      <td>8.0</td>\n",
       "      <td>Normal</td>\n",
       "      <td>2020-02-05</td>\n",
       "      <td>2020</td>\n",
       "      <td>2</td>\n",
       "      <td>5</td>\n",
       "      <td>Normal</td>\n",
       "      <td>2020-02</td>\n",
       "    </tr>\n",
       "    <tr>\n",
       "      <th>2</th>\n",
       "      <td>NORTE</td>\n",
       "      <td>araraquara</td>\n",
       "      <td>thermo_ID_21106</td>\n",
       "      <td>28.0</td>\n",
       "      <td>8.0</td>\n",
       "      <td>Normal</td>\n",
       "      <td>2020-02-05</td>\n",
       "      <td>2020</td>\n",
       "      <td>2</td>\n",
       "      <td>5</td>\n",
       "      <td>Normal</td>\n",
       "      <td>2020-02</td>\n",
       "    </tr>\n",
       "    <tr>\n",
       "      <th>3</th>\n",
       "      <td>NORTE</td>\n",
       "      <td>araraquara</td>\n",
       "      <td>thermo_ID_21106</td>\n",
       "      <td>26.0</td>\n",
       "      <td>6.0</td>\n",
       "      <td>Normal</td>\n",
       "      <td>2020-02-05</td>\n",
       "      <td>2020</td>\n",
       "      <td>2</td>\n",
       "      <td>5</td>\n",
       "      <td>Normal</td>\n",
       "      <td>2020-02</td>\n",
       "    </tr>\n",
       "    <tr>\n",
       "      <th>4</th>\n",
       "      <td>NORTE</td>\n",
       "      <td>araraquara</td>\n",
       "      <td>thermo_ID_21106</td>\n",
       "      <td>24.0</td>\n",
       "      <td>4.0</td>\n",
       "      <td>Normal</td>\n",
       "      <td>2020-02-05</td>\n",
       "      <td>2020</td>\n",
       "      <td>2</td>\n",
       "      <td>5</td>\n",
       "      <td>Normal</td>\n",
       "      <td>2020-02</td>\n",
       "    </tr>\n",
       "    <tr>\n",
       "      <th>...</th>\n",
       "      <td>...</td>\n",
       "      <td>...</td>\n",
       "      <td>...</td>\n",
       "      <td>...</td>\n",
       "      <td>...</td>\n",
       "      <td>...</td>\n",
       "      <td>...</td>\n",
       "      <td>...</td>\n",
       "      <td>...</td>\n",
       "      <td>...</td>\n",
       "      <td>...</td>\n",
       "      <td>...</td>\n",
       "    </tr>\n",
       "    <tr>\n",
       "      <th>236616</th>\n",
       "      <td>NORTE</td>\n",
       "      <td>araraquara</td>\n",
       "      <td>thermo_id_20001336</td>\n",
       "      <td>60.7</td>\n",
       "      <td>61.7</td>\n",
       "      <td>Normal</td>\n",
       "      <td>2024-12-21</td>\n",
       "      <td>2024</td>\n",
       "      <td>12</td>\n",
       "      <td>21</td>\n",
       "      <td>Normal</td>\n",
       "      <td>2024-12</td>\n",
       "    </tr>\n",
       "    <tr>\n",
       "      <th>236617</th>\n",
       "      <td>NORTE</td>\n",
       "      <td>araraquara</td>\n",
       "      <td>thermo_id_20001336</td>\n",
       "      <td>56.1</td>\n",
       "      <td>57.1</td>\n",
       "      <td>Normal</td>\n",
       "      <td>2024-12-21</td>\n",
       "      <td>2024</td>\n",
       "      <td>12</td>\n",
       "      <td>21</td>\n",
       "      <td>Normal</td>\n",
       "      <td>2024-12</td>\n",
       "    </tr>\n",
       "    <tr>\n",
       "      <th>236634</th>\n",
       "      <td>NORTE</td>\n",
       "      <td>araraquara</td>\n",
       "      <td>thermo_id_20001336</td>\n",
       "      <td>62.4</td>\n",
       "      <td>38.5</td>\n",
       "      <td>Normal</td>\n",
       "      <td>2024-12-22</td>\n",
       "      <td>2024</td>\n",
       "      <td>12</td>\n",
       "      <td>22</td>\n",
       "      <td>Normal</td>\n",
       "      <td>2024-12</td>\n",
       "    </tr>\n",
       "    <tr>\n",
       "      <th>237775</th>\n",
       "      <td>NORTE</td>\n",
       "      <td>araraquara</td>\n",
       "      <td>thermo_id_20001336</td>\n",
       "      <td>58.7</td>\n",
       "      <td>34.5</td>\n",
       "      <td>Normal</td>\n",
       "      <td>2024-12-27</td>\n",
       "      <td>2024</td>\n",
       "      <td>12</td>\n",
       "      <td>27</td>\n",
       "      <td>Normal</td>\n",
       "      <td>2024-12</td>\n",
       "    </tr>\n",
       "    <tr>\n",
       "      <th>237776</th>\n",
       "      <td>NORTE</td>\n",
       "      <td>araraquara</td>\n",
       "      <td>thermo_id_20001336</td>\n",
       "      <td>62.9</td>\n",
       "      <td>38.7</td>\n",
       "      <td>Normal</td>\n",
       "      <td>2024-12-27</td>\n",
       "      <td>2024</td>\n",
       "      <td>12</td>\n",
       "      <td>27</td>\n",
       "      <td>Normal</td>\n",
       "      <td>2024-12</td>\n",
       "    </tr>\n",
       "  </tbody>\n",
       "</table>\n",
       "<p>216850 rows × 12 columns</p>\n",
       "</div>"
      ],
      "text/plain": [
       "       regiao    operacao            original  temperaturatermometro  \\\n",
       "0       NORTE  araraquara     thermo_ID_21106                   28.0   \n",
       "1       NORTE  araraquara     thermo_ID_21106                   28.0   \n",
       "2       NORTE  araraquara     thermo_ID_21106                   28.0   \n",
       "3       NORTE  araraquara     thermo_ID_21106                   26.0   \n",
       "4       NORTE  araraquara     thermo_ID_21106                   24.0   \n",
       "...       ...         ...                 ...                    ...   \n",
       "236616  NORTE  araraquara  thermo_id_20001336                   60.7   \n",
       "236617  NORTE  araraquara  thermo_id_20001336                   56.1   \n",
       "236634  NORTE  araraquara  thermo_id_20001336                   62.4   \n",
       "237775  NORTE  araraquara  thermo_id_20001336                   58.7   \n",
       "237776  NORTE  araraquara  thermo_id_20001336                   62.9   \n",
       "\n",
       "        amplitude  status     dataref  year  month  day error_category  \\\n",
       "0             8.0  Normal  2020-02-05  2020      2    5         Normal   \n",
       "1             8.0  Normal  2020-02-05  2020      2    5         Normal   \n",
       "2             8.0  Normal  2020-02-05  2020      2    5         Normal   \n",
       "3             6.0  Normal  2020-02-05  2020      2    5         Normal   \n",
       "4             4.0  Normal  2020-02-05  2020      2    5         Normal   \n",
       "...           ...     ...         ...   ...    ...  ...            ...   \n",
       "236616       61.7  Normal  2024-12-21  2024     12   21         Normal   \n",
       "236617       57.1  Normal  2024-12-21  2024     12   21         Normal   \n",
       "236634       38.5  Normal  2024-12-22  2024     12   22         Normal   \n",
       "237775       34.5  Normal  2024-12-27  2024     12   27         Normal   \n",
       "237776       38.7  Normal  2024-12-27  2024     12   27         Normal   \n",
       "\n",
       "       year_month  \n",
       "0         2020-02  \n",
       "1         2020-02  \n",
       "2         2020-02  \n",
       "3         2020-02  \n",
       "4         2020-02  \n",
       "...           ...  \n",
       "236616    2024-12  \n",
       "236617    2024-12  \n",
       "236634    2024-12  \n",
       "237775    2024-12  \n",
       "237776    2024-12  \n",
       "\n",
       "[216850 rows x 12 columns]"
      ]
     },
     "execution_count": 16,
     "metadata": {},
     "output_type": "execute_result"
    }
   ],
   "source": [
    "# 2) Análise Exploratória dos Dados\n",
    "clean_data = df_normal[df_normal['error_category'] == 'Normal']\n",
    "clean_data"
   ]
  },
  {
   "cell_type": "code",
   "execution_count": 17,
   "metadata": {},
   "outputs": [
    {
     "data": {
      "text/html": [
       "<div>\n",
       "<style scoped>\n",
       "    .dataframe tbody tr th:only-of-type {\n",
       "        vertical-align: middle;\n",
       "    }\n",
       "\n",
       "    .dataframe tbody tr th {\n",
       "        vertical-align: top;\n",
       "    }\n",
       "\n",
       "    .dataframe thead th {\n",
       "        text-align: right;\n",
       "    }\n",
       "</style>\n",
       "<table border=\"1\" class=\"dataframe\">\n",
       "  <thead>\n",
       "    <tr style=\"text-align: right;\">\n",
       "      <th></th>\n",
       "      <th>min</th>\n",
       "      <th>max</th>\n",
       "    </tr>\n",
       "    <tr>\n",
       "      <th>year</th>\n",
       "      <th></th>\n",
       "      <th></th>\n",
       "    </tr>\n",
       "  </thead>\n",
       "  <tbody>\n",
       "    <tr>\n",
       "      <th>2020</th>\n",
       "      <td>4.0</td>\n",
       "      <td>54.0</td>\n",
       "    </tr>\n",
       "    <tr>\n",
       "      <th>2021</th>\n",
       "      <td>0.0</td>\n",
       "      <td>55.0</td>\n",
       "    </tr>\n",
       "    <tr>\n",
       "      <th>2022</th>\n",
       "      <td>4.0</td>\n",
       "      <td>54.0</td>\n",
       "    </tr>\n",
       "    <tr>\n",
       "      <th>2023</th>\n",
       "      <td>0.0</td>\n",
       "      <td>58.8</td>\n",
       "    </tr>\n",
       "    <tr>\n",
       "      <th>2024</th>\n",
       "      <td>0.3</td>\n",
       "      <td>63.2</td>\n",
       "    </tr>\n",
       "  </tbody>\n",
       "</table>\n",
       "</div>"
      ],
      "text/plain": [
       "      min   max\n",
       "year           \n",
       "2020  4.0  54.0\n",
       "2021  0.0  55.0\n",
       "2022  4.0  54.0\n",
       "2023  0.0  58.8\n",
       "2024  0.3  63.2"
      ]
     },
     "execution_count": 17,
     "metadata": {},
     "output_type": "execute_result"
    }
   ],
   "source": [
    "# Máximas e mínimas absolutas por ano\n",
    "yearly_stats = clean_data.groupby('year')['temperaturatermometro'].agg(['min', 'max'])\n",
    "yearly_stats"
   ]
  },
  {
   "cell_type": "code",
   "execution_count": 18,
   "metadata": {},
   "outputs": [
    {
     "data": {
      "text/html": [
       "<div>\n",
       "<style scoped>\n",
       "    .dataframe tbody tr th:only-of-type {\n",
       "        vertical-align: middle;\n",
       "    }\n",
       "\n",
       "    .dataframe tbody tr th {\n",
       "        vertical-align: top;\n",
       "    }\n",
       "\n",
       "    .dataframe thead th {\n",
       "        text-align: right;\n",
       "    }\n",
       "</style>\n",
       "<table border=\"1\" class=\"dataframe\">\n",
       "  <thead>\n",
       "    <tr style=\"text-align: right;\">\n",
       "      <th></th>\n",
       "      <th>year</th>\n",
       "      <th>month</th>\n",
       "      <th>min</th>\n",
       "      <th>max</th>\n",
       "    </tr>\n",
       "  </thead>\n",
       "  <tbody>\n",
       "    <tr>\n",
       "      <th>0</th>\n",
       "      <td>2020</td>\n",
       "      <td>2</td>\n",
       "      <td>15.0</td>\n",
       "      <td>52.0</td>\n",
       "    </tr>\n",
       "    <tr>\n",
       "      <th>1</th>\n",
       "      <td>2020</td>\n",
       "      <td>3</td>\n",
       "      <td>14.0</td>\n",
       "      <td>52.0</td>\n",
       "    </tr>\n",
       "    <tr>\n",
       "      <th>2</th>\n",
       "      <td>2020</td>\n",
       "      <td>4</td>\n",
       "      <td>11.0</td>\n",
       "      <td>48.0</td>\n",
       "    </tr>\n",
       "    <tr>\n",
       "      <th>3</th>\n",
       "      <td>2020</td>\n",
       "      <td>5</td>\n",
       "      <td>4.0</td>\n",
       "      <td>41.0</td>\n",
       "    </tr>\n",
       "    <tr>\n",
       "      <th>4</th>\n",
       "      <td>2020</td>\n",
       "      <td>6</td>\n",
       "      <td>8.0</td>\n",
       "      <td>44.0</td>\n",
       "    </tr>\n",
       "    <tr>\n",
       "      <th>5</th>\n",
       "      <td>2020</td>\n",
       "      <td>7</td>\n",
       "      <td>4.0</td>\n",
       "      <td>42.0</td>\n",
       "    </tr>\n",
       "    <tr>\n",
       "      <th>6</th>\n",
       "      <td>2020</td>\n",
       "      <td>8</td>\n",
       "      <td>7.0</td>\n",
       "      <td>47.0</td>\n",
       "    </tr>\n",
       "    <tr>\n",
       "      <th>7</th>\n",
       "      <td>2020</td>\n",
       "      <td>9</td>\n",
       "      <td>13.0</td>\n",
       "      <td>52.0</td>\n",
       "    </tr>\n",
       "    <tr>\n",
       "      <th>8</th>\n",
       "      <td>2020</td>\n",
       "      <td>10</td>\n",
       "      <td>14.0</td>\n",
       "      <td>53.0</td>\n",
       "    </tr>\n",
       "    <tr>\n",
       "      <th>9</th>\n",
       "      <td>2020</td>\n",
       "      <td>11</td>\n",
       "      <td>10.0</td>\n",
       "      <td>54.0</td>\n",
       "    </tr>\n",
       "    <tr>\n",
       "      <th>10</th>\n",
       "      <td>2020</td>\n",
       "      <td>12</td>\n",
       "      <td>17.0</td>\n",
       "      <td>54.0</td>\n",
       "    </tr>\n",
       "    <tr>\n",
       "      <th>11</th>\n",
       "      <td>2021</td>\n",
       "      <td>1</td>\n",
       "      <td>16.0</td>\n",
       "      <td>55.0</td>\n",
       "    </tr>\n",
       "    <tr>\n",
       "      <th>12</th>\n",
       "      <td>2021</td>\n",
       "      <td>2</td>\n",
       "      <td>15.0</td>\n",
       "      <td>52.0</td>\n",
       "    </tr>\n",
       "    <tr>\n",
       "      <th>13</th>\n",
       "      <td>2021</td>\n",
       "      <td>3</td>\n",
       "      <td>15.0</td>\n",
       "      <td>51.0</td>\n",
       "    </tr>\n",
       "    <tr>\n",
       "      <th>14</th>\n",
       "      <td>2021</td>\n",
       "      <td>4</td>\n",
       "      <td>11.0</td>\n",
       "      <td>47.0</td>\n",
       "    </tr>\n",
       "    <tr>\n",
       "      <th>15</th>\n",
       "      <td>2021</td>\n",
       "      <td>5</td>\n",
       "      <td>7.0</td>\n",
       "      <td>44.0</td>\n",
       "    </tr>\n",
       "    <tr>\n",
       "      <th>16</th>\n",
       "      <td>2021</td>\n",
       "      <td>6</td>\n",
       "      <td>2.0</td>\n",
       "      <td>42.0</td>\n",
       "    </tr>\n",
       "    <tr>\n",
       "      <th>17</th>\n",
       "      <td>2021</td>\n",
       "      <td>7</td>\n",
       "      <td>0.0</td>\n",
       "      <td>45.0</td>\n",
       "    </tr>\n",
       "    <tr>\n",
       "      <th>18</th>\n",
       "      <td>2021</td>\n",
       "      <td>8</td>\n",
       "      <td>7.0</td>\n",
       "      <td>49.0</td>\n",
       "    </tr>\n",
       "    <tr>\n",
       "      <th>19</th>\n",
       "      <td>2021</td>\n",
       "      <td>9</td>\n",
       "      <td>12.0</td>\n",
       "      <td>50.0</td>\n",
       "    </tr>\n",
       "    <tr>\n",
       "      <th>20</th>\n",
       "      <td>2021</td>\n",
       "      <td>10</td>\n",
       "      <td>12.0</td>\n",
       "      <td>49.0</td>\n",
       "    </tr>\n",
       "    <tr>\n",
       "      <th>21</th>\n",
       "      <td>2021</td>\n",
       "      <td>11</td>\n",
       "      <td>12.0</td>\n",
       "      <td>55.0</td>\n",
       "    </tr>\n",
       "    <tr>\n",
       "      <th>22</th>\n",
       "      <td>2021</td>\n",
       "      <td>12</td>\n",
       "      <td>14.0</td>\n",
       "      <td>52.0</td>\n",
       "    </tr>\n",
       "    <tr>\n",
       "      <th>23</th>\n",
       "      <td>2022</td>\n",
       "      <td>1</td>\n",
       "      <td>17.0</td>\n",
       "      <td>53.0</td>\n",
       "    </tr>\n",
       "    <tr>\n",
       "      <th>24</th>\n",
       "      <td>2022</td>\n",
       "      <td>2</td>\n",
       "      <td>16.0</td>\n",
       "      <td>49.0</td>\n",
       "    </tr>\n",
       "    <tr>\n",
       "      <th>25</th>\n",
       "      <td>2022</td>\n",
       "      <td>3</td>\n",
       "      <td>17.0</td>\n",
       "      <td>50.0</td>\n",
       "    </tr>\n",
       "    <tr>\n",
       "      <th>26</th>\n",
       "      <td>2022</td>\n",
       "      <td>4</td>\n",
       "      <td>9.0</td>\n",
       "      <td>50.0</td>\n",
       "    </tr>\n",
       "    <tr>\n",
       "      <th>27</th>\n",
       "      <td>2022</td>\n",
       "      <td>5</td>\n",
       "      <td>4.0</td>\n",
       "      <td>47.0</td>\n",
       "    </tr>\n",
       "    <tr>\n",
       "      <th>28</th>\n",
       "      <td>2022</td>\n",
       "      <td>6</td>\n",
       "      <td>5.0</td>\n",
       "      <td>43.0</td>\n",
       "    </tr>\n",
       "    <tr>\n",
       "      <th>29</th>\n",
       "      <td>2022</td>\n",
       "      <td>7</td>\n",
       "      <td>8.0</td>\n",
       "      <td>45.0</td>\n",
       "    </tr>\n",
       "    <tr>\n",
       "      <th>30</th>\n",
       "      <td>2022</td>\n",
       "      <td>8</td>\n",
       "      <td>6.0</td>\n",
       "      <td>48.0</td>\n",
       "    </tr>\n",
       "    <tr>\n",
       "      <th>31</th>\n",
       "      <td>2022</td>\n",
       "      <td>9</td>\n",
       "      <td>8.0</td>\n",
       "      <td>49.0</td>\n",
       "    </tr>\n",
       "    <tr>\n",
       "      <th>32</th>\n",
       "      <td>2022</td>\n",
       "      <td>10</td>\n",
       "      <td>14.0</td>\n",
       "      <td>54.0</td>\n",
       "    </tr>\n",
       "    <tr>\n",
       "      <th>33</th>\n",
       "      <td>2022</td>\n",
       "      <td>11</td>\n",
       "      <td>11.0</td>\n",
       "      <td>54.0</td>\n",
       "    </tr>\n",
       "    <tr>\n",
       "      <th>34</th>\n",
       "      <td>2022</td>\n",
       "      <td>12</td>\n",
       "      <td>15.0</td>\n",
       "      <td>52.0</td>\n",
       "    </tr>\n",
       "    <tr>\n",
       "      <th>35</th>\n",
       "      <td>2023</td>\n",
       "      <td>1</td>\n",
       "      <td>16.0</td>\n",
       "      <td>54.0</td>\n",
       "    </tr>\n",
       "    <tr>\n",
       "      <th>36</th>\n",
       "      <td>2023</td>\n",
       "      <td>2</td>\n",
       "      <td>19.0</td>\n",
       "      <td>49.0</td>\n",
       "    </tr>\n",
       "    <tr>\n",
       "      <th>37</th>\n",
       "      <td>2023</td>\n",
       "      <td>3</td>\n",
       "      <td>17.0</td>\n",
       "      <td>48.0</td>\n",
       "    </tr>\n",
       "    <tr>\n",
       "      <th>38</th>\n",
       "      <td>2023</td>\n",
       "      <td>4</td>\n",
       "      <td>11.0</td>\n",
       "      <td>44.0</td>\n",
       "    </tr>\n",
       "    <tr>\n",
       "      <th>39</th>\n",
       "      <td>2023</td>\n",
       "      <td>5</td>\n",
       "      <td>8.0</td>\n",
       "      <td>42.0</td>\n",
       "    </tr>\n",
       "    <tr>\n",
       "      <th>40</th>\n",
       "      <td>2023</td>\n",
       "      <td>6</td>\n",
       "      <td>0.0</td>\n",
       "      <td>36.0</td>\n",
       "    </tr>\n",
       "    <tr>\n",
       "      <th>41</th>\n",
       "      <td>2023</td>\n",
       "      <td>7</td>\n",
       "      <td>5.0</td>\n",
       "      <td>41.0</td>\n",
       "    </tr>\n",
       "    <tr>\n",
       "      <th>42</th>\n",
       "      <td>2023</td>\n",
       "      <td>8</td>\n",
       "      <td>13.0</td>\n",
       "      <td>46.0</td>\n",
       "    </tr>\n",
       "    <tr>\n",
       "      <th>43</th>\n",
       "      <td>2023</td>\n",
       "      <td>11</td>\n",
       "      <td>15.5</td>\n",
       "      <td>57.6</td>\n",
       "    </tr>\n",
       "    <tr>\n",
       "      <th>44</th>\n",
       "      <td>2023</td>\n",
       "      <td>12</td>\n",
       "      <td>13.8</td>\n",
       "      <td>58.8</td>\n",
       "    </tr>\n",
       "    <tr>\n",
       "      <th>45</th>\n",
       "      <td>2024</td>\n",
       "      <td>1</td>\n",
       "      <td>13.9</td>\n",
       "      <td>57.6</td>\n",
       "    </tr>\n",
       "    <tr>\n",
       "      <th>46</th>\n",
       "      <td>2024</td>\n",
       "      <td>2</td>\n",
       "      <td>16.0</td>\n",
       "      <td>57.7</td>\n",
       "    </tr>\n",
       "    <tr>\n",
       "      <th>47</th>\n",
       "      <td>2024</td>\n",
       "      <td>3</td>\n",
       "      <td>11.8</td>\n",
       "      <td>56.2</td>\n",
       "    </tr>\n",
       "    <tr>\n",
       "      <th>48</th>\n",
       "      <td>2024</td>\n",
       "      <td>4</td>\n",
       "      <td>12.3</td>\n",
       "      <td>51.5</td>\n",
       "    </tr>\n",
       "    <tr>\n",
       "      <th>49</th>\n",
       "      <td>2024</td>\n",
       "      <td>5</td>\n",
       "      <td>4.6</td>\n",
       "      <td>48.3</td>\n",
       "    </tr>\n",
       "    <tr>\n",
       "      <th>50</th>\n",
       "      <td>2024</td>\n",
       "      <td>6</td>\n",
       "      <td>9.1</td>\n",
       "      <td>43.2</td>\n",
       "    </tr>\n",
       "    <tr>\n",
       "      <th>51</th>\n",
       "      <td>2024</td>\n",
       "      <td>7</td>\n",
       "      <td>6.3</td>\n",
       "      <td>43.4</td>\n",
       "    </tr>\n",
       "    <tr>\n",
       "      <th>52</th>\n",
       "      <td>2024</td>\n",
       "      <td>8</td>\n",
       "      <td>3.1</td>\n",
       "      <td>48.6</td>\n",
       "    </tr>\n",
       "    <tr>\n",
       "      <th>53</th>\n",
       "      <td>2024</td>\n",
       "      <td>9</td>\n",
       "      <td>11.5</td>\n",
       "      <td>51.4</td>\n",
       "    </tr>\n",
       "    <tr>\n",
       "      <th>54</th>\n",
       "      <td>2024</td>\n",
       "      <td>10</td>\n",
       "      <td>0.3</td>\n",
       "      <td>51.5</td>\n",
       "    </tr>\n",
       "    <tr>\n",
       "      <th>55</th>\n",
       "      <td>2024</td>\n",
       "      <td>11</td>\n",
       "      <td>6.8</td>\n",
       "      <td>60.6</td>\n",
       "    </tr>\n",
       "    <tr>\n",
       "      <th>56</th>\n",
       "      <td>2024</td>\n",
       "      <td>12</td>\n",
       "      <td>14.8</td>\n",
       "      <td>63.2</td>\n",
       "    </tr>\n",
       "  </tbody>\n",
       "</table>\n",
       "</div>"
      ],
      "text/plain": [
       "    year  month   min   max\n",
       "0   2020      2  15.0  52.0\n",
       "1   2020      3  14.0  52.0\n",
       "2   2020      4  11.0  48.0\n",
       "3   2020      5   4.0  41.0\n",
       "4   2020      6   8.0  44.0\n",
       "5   2020      7   4.0  42.0\n",
       "6   2020      8   7.0  47.0\n",
       "7   2020      9  13.0  52.0\n",
       "8   2020     10  14.0  53.0\n",
       "9   2020     11  10.0  54.0\n",
       "10  2020     12  17.0  54.0\n",
       "11  2021      1  16.0  55.0\n",
       "12  2021      2  15.0  52.0\n",
       "13  2021      3  15.0  51.0\n",
       "14  2021      4  11.0  47.0\n",
       "15  2021      5   7.0  44.0\n",
       "16  2021      6   2.0  42.0\n",
       "17  2021      7   0.0  45.0\n",
       "18  2021      8   7.0  49.0\n",
       "19  2021      9  12.0  50.0\n",
       "20  2021     10  12.0  49.0\n",
       "21  2021     11  12.0  55.0\n",
       "22  2021     12  14.0  52.0\n",
       "23  2022      1  17.0  53.0\n",
       "24  2022      2  16.0  49.0\n",
       "25  2022      3  17.0  50.0\n",
       "26  2022      4   9.0  50.0\n",
       "27  2022      5   4.0  47.0\n",
       "28  2022      6   5.0  43.0\n",
       "29  2022      7   8.0  45.0\n",
       "30  2022      8   6.0  48.0\n",
       "31  2022      9   8.0  49.0\n",
       "32  2022     10  14.0  54.0\n",
       "33  2022     11  11.0  54.0\n",
       "34  2022     12  15.0  52.0\n",
       "35  2023      1  16.0  54.0\n",
       "36  2023      2  19.0  49.0\n",
       "37  2023      3  17.0  48.0\n",
       "38  2023      4  11.0  44.0\n",
       "39  2023      5   8.0  42.0\n",
       "40  2023      6   0.0  36.0\n",
       "41  2023      7   5.0  41.0\n",
       "42  2023      8  13.0  46.0\n",
       "43  2023     11  15.5  57.6\n",
       "44  2023     12  13.8  58.8\n",
       "45  2024      1  13.9  57.6\n",
       "46  2024      2  16.0  57.7\n",
       "47  2024      3  11.8  56.2\n",
       "48  2024      4  12.3  51.5\n",
       "49  2024      5   4.6  48.3\n",
       "50  2024      6   9.1  43.2\n",
       "51  2024      7   6.3  43.4\n",
       "52  2024      8   3.1  48.6\n",
       "53  2024      9  11.5  51.4\n",
       "54  2024     10   0.3  51.5\n",
       "55  2024     11   6.8  60.6\n",
       "56  2024     12  14.8  63.2"
      ]
     },
     "execution_count": 18,
     "metadata": {},
     "output_type": "execute_result"
    }
   ],
   "source": [
    "# Máximas e mínimas absolutas por mês e ano\n",
    "monthly_stats = clean_data.groupby(['year', 'month'])['temperaturatermometro'].agg(['min', 'max']).reset_index()\n",
    "monthly_stats"
   ]
  },
  {
   "cell_type": "code",
   "execution_count": 19,
   "metadata": {},
   "outputs": [
    {
     "name": "stderr",
     "output_type": "stream",
     "text": [
      "C:\\Users\\Cristiano\\AppData\\Local\\Temp\\ipykernel_40492\\2623741774.py:2: SettingWithCopyWarning: \n",
      "A value is trying to be set on a copy of a slice from a DataFrame.\n",
      "Try using .loc[row_indexer,col_indexer] = value instead\n",
      "\n",
      "See the caveats in the documentation: https://pandas.pydata.org/pandas-docs/stable/user_guide/indexing.html#returning-a-view-versus-a-copy\n",
      "  clean_data['season'] = clean_data['month'].apply(\n"
     ]
    }
   ],
   "source": [
    "# Criando uma coluna para a estação do ano (considerando hemisfério sul)\n",
    "clean_data['season'] = clean_data['month'].apply(\n",
    "    lambda month: 'Verão' if month in [12, 1, 2] else ('Outono' if month in [3, 4, 5] else ('Inverno' if month in [6, 7, 8] else 'Primavera'))\n",
    ")"
   ]
  },
  {
   "cell_type": "markdown",
   "metadata": {},
   "source": [
    "## BoxPlot Distribuição de Temperaturas por Estação do Ano"
   ]
  },
  {
   "cell_type": "code",
   "execution_count": 20,
   "metadata": {},
   "outputs": [
    {
     "name": "stderr",
     "output_type": "stream",
     "text": [
      "C:\\Users\\Cristiano\\AppData\\Local\\Temp\\ipykernel_40492\\388667117.py:3: FutureWarning: \n",
      "\n",
      "Passing `palette` without assigning `hue` is deprecated and will be removed in v0.14.0. Assign the `x` variable to `hue` and set `legend=False` for the same effect.\n",
      "\n",
      "  sns.boxplot(x='season', y='temperaturatermometro', data=clean_data, palette='Set2')\n"
     ]
    },
    {
     "data": {
      "image/png": "[encoded data removed]",
      "text/plain": [
       "<Figure size 1000x600 with 1 Axes>"
      ]
     },
     "metadata": {},
     "output_type": "display_data"
    }
   ],
   "source": [
    "# Boxplot de temperaturas por estação do ano\n",
    "plt.figure(figsize=(10, 6))\n",
    "sns.boxplot(x='season', y='temperaturatermometro', data=clean_data, palette='Set2')\n",
    "plt.title('Distribuição de Temperaturas por Estação do Ano')\n",
    "plt.xlabel('Estação do Ano')\n",
    "plt.ylabel('Temperatura (°C)')\n",
    "plt.show()"
   ]
  },
  {
   "cell_type": "code",
   "execution_count": 21,
   "metadata": {},
   "outputs": [
    {
     "name": "stdout",
     "output_type": "stream",
     "text": [
      "\n",
      "1a) Status Normal X Erros (Geral):\n",
      "error_category\n",
      "Normal               216850\n",
      "ErroTOCF              14542\n",
      "ManualEquipamento      3740\n",
      "ErroTO                 2490\n",
      "Erro Consistência       205\n",
      "Name: count, dtype: int64\n",
      "error_category\n",
      "Normal               91.18\n",
      "ErroTOCF              6.11\n",
      "ManualEquipamento     1.57\n",
      "ErroTO                1.05\n",
      "Erro Consistência     0.09\n",
      "Name: count, dtype: float64\n"
     ]
    }
   ],
   "source": [
    "# Resultados das análises\n",
    "print(\"\\n1a) Status Normal X Erros (Geral):\")\n",
    "print(status_counts)\n",
    "print(status_percentages)"
   ]
  },
  {
   "cell_type": "code",
   "execution_count": 22,
   "metadata": {},
   "outputs": [
    {
     "name": "stdout",
     "output_type": "stream",
     "text": [
      "\n",
      "1a) Status Normal X Erros (Mensal):\n",
      "error_category  Erro Consistência  ErroTO  ErroTOCF  ManualEquipamento  Normal\n",
      "year_month                                                                    \n",
      "2020-02                         0       0        53                  0    3413\n",
      "2020-03                         0       0      3617                  0    1657\n",
      "2020-04                         0       0       764                  0    3913\n",
      "2020-05                         0       0       140                492    4303\n",
      "2020-06                         0       0         3                  0    3718\n",
      "2020-07                         0       0         2                  0    4462\n",
      "2020-08                         0       0         2                  0    4155\n",
      "2020-09                         0       0         0                  0    4307\n",
      "2020-10                         0       0         0                  0    4380\n",
      "2020-11                         0       0        52                  7    4282\n",
      "2020-12                         0       0         0                  0    4458\n",
      "2021-01                         0       0         1                 74    4436\n",
      "2021-02                         0       0         0                  0    3998\n",
      "2021-03                         0       0         3                753    4072\n",
      "2021-04                         0       0         0                  0    4307\n",
      "2021-05                         0       0        60                  0    4415\n",
      "2021-06                         0       0         0                  0    4328\n",
      "2021-07                         0       0         0                  0    4474\n",
      "2021-08                         0       0       961                  0    3947\n",
      "2021-09                         0       0        68                  0    4277\n",
      "2021-10                         0       0       403                  0    4270\n",
      "2021-11                         0       0         0                  0    4306\n",
      "2021-12                         0       0       231                  0    4345\n",
      "2022-01                         0       0         0                  0    4480\n",
      "2022-02                         0       0       176                  0    3862\n",
      "2022-03                         0       0        30                  0    4438\n",
      "2022-04                         0       0         0                  0    4339\n",
      "2022-05                         0       0         0                  0    4484\n",
      "2022-06                         0       0        16                  0    4322\n",
      "2022-07                         0       0         0                  0    4476\n",
      "2022-08                         0       0         0                  0    4481\n",
      "2022-09                         0       0         0                  0    4336\n",
      "2022-10                         0       0         0                  0    4484\n",
      "2022-11                         0       0         0                  0    3571\n",
      "2022-12                         0       0        62                  0    4421\n",
      "2023-01                         0       0         0                  0    3690\n",
      "2023-02                         0       0        36                  0    3159\n",
      "2023-03                         0       0         0                  0    4476\n",
      "2023-04                         0       0        63                  0    4148\n",
      "2023-05                         0       0         0                  0    3965\n",
      "2023-06                         0       0         1                  0    4329\n",
      "2023-07                         0       0         0                  0    3885\n",
      "2023-08                         0       0      1281                  0    1267\n",
      "2023-09                         0       0      2477                  0       0\n",
      "2023-10                         0       0       960                  0       0\n",
      "2023-11                         0       0       810                  0    1556\n",
      "2023-12                         0       0         0                  0    1389\n",
      "2024-01                         0       0         0                  0    3264\n",
      "2024-02                         0       0         0                  0    3689\n",
      "2024-03                         0       0         8                  0    4024\n",
      "2024-04                         0       0       377                  0    4028\n",
      "2024-05                         0       0       291                  0    3572\n",
      "2024-06                         0       0        64                  0    3297\n",
      "2024-07                         0       0       226                  0    2962\n",
      "2024-08                         0       0       533               2055    2651\n",
      "2024-09                         0       0       125                  0    3524\n",
      "2024-10                       204      63        62                226    3311\n",
      "2024-11                         0       0       371                133    3196\n",
      "2024-12                         1    2427       213                  0    1551\n",
      "error_category  Erro Consistência  ErroTO  ErroTOCF  ManualEquipamento  Normal\n",
      "year_month                                                                    \n",
      "2020-02                      0.00    0.00      1.53               0.00   98.47\n",
      "2020-03                      0.00    0.00     68.58               0.00   31.42\n",
      "2020-04                      0.00    0.00     16.34               0.00   83.66\n",
      "2020-05                      0.00    0.00      2.84               9.97   87.19\n",
      "2020-06                      0.00    0.00      0.08               0.00   99.92\n",
      "2020-07                      0.00    0.00      0.04               0.00   99.96\n",
      "2020-08                      0.00    0.00      0.05               0.00   99.95\n",
      "2020-09                      0.00    0.00      0.00               0.00  100.00\n",
      "2020-10                      0.00    0.00      0.00               0.00  100.00\n",
      "2020-11                      0.00    0.00      1.20               0.16   98.64\n",
      "2020-12                      0.00    0.00      0.00               0.00  100.00\n",
      "2021-01                      0.00    0.00      0.02               1.64   98.34\n",
      "2021-02                      0.00    0.00      0.00               0.00  100.00\n",
      "2021-03                      0.00    0.00      0.06              15.60   84.34\n",
      "2021-04                      0.00    0.00      0.00               0.00  100.00\n",
      "2021-05                      0.00    0.00      1.34               0.00   98.66\n",
      "2021-06                      0.00    0.00      0.00               0.00  100.00\n",
      "2021-07                      0.00    0.00      0.00               0.00  100.00\n",
      "2021-08                      0.00    0.00     19.58               0.00   80.42\n",
      "2021-09                      0.00    0.00      1.57               0.00   98.43\n",
      "2021-10                      0.00    0.00      8.62               0.00   91.38\n",
      "2021-11                      0.00    0.00      0.00               0.00  100.00\n",
      "2021-12                      0.00    0.00      5.05               0.00   94.95\n",
      "2022-01                      0.00    0.00      0.00               0.00  100.00\n",
      "2022-02                      0.00    0.00      4.36               0.00   95.64\n",
      "2022-03                      0.00    0.00      0.67               0.00   99.33\n",
      "2022-04                      0.00    0.00      0.00               0.00  100.00\n",
      "2022-05                      0.00    0.00      0.00               0.00  100.00\n",
      "2022-06                      0.00    0.00      0.37               0.00   99.63\n",
      "2022-07                      0.00    0.00      0.00               0.00  100.00\n",
      "2022-08                      0.00    0.00      0.00               0.00  100.00\n",
      "2022-09                      0.00    0.00      0.00               0.00  100.00\n",
      "2022-10                      0.00    0.00      0.00               0.00  100.00\n",
      "2022-11                      0.00    0.00      0.00               0.00  100.00\n",
      "2022-12                      0.00    0.00      1.38               0.00   98.62\n",
      "2023-01                      0.00    0.00      0.00               0.00  100.00\n",
      "2023-02                      0.00    0.00      1.13               0.00   98.87\n",
      "2023-03                      0.00    0.00      0.00               0.00  100.00\n",
      "2023-04                      0.00    0.00      1.50               0.00   98.50\n",
      "2023-05                      0.00    0.00      0.00               0.00  100.00\n",
      "2023-06                      0.00    0.00      0.02               0.00   99.98\n",
      "2023-07                      0.00    0.00      0.00               0.00  100.00\n",
      "2023-08                      0.00    0.00     50.27               0.00   49.73\n",
      "2023-09                      0.00    0.00    100.00               0.00    0.00\n",
      "2023-10                      0.00    0.00    100.00               0.00    0.00\n",
      "2023-11                      0.00    0.00     34.23               0.00   65.77\n",
      "2023-12                      0.00    0.00      0.00               0.00  100.00\n",
      "2024-01                      0.00    0.00      0.00               0.00  100.00\n",
      "2024-02                      0.00    0.00      0.00               0.00  100.00\n",
      "2024-03                      0.00    0.00      0.20               0.00   99.80\n",
      "2024-04                      0.00    0.00      8.56               0.00   91.44\n",
      "2024-05                      0.00    0.00      7.53               0.00   92.47\n",
      "2024-06                      0.00    0.00      1.90               0.00   98.10\n",
      "2024-07                      0.00    0.00      7.09               0.00   92.91\n",
      "2024-08                      0.00    0.00     10.17              39.23   50.60\n",
      "2024-09                      0.00    0.00      3.43               0.00   96.57\n",
      "2024-10                      5.28    1.63      1.60               5.85   85.64\n",
      "2024-11                      0.00    0.00     10.03               3.59   86.38\n",
      "2024-12                      0.02   57.90      5.08               0.00   37.00\n"
     ]
    }
   ],
   "source": [
    "print(\"\\n1a) Status Normal X Erros (Mensal):\")\n",
    "print(monthly_status_counts)\n",
    "print(monthly_status_percentages)"
   ]
  },
  {
   "cell_type": "code",
   "execution_count": 23,
   "metadata": {},
   "outputs": [
    {
     "name": "stdout",
     "output_type": "stream",
     "text": [
      "\n",
      "1b) Tipos de Erro (Geral):\n",
      "error_category\n",
      "ErroTOCF             14542\n",
      "ManualEquipamento     3740\n",
      "ErroTO                2490\n",
      "Erro Consistência      205\n",
      "Name: count, dtype: int64\n",
      "error_category\n",
      "ErroTOCF             69.32\n",
      "ManualEquipamento    17.83\n",
      "ErroTO               11.87\n",
      "Erro Consistência     0.98\n",
      "Name: count, dtype: float64\n"
     ]
    }
   ],
   "source": [
    "print(\"\\n1b) Tipos de Erro (Geral):\")\n",
    "print(error_counts)\n",
    "print(error_percentages)"
   ]
  },
  {
   "cell_type": "code",
   "execution_count": 24,
   "metadata": {},
   "outputs": [
    {
     "name": "stdout",
     "output_type": "stream",
     "text": [
      "\n",
      "1b) Tipos de Erro (Mensal):\n",
      "error_category  Erro Consistência  ErroTO  ErroTOCF  ManualEquipamento\n",
      "year_month                                                            \n",
      "2020-02                         0       0        53                  0\n",
      "2020-03                         0       0      3617                  0\n",
      "2020-04                         0       0       764                  0\n",
      "2020-05                         0       0       140                492\n",
      "2020-06                         0       0         3                  0\n",
      "2020-07                         0       0         2                  0\n",
      "2020-08                         0       0         2                  0\n",
      "2020-11                         0       0        52                  7\n",
      "2021-01                         0       0         1                 74\n",
      "2021-03                         0       0         3                753\n",
      "2021-05                         0       0        60                  0\n",
      "2021-08                         0       0       961                  0\n",
      "2021-09                         0       0        68                  0\n",
      "2021-10                         0       0       403                  0\n",
      "2021-12                         0       0       231                  0\n",
      "2022-02                         0       0       176                  0\n",
      "2022-03                         0       0        30                  0\n",
      "2022-06                         0       0        16                  0\n",
      "2022-12                         0       0        62                  0\n",
      "2023-02                         0       0        36                  0\n",
      "2023-04                         0       0        63                  0\n",
      "2023-06                         0       0         1                  0\n",
      "2023-08                         0       0      1281                  0\n",
      "2023-09                         0       0      2477                  0\n",
      "2023-10                         0       0       960                  0\n",
      "2023-11                         0       0       810                  0\n",
      "2024-03                         0       0         8                  0\n",
      "2024-04                         0       0       377                  0\n",
      "2024-05                         0       0       291                  0\n",
      "2024-06                         0       0        64                  0\n",
      "2024-07                         0       0       226                  0\n",
      "2024-08                         0       0       533               2055\n",
      "2024-09                         0       0       125                  0\n",
      "2024-10                       204      63        62                226\n",
      "2024-11                         0       0       371                133\n",
      "2024-12                         1    2427       213                  0\n",
      "error_category  Erro Consistência  ErroTO  ErroTOCF  ManualEquipamento\n",
      "year_month                                                            \n",
      "2020-02                      0.00    0.00    100.00               0.00\n",
      "2020-03                      0.00    0.00    100.00               0.00\n",
      "2020-04                      0.00    0.00    100.00               0.00\n",
      "2020-05                      0.00    0.00     22.15              77.85\n",
      "2020-06                      0.00    0.00    100.00               0.00\n",
      "2020-07                      0.00    0.00    100.00               0.00\n",
      "2020-08                      0.00    0.00    100.00               0.00\n",
      "2020-11                      0.00    0.00     88.14              11.86\n",
      "2021-01                      0.00    0.00      1.33              98.67\n",
      "2021-03                      0.00    0.00      0.40              99.60\n",
      "2021-05                      0.00    0.00    100.00               0.00\n",
      "2021-08                      0.00    0.00    100.00               0.00\n",
      "2021-09                      0.00    0.00    100.00               0.00\n",
      "2021-10                      0.00    0.00    100.00               0.00\n",
      "2021-12                      0.00    0.00    100.00               0.00\n",
      "2022-02                      0.00    0.00    100.00               0.00\n",
      "2022-03                      0.00    0.00    100.00               0.00\n",
      "2022-06                      0.00    0.00    100.00               0.00\n",
      "2022-12                      0.00    0.00    100.00               0.00\n",
      "2023-02                      0.00    0.00    100.00               0.00\n",
      "2023-04                      0.00    0.00    100.00               0.00\n",
      "2023-06                      0.00    0.00    100.00               0.00\n",
      "2023-08                      0.00    0.00    100.00               0.00\n",
      "2023-09                      0.00    0.00    100.00               0.00\n",
      "2023-10                      0.00    0.00    100.00               0.00\n",
      "2023-11                      0.00    0.00    100.00               0.00\n",
      "2024-03                      0.00    0.00    100.00               0.00\n",
      "2024-04                      0.00    0.00    100.00               0.00\n",
      "2024-05                      0.00    0.00    100.00               0.00\n",
      "2024-06                      0.00    0.00    100.00               0.00\n",
      "2024-07                      0.00    0.00    100.00               0.00\n",
      "2024-08                      0.00    0.00     20.60              79.40\n",
      "2024-09                      0.00    0.00    100.00               0.00\n",
      "2024-10                     36.76   11.35     11.17              40.72\n",
      "2024-11                      0.00    0.00     73.61              26.39\n",
      "2024-12                      0.04   91.90      8.07               0.00\n"
     ]
    }
   ],
   "source": [
    "print(\"\\n1b) Tipos de Erro (Mensal):\")\n",
    "print(total_monthly_errors)\n",
    "print(monthly_error_percentages)"
   ]
  },
  {
   "cell_type": "code",
   "execution_count": 25,
   "metadata": {},
   "outputs": [
    {
     "name": "stdout",
     "output_type": "stream",
     "text": [
      "\n",
      "2) Máximas e Mínimas Absolutas por Ano:\n",
      "      min   max\n",
      "year           \n",
      "2020  4.0  54.0\n",
      "2021  0.0  55.0\n",
      "2022  4.0  54.0\n",
      "2023  0.0  58.8\n",
      "2024  0.3  63.2\n"
     ]
    }
   ],
   "source": [
    "print(\"\\n2) Máximas e Mínimas Absolutas por Ano:\")\n",
    "print(yearly_stats)"
   ]
  },
  {
   "cell_type": "code",
   "execution_count": 26,
   "metadata": {},
   "outputs": [
    {
     "name": "stdout",
     "output_type": "stream",
     "text": [
      "\n",
      "2) Máximas e Mínimas Absolutas por Mês e Ano:\n",
      "    year  month   min   max\n",
      "0   2020      2  15.0  52.0\n",
      "1   2020      3  14.0  52.0\n",
      "2   2020      4  11.0  48.0\n",
      "3   2020      5   4.0  41.0\n",
      "4   2020      6   8.0  44.0\n",
      "5   2020      7   4.0  42.0\n",
      "6   2020      8   7.0  47.0\n",
      "7   2020      9  13.0  52.0\n",
      "8   2020     10  14.0  53.0\n",
      "9   2020     11  10.0  54.0\n",
      "10  2020     12  17.0  54.0\n",
      "11  2021      1  16.0  55.0\n",
      "12  2021      2  15.0  52.0\n",
      "13  2021      3  15.0  51.0\n",
      "14  2021      4  11.0  47.0\n",
      "15  2021      5   7.0  44.0\n",
      "16  2021      6   2.0  42.0\n",
      "17  2021      7   0.0  45.0\n",
      "18  2021      8   7.0  49.0\n",
      "19  2021      9  12.0  50.0\n",
      "20  2021     10  12.0  49.0\n",
      "21  2021     11  12.0  55.0\n",
      "22  2021     12  14.0  52.0\n",
      "23  2022      1  17.0  53.0\n",
      "24  2022      2  16.0  49.0\n",
      "25  2022      3  17.0  50.0\n",
      "26  2022      4   9.0  50.0\n",
      "27  2022      5   4.0  47.0\n",
      "28  2022      6   5.0  43.0\n",
      "29  2022      7   8.0  45.0\n",
      "30  2022      8   6.0  48.0\n",
      "31  2022      9   8.0  49.0\n",
      "32  2022     10  14.0  54.0\n",
      "33  2022     11  11.0  54.0\n",
      "34  2022     12  15.0  52.0\n",
      "35  2023      1  16.0  54.0\n",
      "36  2023      2  19.0  49.0\n",
      "37  2023      3  17.0  48.0\n",
      "38  2023      4  11.0  44.0\n",
      "39  2023      5   8.0  42.0\n",
      "40  2023      6   0.0  36.0\n",
      "41  2023      7   5.0  41.0\n",
      "42  2023      8  13.0  46.0\n",
      "43  2023     11  15.5  57.6\n",
      "44  2023     12  13.8  58.8\n",
      "45  2024      1  13.9  57.6\n",
      "46  2024      2  16.0  57.7\n",
      "47  2024      3  11.8  56.2\n",
      "48  2024      4  12.3  51.5\n",
      "49  2024      5   4.6  48.3\n",
      "50  2024      6   9.1  43.2\n",
      "51  2024      7   6.3  43.4\n",
      "52  2024      8   3.1  48.6\n",
      "53  2024      9  11.5  51.4\n",
      "54  2024     10   0.3  51.5\n",
      "55  2024     11   6.8  60.6\n",
      "56  2024     12  14.8  63.2\n"
     ]
    }
   ],
   "source": [
    "print(\"\\n2) Máximas e Mínimas Absolutas por Mês e Ano:\")\n",
    "print(monthly_stats)"
   ]
  },
  {
   "cell_type": "markdown",
   "metadata": {},
   "source": [
    "## Gráfico de máximas e mínimas de erros em percentual"
   ]
  },
  {
   "cell_type": "code",
   "execution_count": 33,
   "metadata": {},
   "outputs": [
    {
     "data": {
      "image/png": "[encoded data removed]",
      "text/plain": [
       "<Figure size 1200x600 with 1 Axes>"
      ]
     },
     "metadata": {},
     "output_type": "display_data"
    }
   ],
   "source": [
    "# Gráfico de máximas e mínimas de erros em percentual\n",
    "graph_data = monthly_error_percentages.agg(['min', 'max']).T.reset_index()\n",
    "graph_data.columns = ['Error Category', 'Min (%)', 'Max (%)']\n",
    "\n",
    "plt.figure(figsize=(12, 6))\n",
    "bar_width = 0.4\n",
    "index = np.arange(len(graph_data))\n",
    "\n",
    "bars_min = plt.bar(index, graph_data['Min (%)'], bar_width, label='Min (%)', color='skyblue')\n",
    "bars_max = plt.bar(index + bar_width, graph_data['Max (%)'], bar_width, label='Max (%)', color='salmon')\n",
    "\n",
    "for bar in bars_min:\n",
    "    plt.text(bar.get_x() + bar.get_width() / 2, bar.get_height() + 0.5, f'{bar.get_height():.1f}%', ha='center', va='bottom', fontsize=9)\n",
    "for bar in bars_max:\n",
    "    plt.text(bar.get_x() + bar.get_width() / 2, bar.get_height() + 0.5, f'{bar.get_height():.1f}%', ha='center', va='bottom', fontsize=9)\n",
    "\n",
    "plt.xlabel('Error Category')\n",
    "plt.ylabel('Percentual')\n",
    "plt.title('Porcentagens mínimas e máximas de erro por categoria')\n",
    "plt.xticks(index + bar_width / 2, graph_data['Error Category'], rotation=45)\n",
    "plt.legend()\n",
    "plt.tight_layout()\n",
    "plt.show()"
   ]
  },
  {
   "cell_type": "markdown",
   "metadata": {},
   "source": [
    "## Gráfico de máximas e mínimas por ano"
   ]
  },
  {
   "cell_type": "code",
   "execution_count": 31,
   "metadata": {},
   "outputs": [
    {
     "data": {
      "image/png": "[encoded data removed]",
      "text/plain": [
       "<Figure size 1000x600 with 1 Axes>"
      ]
     },
     "metadata": {},
     "output_type": "display_data"
    }
   ],
   "source": [
    "yearly_stats = {\n",
    "    'year': [2020, 2021, 2022, 2023, 2024],\n",
    "    'min': [4.0, 0.0, 4.0, 0.0, 0.3],\n",
    "    'max': [54.0, 55.0, 54.0, 58.8, 63.2]\n",
    "}\n",
    "\n",
    "years = yearly_stats['year']\n",
    "mins = yearly_stats['min']\n",
    "maxs = yearly_stats['max']\n",
    "\n",
    "plt.figure(figsize=(10, 6))\n",
    "\n",
    "plt.plot(years, mins, marker='o', label='Min Temperaturas', color='skyblue')\n",
    "plt.plot(years, maxs, marker='o', label='Max Temperaturas', color='salmon')\n",
    "\n",
    "for i, (year, min_temp, max_temp) in enumerate(zip(years, mins, maxs)):\n",
    "    plt.text(year, min_temp - 2, f'{min_temp:.1f}', ha='center', va='bottom', fontsize=9, color='blue')\n",
    "    plt.text(year, max_temp + 1, f'{max_temp:.1f}', ha='center', va='bottom', fontsize=9, color='red')\n",
    "\n",
    "plt.xlabel('Year')\n",
    "plt.ylabel('Temperatura (°C)')\n",
    "plt.title('Temperaturas mínimas e máximas anuais')\n",
    "plt.legend()\n",
    "plt.grid(True, linestyle='--', alpha=0.6)\n",
    "plt.tight_layout()\n",
    "plt.show()\n"
   ]
  },
  {
   "cell_type": "code",
   "execution_count": 32,
   "metadata": {},
   "outputs": [
    {
     "data": {
      "image/png": "[encoded data removed]",
      "text/plain": [
       "<Figure size 1200x600 with 1 Axes>"
      ]
     },
     "metadata": {},
     "output_type": "display_data"
    }
   ],
   "source": [
    "monthly_stats = pd.DataFrame(monthly_stats)\n",
    "\n",
    "plt.figure(figsize=(12, 6))\n",
    "\n",
    "for year in monthly_stats['year'].unique():\n",
    "    subset = monthly_stats[monthly_stats['year'] == year]\n",
    "    plt.plot(subset['month'], subset['max'], label=f'Máxima {year}', marker='o', linestyle='-', linewidth=2)\n",
    "\n",
    "for year in monthly_stats['year'].unique():\n",
    "    subset = monthly_stats[monthly_stats['year'] == year]\n",
    "    plt.plot(subset['month'], subset['min'], label=f'Mínima {year}', marker='o', linestyle='--', linewidth=2)\n",
    "\n",
    "plt.title('Máximas e Mínimas Absolutas por Mês e Ano', fontsize=14)\n",
    "plt.xlabel('Mês', fontsize=12)\n",
    "plt.ylabel('Temperatura (°C)', fontsize=12)\n",
    "plt.xticks(monthly_stats['month'].unique(), labels=[f'Mês {i}' for i in monthly_stats['month'].unique()], rotation=45)\n",
    "plt.grid(True)\n",
    "plt.legend()\n",
    "\n",
    "plt.tight_layout()\n",
    "plt.show()"
   ]
  },
  {
   "cell_type": "code",
   "execution_count": 34,
   "metadata": {},
   "outputs": [],
   "source": [
    "df_normal.to_csv(\"C:/Users/Cristiano/OneDrive - Belago Technologies/Documentos/projeto_fnt/data/dataframe_concat.csv\", index=False)"
   ]
  },
  {
   "cell_type": "code",
   "execution_count": null,
   "metadata": {},
   "outputs": [],
   "source": []
  }
 ],
 "metadata": {
  "kernelspec": {
   "display_name": "venv",
   "language": "python",
   "name": "python3"
  },
  "language_info": {
   "codemirror_mode": {
    "name": "ipython",
    "version": 3
   },
   "file_extension": ".py",
   "mimetype": "text/x-python",
   "name": "python",
   "nbconvert_exporter": "python",
   "pygments_lexer": "ipython3",
   "version": "3.10.11"
  }
 },
 "nbformat": 4,
 "nbformat_minor": 2
}
